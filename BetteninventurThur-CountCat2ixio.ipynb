{
 "cells": [
  {
   "cell_type": "markdown",
   "metadata": {},
   "source": [
    "# Count them All \n",
    "version:  Wed Aug 12 18:09:43 UTC 2020"
   ]
  },
  {
   "cell_type": "code",
   "execution_count": 1,
   "metadata": {},
   "outputs": [
    {
     "data": {
      "application/javascript": [
       "IPython.notebook.set_autosave_interval(20000)"
      ]
     },
     "metadata": {},
     "output_type": "display_data"
    },
    {
     "name": "stdout",
     "output_type": "stream",
     "text": [
      "Autosaving every 20 seconds\n"
     ]
    }
   ],
   "source": [
    "%autosave 20"
   ]
  },
  {
   "cell_type": "code",
   "execution_count": 2,
   "metadata": {},
   "outputs": [
    {
     "name": "stdout",
     "output_type": "stream",
     "text": [
      "Ähmm, what a day?\n",
      "Wed Apr 14 15:08:48 UTC 2021\n"
     ]
    }
   ],
   "source": [
    "! echo \"Ähmm, what a day?\"; date"
   ]
  },
  {
   "cell_type": "code",
   "execution_count": 3,
   "metadata": {},
   "outputs": [
    {
     "name": "stdout",
     "output_type": "stream",
     "text": [
      "start in progress   ¯\\_(ツ)_/¯  (3 sec to kill by ctrl-c)\n"
     ]
    }
   ],
   "source": [
    "! echo 'start in progress   ¯\\_(ツ)_/¯  (3 sec to kill by ctrl-c)'\n",
    "! sleep 3\n",
    "! # for keep alive: watch 50 date"
   ]
  },
  {
   "cell_type": "markdown",
   "metadata": {},
   "source": [
    "### to do aka not yet solved\n",
    "- json output 2 ix\n",
    "- may be: json array better than object in this case? \n",
    "all are paired:{date: value, counters : {<bedTyp> : count, ...}}\n",
    "    to validate if json == ok?\n",
    "- t-line ready data in ix\n",
    "- t-line plot"
   ]
  },
  {
   "cell_type": "markdown",
   "metadata": {},
   "source": [
    "ok!, & what to do? - Looking for freebeds in state of thuringia!\n"
   ]
  },
  {
   "cell_type": "markdown",
   "metadata": {},
   "source": [
    "so we need some hammer and steel .. hammer:"
   ]
  },
  {
   "cell_type": "code",
   "execution_count": 4,
   "metadata": {},
   "outputs": [
    {
     "name": "stdout",
     "output_type": "stream",
     "text": [
      "hammer? -ah, a hammer:\n",
      "\n",
      "Thanks for using webi to install 'jq' on 'linux/amd64'.\n",
      "Have a problem? Experience a bug? Please let us know:\n",
      "        https://github.com/webinstall/packages/issues\n",
      "\n",
      "Downloading jq from\n",
      "https://github.com/stedolan/jq/releases/download/jq-1.6/jq-linux64\n",
      "\n",
      "Saved as /home/jovyan/Downloads/jq-linux64\n",
      "Moving /home/jovyan/Downloads/jq-linux64\n",
      "Installing to /home/jovyan/.local/opt/jq-v1.6/bin/jq\n",
      "Installed 'jq' v1.6 as /home/jovyan/.local/bin/jq\n",
      "\n"
     ]
    }
   ],
   "source": [
    "! echo \"hammer? -ah, a hammer:\";  \n",
    "! curl -s https://webinstall.dev/jq | bash"
   ]
  },
  {
   "cell_type": "code",
   "execution_count": 5,
   "metadata": {},
   "outputs": [
    {
     "name": "stdout",
     "output_type": "stream",
     "text": [
      "Is the hammer ready now?\n",
      "jq - commandline JSON processor [version 1.6]\n",
      "\n",
      "Usage:\tjq [options] <jq filter> [file...]\n",
      "\tjq [options] --args <jq filter> [strings...]\n",
      "\tjq [options] --jsonargs <jq filter> [JSON_TEXTS...]\n",
      "\n",
      "jq is a tool for processing JSON inputs, applying the given filter to\n",
      "its JSON text inputs and producing the filter's results as JSON on\n",
      "standard output.\n",
      "\n",
      "The simplest filter is ., which copies jq's input to its output\n",
      "unmodified (except for formatting, but note that IEEE754 is used\n",
      "for number representation internally, with all that that implies).\n",
      "\n",
      "For more advanced filters see the jq(1) manpage (\"man jq\")\n",
      "and/or https://stedolan.github.io/jq\n",
      "\n",
      "Example:\n",
      "\n",
      "\t$ echo '{\"foo\": 0}' | jq .\n",
      "\t{\n",
      "\t\t\"foo\": 0\n",
      "\t}\n",
      "\n",
      "Some of the options include:\n",
      "  -c               compact instead of pretty-printed output;\n",
      "  -n               use `null` as the single input value;\n",
      "  -e               set the exit status code based on the output;\n",
      "  -s               read (slurp) all inputs into an array; apply filter to it;\n",
      "  -r               output raw strings, not JSON texts;\n",
      "  -R               read raw strings, not JSON texts;\n",
      "  -C               colorize JSON;\n",
      "  -M               monochrome (don't colorize JSON);\n",
      "  -S               sort keys of objects on output;\n",
      "  --tab            use tabs for indentation;\n",
      "  --arg a v        set variable $a to value <v>;\n",
      "  --argjson a v    set variable $a to JSON value <v>;\n",
      "  --slurpfile a f  set variable $a to an array of JSON texts read from <f>;\n",
      "  --rawfile a f    set variable $a to a string consisting of the contents of <f>;\n",
      "  --args           remaining arguments are string arguments, not files;\n",
      "  --jsonargs       remaining arguments are JSON arguments, not files;\n",
      "  --               terminates argument processing;\n",
      "\n",
      "Named arguments are also available as $ARGS.named[], while\n",
      "positional arguments are available as $ARGS.positional[].\n",
      "\n",
      "See the manpage for more options.\n"
     ]
    }
   ],
   "source": [
    "! echo \"Is the hammer ready now?\"; jq --help"
   ]
  },
  {
   "cell_type": "markdown",
   "metadata": {},
   "source": [
    "this lightwight hammer seems as a good working tool, ok."
   ]
  },
  {
   "cell_type": "markdown",
   "metadata": {},
   "source": [
    "to hammer on it, we need also steel.\n",
    "\n",
    "\"Morgenpost\" say's had some steel for us:"
   ]
  },
  {
   "cell_type": "code",
   "execution_count": 6,
   "metadata": {},
   "outputs": [
    {
     "name": "stdout",
     "output_type": "stream",
     "text": [
      "  % Total    % Received % Xferd  Average Speed   Time    Time     Time  Current\n",
      "                                 Dload  Upload   Total   Spent    Left  Speed\n",
      "  0     0    0     0    0     0      0      0 --:--:-- --:--:-- --:--:--     0curl: (6) Could not resolve host: curl\n",
      "100   365    0   365    0     0    336      0 --:--:--  0:00:01 --:--:--  2851\n",
      "<!DOCTYPE HTML PUBLIC \"-//IETF//DTD HTML 2.0//EN\">\n",
      "<html><head>\n",
      "<title>301 Moved Permanently</title>\n",
      "</head><body>\n",
      "<h1>Moved Permanently</h1>\n",
      "<p>The document has moved <a href=\"https://interaktiv.morgenpost.de/data/corona/intensivregister.json\">here</a>.</p>\n",
      "<hr>\n",
      "<address>Apache/2.2.22 (Debian) Server at interaktiv.morgenpost.de Port 443</address>\n",
      "</body></html>\n"
     ]
    }
   ],
   "source": [
    "! curl curl https://interaktiv.morgenpost.de/corona-deutschland-intensiv-betten-monitor-krankenhaus-auslastung/data/intensivregister.json | tail"
   ]
  },
  {
   "cell_type": "code",
   "execution_count": 7,
   "metadata": {},
   "outputs": [
    {
     "name": "stdout",
     "output_type": "stream",
     "text": [
      "So go fw 2 this:\n",
      "  % Total    % Received % Xferd  Average Speed   Time    Time     Time  Current\n",
      "                                 Dload  Upload   Total   Spent    Left  Speed\n",
      "100 1266k  100 1266k    0     0   889k      0  0:00:01  0:00:01 --:--:--  889k\n",
      "\t\t\t\"statusECMO\": \"KEINE_ANGABE\"\n",
      "\t\t},\n",
      "\t\t\"behandlungsschwerpunktL1\": [\n",
      "\t\t\t\"ERWACHSENE\"\n",
      "\t\t],\n",
      "\t\t\"behandlungsschwerpunktL2\": [],\n",
      "\t\t\"behandlungsschwerpunktL3\": [],\n",
      "\t\t\"label\": \"Klinikum Nordfriesland gGmbH - Klinik Husum und Klinik Niebüll, Klinik Niebüll\"\n",
      "\t}\n",
      "]"
     ]
    }
   ],
   "source": [
    "! echo \"So go fw 2 this:\"; curl https://interaktiv.morgenpost.de/data/corona/intensivregister.json | tail"
   ]
  },
  {
   "cell_type": "markdown",
   "metadata": {},
   "source": [
    "we are lucky!"
   ]
  },
  {
   "cell_type": "code",
   "execution_count": 8,
   "metadata": {},
   "outputs": [
    {
     "name": "stdout",
     "output_type": "stream",
     "text": [
      "  % Total    % Received % Xferd  Average Speed   Time    Time     Time  Current\n",
      "                                 Dload  Upload   Total   Spent    Left  Speed\n",
      "100 1266k  100 1266k    0     0  1043k      0  0:00:01  0:00:01 --:--:-- 1043k\n"
     ]
    }
   ],
   "source": [
    "! curl https://interaktiv.morgenpost.de/data/corona/intensivregister.json -o BettenAllDE.json"
   ]
  },
  {
   "cell_type": "markdown",
   "metadata": {},
   "source": [
    " \n",
    " Problem   Problem  Problem   Problem  Problem   Problem  \n",
    " Problem   Problem  Problem   Problem  Problem   Problem  "
   ]
  },
  {
   "cell_type": "code",
   "execution_count": 9,
   "metadata": {},
   "outputs": [],
   "source": [
    "! # this was 1st try\n",
    "! #echo '{\t\"rowCountDummy\": 9999,\t\"data\":\"' > Btmp\n",
    "! #mv BettenAllDE.json Btmp2; mv Btmp BettenAllDE.json; cat Btmp2 >> BettenAllDE.json\n",
    "! #echo '}' >> BettenAllDE.json"
   ]
  },
  {
   "cell_type": "markdown",
   "metadata": {},
   "source": [
    "BettenAllDE-Copy1.json = top of \"old\" file with correct json syntax"
   ]
  },
  {
   "cell_type": "markdown",
   "metadata": {},
   "source": [
    "BettenAllDE.json = \"cuted by divi OR funke / no head\""
   ]
  },
  {
   "cell_type": "code",
   "execution_count": 10,
   "metadata": {},
   "outputs": [],
   "source": [
    "! # push head-artefact BettenAllDE-Copy1.json\n",
    "! cp BettenAllDE-Copy1.json push.BettenAllDE-Copy1.json\n",
    "! # operate\n",
    "! cat BettenAllDE.json >> BettenAllDE-Copy1.json\n",
    "! rm BettenAllDE.json\n",
    "! mv BettenAllDE-Copy1.json BettenAllDE.json\n",
    "! echo '}' >> BettenAllDE.json\n",
    "! # pop head-artefact BettenAllDE-Copy1.json\n",
    "! cp push.BettenAllDE-Copy1.json BettenAllDE-Copy1.json\n"
   ]
  },
  {
   "cell_type": "code",
   "execution_count": 11,
   "metadata": {},
   "outputs": [
    {
     "name": "stdout",
     "output_type": "stream",
     "text": [
      "{\n",
      "\t\"rowCount\": 1303,\n",
      "\t\"data\": [\n",
      "\t{\n",
      "\t\t\"krankenhausStandort\": {\n",
      "\t\t\t\"id\": \"771001\",\n",
      "\t\t\t\"bezeichnung\": \"Martin-Luther-Krankenhaus, Martin-Luther-Krankenhaus gGmbH\",\n",
      "\t\t\t\"strasse\": \"Voedestr.\",\n",
      "\t\t\t\"hausnummer\": \"79\",\n",
      "\t\t\t\"plz\": \"44866\",\n",
      "\t\t\t\"ort\": \"Bochum\",\n",
      "\t\t\t\"bundesland\": \"NORDRHEIN_WESTFALEN\",\n",
      "\t\t\t\"ikNummer\": \"260590128\",\n",
      "\t\t\t\"position\": {\n",
      "\t\t\t\t\"latitude\": 51.482600598782,\n",
      "\t\t\t\t\"longitude\": 7.143525660022\n",
      "\t\t\t},\n",
      "\t\t\t\"gemeindeschluessel\": \"05911000\"\n",
      "\t\t},\n",
      "\t\t\"oldestMeldezeitpunkt\": \"2021-04-14T09:34:24Z\",\n",
      "\t\t\"meldebereiche\": [\n",
      "\t\t\t\"KKB / Martin-Luther-Krankenhaus\"\n",
      "\t\t],\n",
      "\t\t\"maxBettenStatusEinschaetzungHighCare\": \"VERFUEGBAR\",\n",
      "\t\t\"id\": \"771001\",\n",
      "\t\t\"meldezeitpunkt\": \"2021-04-14T09:34:24Z\",\n",
      "\t\t\"bettenStatus\": {\n",
      "\t\t\t\"statusLowCare\": \"BEGRENZT\",\n",
      "\t\t\t\"statusHighCare\": \"VERFUEGBAR\",\n",
      "\t\t\t\"statusECMO\": \"KEINE_ANGABE\"\n",
      "\t\t},\n",
      "\t\t\"behandlungsschwerpunktL1\": [\n",
      "\t\t\t\"ERWACHSENE\"\n",
      "\t\t],\n",
      "\t\t\"behandlungsschwerpunktL2\": [],\n",
      "\t\t\"behandlungsschwerpunktL3\": [],\n",
      "\t\t\"label\": \"Martin-Luther-Krankenhaus, Martin-Luther-Krankenhaus gGmbH\"\n",
      "\t},\n",
      "\t{\n",
      "\t\t\"krankenhausStandort\": {\n"
     ]
    }
   ],
   "source": [
    "! head -n 40 BettenAllDE.json"
   ]
  },
  {
   "cell_type": "raw",
   "metadata": {},
   "source": [
    "! cat BettenAllDE.json | jq '.data[] reduce .[] .faelleCovidAktuell as $item (0; . + $item)'"
   ]
  },
  {
   "cell_type": "markdown",
   "metadata": {},
   "source": [
    "what the heck?\n",
    "\n",
    "in jq  https://jqplay.org/# play ok\n",
    "but not in cli ...:\n",
    "\n",
    "reduce .label[] .foo as $item (0; . + $item)\n",
    "\n",
    "***\n",
    "\n",
    "in:\n",
    "\n",
    "{\"label\":\n",
    "[\n",
    "{\"foo\": 10},\n",
    "{\"foo\": 21},\n",
    "{\"foo\": 42}\n",
    "]}\n",
    "\n",
    "\n",
    "out:\n",
    "\n",
    "73\n",
    "\n",
    "***\n",
    "\n",
    "in:\n",
    "\n",
    "! cat BettenAllDE.json | jq '.data[] reduce .[] .faelleCovidAktuell as $item (0; . + $item)'\n",
    "\n",
    "out:\n",
    "\n",
    "... unexpected reduce, expecting $end ... (-> above)\n",
    "\n",
    "***\n",
    "\n",
    "so we must go by shell awk ...\n",
    "not at all\n",
    "but would be nice somebody find out a solution only with jq!"
   ]
  },
  {
   "cell_type": "code",
   "execution_count": 12,
   "metadata": {},
   "outputs": [
    {
     "name": "stdout",
     "output_type": "stream",
     "text": [
      "Wed Apr 14 15:09:25 UTC 2021\n"
     ]
    }
   ],
   "source": [
    "! date"
   ]
  },
  {
   "cell_type": "code",
   "execution_count": 13,
   "metadata": {},
   "outputs": [
    {
     "name": "stdout",
     "output_type": "stream",
     "text": [
      "\u001b[0;32m\"null\"\u001b[0m\n",
      "\u001b[0;32m\"null\"\u001b[0m\n",
      "\u001b[0;32m\"null\"\u001b[0m\n",
      "\u001b[0;32m\"null\"\u001b[0m\n",
      "\u001b[0;32m\"null\"\u001b[0m\n",
      "\u001b[0;32m\"null\"\u001b[0m\n",
      "\u001b[0;32m\"null\"\u001b[0m\n",
      "\u001b[0;32m\"null\"\u001b[0m\n",
      "\u001b[0;32m\"null\"\u001b[0m\n",
      "\u001b[0;32m\"null\"\u001b[0m\n",
      "\u001b[0;32m\"null\"\u001b[0m\n",
      "\u001b[0;32m\"null\"\u001b[0m\n",
      "\u001b[0;32m\"null\"\u001b[0m\n",
      "\u001b[0;32m\"null\"\u001b[0m\n",
      "\u001b[0;32m\"null\"\u001b[0m\n",
      "\u001b[0;32m\"null\"\u001b[0m\n",
      "\u001b[0;32m\"null\"\u001b[0m\n",
      "\u001b[0;32m\"null\"\u001b[0m\n",
      "\u001b[0;32m\"null\"\u001b[0m\n",
      "\u001b[0;32m\"null\"\u001b[0m\n",
      "\u001b[0;32m\"null\"\u001b[0m\n",
      "\u001b[0;32m\"null\"\u001b[0m\n",
      "\u001b[0;32m\"null\"\u001b[0m\n",
      "\u001b[0;32m\"null\"\u001b[0m\n",
      "\u001b[0;32m\"null\"\u001b[0m\n",
      "\u001b[0;32m\"null\"\u001b[0m\n",
      "\u001b[0;32m\"null\"\u001b[0m\n",
      "\u001b[0;32m\"null\"\u001b[0m\n",
      "\u001b[0;32m\"null\"\u001b[0m\n",
      "\u001b[0;32m\"null\"\u001b[0m\n",
      "\u001b[0;32m\"null\"\u001b[0m\n",
      "\u001b[0;32m\"null\"\u001b[0m\n",
      "\u001b[0;32m\"null\"\u001b[0m\n",
      "\u001b[0;32m\"null\"\u001b[0m\n",
      "\u001b[0;32m\"null\"\u001b[0m\n",
      "\u001b[0;32m\"null\"\u001b[0m\n",
      "\u001b[0;32m\"null\"\u001b[0m\n",
      "\u001b[0;32m\"null\"\u001b[0m\n",
      "\u001b[0;32m\"null\"\u001b[0m\n",
      "\u001b[0;32m\"null\"\u001b[0m\n",
      "\u001b[0;32m\"null\"\u001b[0m\n",
      "\u001b[0;32m\"null\"\u001b[0m\n",
      "\u001b[0;32m\"null\"\u001b[0m\n",
      "\u001b[0;32m\"null\"\u001b[0m\n",
      "\u001b[0;32m\"null\"\u001b[0m\n",
      "\u001b[0;32m\"null\"\u001b[0m\n",
      "\u001b[0;32m\"null\"\u001b[0m\n",
      "\u001b[0;32m\"null\"\u001b[0m\n",
      "\u001b[0;32m\"null\"\u001b[0m\n",
      "\u001b[0;32m\"null\"\u001b[0m\n",
      "\u001b[0;32m\"null\"\u001b[0m\n",
      "\u001b[0;32m\"null\"\u001b[0m\n",
      "\u001b[0;32m\"null\"\u001b[0m\n",
      "\u001b[0;32m\"null\"\u001b[0m\n",
      "\u001b[0;32m\"null\"\u001b[0m\n",
      "\u001b[0;32m\"null\"\u001b[0m\n",
      "\u001b[0;32m\"null\"\u001b[0m\n",
      "\u001b[0;32m\"null\"\u001b[0m\n",
      "\u001b[0;32m\"null\"\u001b[0m\n",
      "\u001b[0;32m\"null\"\u001b[0m\n",
      "\u001b[0;32m\"null\"\u001b[0m\n",
      "\u001b[0;32m\"null\"\u001b[0m\n",
      "\u001b[0;32m\"null\"\u001b[0m\n",
      "\u001b[0;32m\"null\"\u001b[0m\n",
      "\u001b[0;32m\"null\"\u001b[0m\n",
      "\u001b[0;32m\"null\"\u001b[0m\n",
      "\u001b[0;32m\"null\"\u001b[0m\n",
      "\u001b[0;32m\"null\"\u001b[0m\n",
      "\u001b[0;32m\"null\"\u001b[0m\n",
      "\u001b[0;32m\"null\"\u001b[0m\n",
      "\u001b[0;32m\"null\"\u001b[0m\n",
      "\u001b[0;32m\"null\"\u001b[0m\n",
      "\u001b[0;32m\"null\"\u001b[0m\n",
      "\u001b[0;32m\"null\"\u001b[0m\n",
      "\u001b[0;32m\"null\"\u001b[0m\n",
      "\u001b[0;32m\"null\"\u001b[0m\n",
      "\u001b[0;32m\"null\"\u001b[0m\n",
      "\u001b[0;32m\"null\"\u001b[0m\n",
      "\u001b[0;32m\"null\"\u001b[0m\n",
      "\u001b[0;32m\"null\"\u001b[0m\n",
      "\u001b[0;32m\"null\"\u001b[0m\n",
      "\u001b[0;32m\"null\"\u001b[0m\n",
      "\u001b[0;32m\"null\"\u001b[0m\n",
      "\u001b[0;32m\"null\"\u001b[0m\n",
      "\u001b[0;32m\"null\"\u001b[0m\n",
      "\u001b[0;32m\"null\"\u001b[0m\n",
      "\u001b[0;32m\"null\"\u001b[0m\n",
      "\u001b[0;32m\"null\"\u001b[0m\n",
      "\u001b[0;32m\"null\"\u001b[0m\n",
      "\u001b[0;32m\"null\"\u001b[0m\n",
      "\u001b[0;32m\"null\"\u001b[0m\n",
      "\u001b[0;32m\"null\"\u001b[0m\n",
      "\u001b[0;32m\"null\"\u001b[0m\n",
      "\u001b[0;32m\"null\"\u001b[0m\n",
      "\u001b[0;32m\"null\"\u001b[0m\n",
      "\u001b[0;32m\"null\"\u001b[0m\n",
      "\u001b[0;32m\"null\"\u001b[0m\n",
      "\u001b[0;32m\"null\"\u001b[0m\n",
      "\u001b[0;32m\"null\"\u001b[0m\n",
      "\u001b[0;32m\"null\"\u001b[0m\n",
      "\u001b[0;32m\"null\"\u001b[0m\n",
      "\u001b[0;32m\"null\"\u001b[0m\n",
      "\u001b[0;32m\"null\"\u001b[0m\n",
      "\u001b[0;32m\"null\"\u001b[0m\n",
      "\u001b[0;32m\"null\"\u001b[0m\n",
      "\u001b[0;32m\"null\"\u001b[0m\n",
      "\u001b[0;32m\"null\"\u001b[0m\n",
      "\u001b[0;32m\"null\"\u001b[0m\n",
      "\u001b[0;32m\"null\"\u001b[0m\n",
      "\u001b[0;32m\"null\"\u001b[0m\n",
      "\u001b[0;32m\"null\"\u001b[0m\n",
      "\u001b[0;32m\"null\"\u001b[0m\n",
      "\u001b[0;32m\"null\"\u001b[0m\n",
      "\u001b[0;32m\"null\"\u001b[0m\n",
      "\u001b[0;32m\"null\"\u001b[0m\n",
      "\u001b[0;32m\"null\"\u001b[0m\n",
      "\u001b[0;32m\"null\"\u001b[0m\n",
      "\u001b[0;32m\"null\"\u001b[0m\n",
      "\u001b[0;32m\"null\"\u001b[0m\n",
      "\u001b[0;32m\"null\"\u001b[0m\n",
      "\u001b[0;32m\"null\"\u001b[0m\n",
      "\u001b[0;32m\"null\"\u001b[0m\n",
      "\u001b[0;32m\"null\"\u001b[0m\n",
      "\u001b[0;32m\"null\"\u001b[0m\n",
      "\u001b[0;32m\"null\"\u001b[0m\n",
      "\u001b[0;32m\"null\"\u001b[0m\n",
      "\u001b[0;32m\"null\"\u001b[0m\n",
      "\u001b[0;32m\"null\"\u001b[0m\n",
      "\u001b[0;32m\"null\"\u001b[0m\n",
      "\u001b[0;32m\"null\"\u001b[0m\n",
      "\u001b[0;32m\"null\"\u001b[0m\n",
      "\u001b[0;32m\"null\"\u001b[0m\n",
      "\u001b[0;32m\"null\"\u001b[0m\n",
      "\u001b[0;32m\"null\"\u001b[0m\n",
      "\u001b[0;32m\"null\"\u001b[0m\n",
      "\u001b[0;32m\"null\"\u001b[0m\n",
      "\u001b[0;32m\"null\"\u001b[0m\n",
      "\u001b[0;32m\"null\"\u001b[0m\n",
      "\u001b[0;32m\"null\"\u001b[0m\n",
      "\u001b[0;32m\"null\"\u001b[0m\n",
      "\u001b[0;32m\"null\"\u001b[0m\n",
      "\u001b[0;32m\"null\"\u001b[0m\n",
      "\u001b[0;32m\"null\"\u001b[0m\n",
      "\u001b[0;32m\"null\"\u001b[0m\n",
      "\u001b[0;32m\"null\"\u001b[0m\n",
      "\u001b[0;32m\"null\"\u001b[0m\n",
      "\u001b[0;32m\"null\"\u001b[0m\n",
      "\u001b[0;32m\"null\"\u001b[0m\n",
      "\u001b[0;32m\"null\"\u001b[0m\n",
      "\u001b[0;32m\"null\"\u001b[0m\n",
      "\u001b[0;32m\"null\"\u001b[0m\n",
      "\u001b[0;32m\"null\"\u001b[0m\n",
      "\u001b[0;32m\"null\"\u001b[0m\n",
      "\u001b[0;32m\"null\"\u001b[0m\n",
      "\u001b[0;32m\"null\"\u001b[0m\n",
      "\u001b[0;32m\"null\"\u001b[0m\n",
      "\u001b[0;32m\"null\"\u001b[0m\n",
      "\u001b[0;32m\"null\"\u001b[0m\n",
      "\u001b[0;32m\"null\"\u001b[0m\n",
      "\u001b[0;32m\"null\"\u001b[0m\n",
      "\u001b[0;32m\"null\"\u001b[0m\n",
      "\u001b[0;32m\"null\"\u001b[0m\n",
      "\u001b[0;32m\"null\"\u001b[0m\n",
      "\u001b[0;32m\"null\"\u001b[0m\n",
      "\u001b[0;32m\"null\"\u001b[0m\n",
      "\u001b[0;32m\"null\"\u001b[0m\n",
      "\u001b[0;32m\"null\"\u001b[0m\n",
      "\u001b[0;32m\"null\"\u001b[0m\n",
      "\u001b[0;32m\"null\"\u001b[0m\n",
      "\u001b[0;32m\"null\"\u001b[0m\n",
      "\u001b[0;32m\"null\"\u001b[0m\n",
      "\u001b[0;32m\"null\"\u001b[0m\n",
      "\u001b[0;32m\"null\"\u001b[0m\n",
      "\u001b[0;32m\"null\"\u001b[0m\n",
      "\u001b[0;32m\"null\"\u001b[0m\n",
      "\u001b[0;32m\"null\"\u001b[0m\n",
      "\u001b[0;32m\"null\"\u001b[0m\n",
      "\u001b[0;32m\"null\"\u001b[0m\n",
      "\u001b[0;32m\"null\"\u001b[0m\n",
      "\u001b[0;32m\"null\"\u001b[0m\n",
      "\u001b[0;32m\"null\"\u001b[0m\n",
      "\u001b[0;32m\"null\"\u001b[0m\n",
      "\u001b[0;32m\"null\"\u001b[0m\n",
      "\u001b[0;32m\"null\"\u001b[0m\n",
      "\u001b[0;32m\"null\"\u001b[0m\n",
      "\u001b[0;32m\"null\"\u001b[0m\n",
      "\u001b[0;32m\"null\"\u001b[0m\n",
      "\u001b[0;32m\"null\"\u001b[0m\n",
      "\u001b[0;32m\"null\"\u001b[0m\n",
      "\u001b[0;32m\"null\"\u001b[0m\n",
      "\u001b[0;32m\"null\"\u001b[0m\n",
      "\u001b[0;32m\"null\"\u001b[0m\n",
      "\u001b[0;32m\"null\"\u001b[0m\n",
      "\u001b[0;32m\"null\"\u001b[0m\n",
      "\u001b[0;32m\"null\"\u001b[0m\n",
      "\u001b[0;32m\"null\"\u001b[0m\n",
      "\u001b[0;32m\"null\"\u001b[0m\n",
      "\u001b[0;32m\"null\"\u001b[0m\n",
      "\u001b[0;32m\"null\"\u001b[0m\n",
      "\u001b[0;32m\"null\"\u001b[0m\n",
      "\u001b[0;32m\"null\"\u001b[0m\n",
      "\u001b[0;32m\"null\"\u001b[0m\n",
      "\u001b[0;32m\"null\"\u001b[0m\n",
      "\u001b[0;32m\"null\"\u001b[0m\n",
      "\u001b[0;32m\"null\"\u001b[0m\n",
      "\u001b[0;32m\"null\"\u001b[0m\n",
      "\u001b[0;32m\"null\"\u001b[0m\n",
      "\u001b[0;32m\"null\"\u001b[0m\n",
      "\u001b[0;32m\"null\"\u001b[0m\n",
      "\u001b[0;32m\"null\"\u001b[0m\n",
      "\u001b[0;32m\"null\"\u001b[0m\n",
      "\u001b[0;32m\"null\"\u001b[0m\n",
      "\u001b[0;32m\"null\"\u001b[0m\n",
      "\u001b[0;32m\"null\"\u001b[0m\n",
      "\u001b[0;32m\"null\"\u001b[0m\n",
      "\u001b[0;32m\"null\"\u001b[0m\n",
      "\u001b[0;32m\"null\"\u001b[0m\n",
      "\u001b[0;32m\"null\"\u001b[0m\n",
      "\u001b[0;32m\"null\"\u001b[0m\n",
      "\u001b[0;32m\"null\"\u001b[0m\n",
      "\u001b[0;32m\"null\"\u001b[0m\n",
      "\u001b[0;32m\"null\"\u001b[0m\n",
      "\u001b[0;32m\"null\"\u001b[0m\n",
      "\u001b[0;32m\"null\"\u001b[0m\n",
      "\u001b[0;32m\"null\"\u001b[0m\n",
      "\u001b[0;32m\"null\"\u001b[0m\n",
      "\u001b[0;32m\"null\"\u001b[0m\n",
      "\u001b[0;32m\"null\"\u001b[0m\n",
      "\u001b[0;32m\"null\"\u001b[0m\n",
      "\u001b[0;32m\"null\"\u001b[0m\n",
      "\u001b[0;32m\"null\"\u001b[0m\n",
      "\u001b[0;32m\"null\"\u001b[0m\n",
      "\u001b[0;32m\"null\"\u001b[0m\n",
      "\u001b[0;32m\"null\"\u001b[0m\n",
      "\u001b[0;32m\"null\"\u001b[0m\n",
      "\u001b[0;32m\"null\"\u001b[0m\n",
      "\u001b[0;32m\"null\"\u001b[0m\n",
      "\u001b[0;32m\"null\"\u001b[0m\n",
      "\u001b[0;32m\"null\"\u001b[0m\n",
      "\u001b[0;32m\"null\"\u001b[0m\n",
      "\u001b[0;32m\"null\"\u001b[0m\n",
      "\u001b[0;32m\"null\"\u001b[0m\n",
      "\u001b[0;32m\"null\"\u001b[0m\n",
      "\u001b[0;32m\"null\"\u001b[0m\n",
      "\u001b[0;32m\"null\"\u001b[0m\n",
      "\u001b[0;32m\"null\"\u001b[0m\n",
      "\u001b[0;32m\"null\"\u001b[0m\n",
      "\u001b[0;32m\"null\"\u001b[0m\n",
      "\u001b[0;32m\"null\"\u001b[0m\n",
      "\u001b[0;32m\"null\"\u001b[0m\n",
      "\u001b[0;32m\"null\"\u001b[0m\n",
      "\u001b[0;32m\"null\"\u001b[0m\n",
      "\u001b[0;32m\"null\"\u001b[0m\n",
      "\u001b[0;32m\"null\"\u001b[0m\n",
      "\u001b[0;32m\"null\"\u001b[0m\n",
      "\u001b[0;32m\"null\"\u001b[0m\n",
      "\u001b[0;32m\"null\"\u001b[0m\n",
      "\u001b[0;32m\"null\"\u001b[0m\n",
      "\u001b[0;32m\"null\"\u001b[0m\n",
      "\u001b[0;32m\"null\"\u001b[0m\n",
      "\u001b[0;32m\"null\"\u001b[0m\n",
      "\u001b[0;32m\"null\"\u001b[0m\n",
      "\u001b[0;32m\"null\"\u001b[0m\n",
      "\u001b[0;32m\"null\"\u001b[0m\n",
      "\u001b[0;32m\"null\"\u001b[0m\n",
      "\u001b[0;32m\"null\"\u001b[0m\n",
      "\u001b[0;32m\"null\"\u001b[0m\n",
      "\u001b[0;32m\"null\"\u001b[0m\n",
      "\u001b[0;32m\"null\"\u001b[0m\n",
      "\u001b[0;32m\"null\"\u001b[0m\n",
      "\u001b[0;32m\"null\"\u001b[0m\n",
      "\u001b[0;32m\"null\"\u001b[0m\n",
      "\u001b[0;32m\"null\"\u001b[0m\n",
      "\u001b[0;32m\"null\"\u001b[0m\n",
      "\u001b[0;32m\"null\"\u001b[0m\n",
      "\u001b[0;32m\"null\"\u001b[0m\n",
      "\u001b[0;32m\"null\"\u001b[0m\n",
      "\u001b[0;32m\"null\"\u001b[0m\n",
      "\u001b[0;32m\"null\"\u001b[0m\n",
      "\u001b[0;32m\"null\"\u001b[0m\n",
      "\u001b[0;32m\"null\"\u001b[0m\n",
      "\u001b[0;32m\"null\"\u001b[0m\n",
      "\u001b[0;32m\"null\"\u001b[0m\n",
      "\u001b[0;32m\"null\"\u001b[0m\n",
      "\u001b[0;32m\"null\"\u001b[0m\n",
      "\u001b[0;32m\"null\"\u001b[0m\n",
      "\u001b[0;32m\"null\"\u001b[0m\n",
      "\u001b[0;32m\"null\"\u001b[0m\n",
      "\u001b[0;32m\"null\"\u001b[0m\n",
      "\u001b[0;32m\"null\"\u001b[0m\n",
      "\u001b[0;32m\"null\"\u001b[0m\n",
      "\u001b[0;32m\"null\"\u001b[0m\n",
      "\u001b[0;32m\"null\"\u001b[0m\n",
      "\u001b[0;32m\"null\"\u001b[0m\n",
      "\u001b[0;32m\"null\"\u001b[0m\n",
      "\u001b[0;32m\"null\"\u001b[0m\n",
      "\u001b[0;32m\"null\"\u001b[0m\n",
      "\u001b[0;32m\"null\"\u001b[0m\n",
      "\u001b[0;32m\"null\"\u001b[0m\n",
      "\u001b[0;32m\"null\"\u001b[0m\n",
      "\u001b[0;32m\"null\"\u001b[0m\n",
      "\u001b[0;32m\"null\"\u001b[0m\n",
      "\u001b[0;32m\"null\"\u001b[0m\n",
      "\u001b[0;32m\"null\"\u001b[0m\n",
      "\u001b[0;32m\"null\"\u001b[0m\n",
      "\u001b[0;32m\"null\"\u001b[0m\n",
      "\u001b[0;32m\"null\"\u001b[0m\n",
      "\u001b[0;32m\"null\"\u001b[0m\n",
      "\u001b[0;32m\"null\"\u001b[0m\n",
      "\u001b[0;32m\"null\"\u001b[0m\n",
      "\u001b[0;32m\"null\"\u001b[0m\n",
      "\u001b[0;32m\"null\"\u001b[0m\n",
      "\u001b[0;32m\"null\"\u001b[0m\n",
      "\u001b[0;32m\"null\"\u001b[0m\n",
      "\u001b[0;32m\"null\"\u001b[0m\n",
      "\u001b[0;32m\"null\"\u001b[0m\n",
      "\u001b[0;32m\"null\"\u001b[0m\n",
      "\u001b[0;32m\"null\"\u001b[0m\n",
      "\u001b[0;32m\"null\"\u001b[0m\n",
      "\u001b[0;32m\"null\"\u001b[0m\n",
      "\u001b[0;32m\"null\"\u001b[0m\n",
      "\u001b[0;32m\"null\"\u001b[0m\n",
      "\u001b[0;32m\"null\"\u001b[0m\n",
      "\u001b[0;32m\"null\"\u001b[0m\n",
      "\u001b[0;32m\"null\"\u001b[0m\n",
      "\u001b[0;32m\"null\"\u001b[0m\n",
      "\u001b[0;32m\"null\"\u001b[0m\n",
      "\u001b[0;32m\"null\"\u001b[0m\n",
      "\u001b[0;32m\"null\"\u001b[0m\n",
      "\u001b[0;32m\"null\"\u001b[0m\n",
      "\u001b[0;32m\"null\"\u001b[0m\n",
      "\u001b[0;32m\"null\"\u001b[0m\n",
      "\u001b[0;32m\"null\"\u001b[0m\n",
      "\u001b[0;32m\"null\"\u001b[0m\n",
      "\u001b[0;32m\"null\"\u001b[0m\n",
      "\u001b[0;32m\"null\"\u001b[0m\n",
      "\u001b[0;32m\"null\"\u001b[0m\n",
      "\u001b[0;32m\"null\"\u001b[0m\n",
      "\u001b[0;32m\"null\"\u001b[0m\n",
      "\u001b[0;32m\"null\"\u001b[0m\n",
      "\u001b[0;32m\"null\"\u001b[0m\n",
      "\u001b[0;32m\"null\"\u001b[0m\n",
      "\u001b[0;32m\"null\"\u001b[0m\n",
      "\u001b[0;32m\"null\"\u001b[0m\n",
      "\u001b[0;32m\"null\"\u001b[0m\n",
      "\u001b[0;32m\"null\"\u001b[0m\n",
      "\u001b[0;32m\"null\"\u001b[0m\n",
      "\u001b[0;32m\"null\"\u001b[0m\n",
      "\u001b[0;32m\"null\"\u001b[0m\n",
      "\u001b[0;32m\"null\"\u001b[0m\n",
      "\u001b[0;32m\"null\"\u001b[0m\n",
      "\u001b[0;32m\"null\"\u001b[0m\n",
      "\u001b[0;32m\"null\"\u001b[0m\n",
      "\u001b[0;32m\"null\"\u001b[0m\n",
      "\u001b[0;32m\"null\"\u001b[0m\n",
      "\u001b[0;32m\"null\"\u001b[0m\n",
      "\u001b[0;32m\"null\"\u001b[0m\n",
      "\u001b[0;32m\"null\"\u001b[0m\n",
      "\u001b[0;32m\"null\"\u001b[0m\n",
      "\u001b[0;32m\"null\"\u001b[0m\n",
      "\u001b[0;32m\"null\"\u001b[0m\n",
      "\u001b[0;32m\"null\"\u001b[0m\n",
      "\u001b[0;32m\"null\"\u001b[0m\n",
      "\u001b[0;32m\"null\"\u001b[0m\n",
      "\u001b[0;32m\"null\"\u001b[0m\n",
      "\u001b[0;32m\"null\"\u001b[0m\n",
      "\u001b[0;32m\"null\"\u001b[0m\n",
      "\u001b[0;32m\"null\"\u001b[0m\n",
      "\u001b[0;32m\"null\"\u001b[0m\n",
      "\u001b[0;32m\"null\"\u001b[0m\n",
      "\u001b[0;32m\"null\"\u001b[0m\n",
      "\u001b[0;32m\"null\"\u001b[0m\n",
      "\u001b[0;32m\"null\"\u001b[0m\n",
      "\u001b[0;32m\"null\"\u001b[0m\n",
      "\u001b[0;32m\"null\"\u001b[0m\n",
      "\u001b[0;32m\"null\"\u001b[0m\n",
      "\u001b[0;32m\"null\"\u001b[0m\n",
      "\u001b[0;32m\"null\"\u001b[0m\n",
      "\u001b[0;32m\"null\"\u001b[0m\n",
      "\u001b[0;32m\"null\"\u001b[0m\n",
      "\u001b[0;32m\"null\"\u001b[0m\n",
      "\u001b[0;32m\"null\"\u001b[0m\n"
     ]
    }
   ],
   "source": [
    "! cat BettenAllDE.json | jq '.data[] | select(.bettenStatus.statusLowCare == \"VERFUEGBAR\") | ( .faelleCovidAktuell | tostring ) '"
   ]
  },
  {
   "cell_type": "code",
   "execution_count": 14,
   "metadata": {},
   "outputs": [
    {
     "name": "stdout",
     "output_type": "stream",
     "text": [
      "\u001b[0;32m\"null\"\u001b[0m\n",
      "\u001b[0;32m\"null\"\u001b[0m\n",
      "\u001b[0;32m\"null\"\u001b[0m\n",
      "\u001b[0;32m\"null\"\u001b[0m\n",
      "\u001b[0;32m\"null\"\u001b[0m\n",
      "\u001b[0;32m\"null\"\u001b[0m\n",
      "\u001b[0;32m\"null\"\u001b[0m\n",
      "\u001b[0;32m\"null\"\u001b[0m\n",
      "\u001b[0;32m\"null\"\u001b[0m\n",
      "\u001b[0;32m\"null\"\u001b[0m\n",
      "\u001b[0;32m\"null\"\u001b[0m\n",
      "\u001b[0;32m\"null\"\u001b[0m\n",
      "\u001b[0;32m\"null\"\u001b[0m\n",
      "\u001b[0;32m\"null\"\u001b[0m\n",
      "\u001b[0;32m\"null\"\u001b[0m\n",
      "\u001b[0;32m\"null\"\u001b[0m\n",
      "\u001b[0;32m\"null\"\u001b[0m\n",
      "\u001b[0;32m\"null\"\u001b[0m\n",
      "\u001b[0;32m\"null\"\u001b[0m\n",
      "\u001b[0;32m\"null\"\u001b[0m\n",
      "\u001b[0;32m\"null\"\u001b[0m\n",
      "\u001b[0;32m\"null\"\u001b[0m\n",
      "\u001b[0;32m\"null\"\u001b[0m\n",
      "\u001b[0;32m\"null\"\u001b[0m\n",
      "\u001b[0;32m\"null\"\u001b[0m\n",
      "\u001b[0;32m\"null\"\u001b[0m\n",
      "\u001b[0;32m\"null\"\u001b[0m\n",
      "\u001b[0;32m\"null\"\u001b[0m\n",
      "\u001b[0;32m\"null\"\u001b[0m\n",
      "\u001b[0;32m\"null\"\u001b[0m\n",
      "\u001b[0;32m\"null\"\u001b[0m\n",
      "\u001b[0;32m\"null\"\u001b[0m\n",
      "\u001b[0;32m\"null\"\u001b[0m\n",
      "\u001b[0;32m\"null\"\u001b[0m\n",
      "\u001b[0;32m\"null\"\u001b[0m\n",
      "\u001b[0;32m\"null\"\u001b[0m\n"
     ]
    }
   ],
   "source": [
    "! cat BettenAllDE.json | jq '.data[] | select(.krankenhausStandort.bundesland == \"THUERINGEN\") | ( .faelleCovidAktuell | tostring ) '"
   ]
  },
  {
   "cell_type": "code",
   "execution_count": 15,
   "metadata": {},
   "outputs": [
    {
     "name": "stdout",
     "output_type": "stream",
     "text": [
      "\u001b[0;32m\"null\"\u001b[0m\n",
      "\u001b[0;32m\"null\"\u001b[0m\n",
      "\u001b[0;32m\"null\"\u001b[0m\n",
      "\u001b[0;32m\"null\"\u001b[0m\n",
      "\u001b[0;32m\"null\"\u001b[0m\n",
      "\u001b[0;32m\"null\"\u001b[0m\n",
      "\u001b[0;32m\"null\"\u001b[0m\n",
      "\u001b[0;32m\"null\"\u001b[0m\n",
      "\u001b[0;32m\"null\"\u001b[0m\n",
      "\u001b[0;32m\"null\"\u001b[0m\n",
      "\u001b[0;32m\"null\"\u001b[0m\n",
      "\u001b[0;32m\"null\"\u001b[0m\n",
      "\u001b[0;32m\"null\"\u001b[0m\n",
      "\u001b[0;32m\"null\"\u001b[0m\n",
      "\u001b[0;32m\"null\"\u001b[0m\n",
      "\u001b[0;32m\"null\"\u001b[0m\n",
      "\u001b[0;32m\"null\"\u001b[0m\n",
      "\u001b[0;32m\"null\"\u001b[0m\n",
      "\u001b[0;32m\"null\"\u001b[0m\n",
      "\u001b[0;32m\"null\"\u001b[0m\n",
      "\u001b[0;32m\"null\"\u001b[0m\n",
      "\u001b[0;32m\"null\"\u001b[0m\n",
      "\u001b[0;32m\"null\"\u001b[0m\n",
      "\u001b[0;32m\"null\"\u001b[0m\n",
      "\u001b[0;32m\"null\"\u001b[0m\n",
      "\u001b[0;32m\"null\"\u001b[0m\n",
      "\u001b[0;32m\"null\"\u001b[0m\n",
      "\u001b[0;32m\"null\"\u001b[0m\n",
      "\u001b[0;32m\"null\"\u001b[0m\n",
      "\u001b[0;32m\"null\"\u001b[0m\n",
      "\u001b[0;32m\"null\"\u001b[0m\n",
      "\u001b[0;32m\"null\"\u001b[0m\n",
      "\u001b[0;32m\"null\"\u001b[0m\n",
      "\u001b[0;32m\"null\"\u001b[0m\n",
      "\u001b[0;32m\"null\"\u001b[0m\n",
      "\u001b[0;32m\"null\"\u001b[0m\n"
     ]
    }
   ],
   "source": [
    "! cat BettenAllDE.json | jq '.data[] | select(.krankenhausStandort.bundesland == \"THUERINGEN\") | ( .faelleCovidAktuell | tostring ) '"
   ]
  },
  {
   "cell_type": "code",
   "execution_count": 16,
   "metadata": {},
   "outputs": [],
   "source": [
    "! cat BettenAllDE.json | jq '.data[] | select(.krankenhausStandort.bundesland == \"THUERINGEN\") | .krankenhausStandort.plz + \" \" + .meldezeitpunkt + \" co= \" + ( .faelleCovidAktuell | tostring ) + \" \" + .label + \"   HighCare: \" + .bettenStatus.statusHighCare' > BettenThur.txt"
   ]
  },
  {
   "cell_type": "markdown",
   "metadata": {},
   "source": [
    "! cat BettenAllDE.json | jq '.data[] | select(.krankenhausStandort.bundesland == \"THUERINGEN\") |\n",
    ".krankenhausStandort.plz + \n",
    "\" \" + .meldezeitpunkt + \n",
    "\" co= \" + ( .faelleCovidAktuell | tostring ) + \n",
    "\" \" + .label + \n",
    "\"   HighCare: \" + .bettenStatus.statusHighCare' > BettenThur.txt\n",
    "\n",
    "\n",
    "bettenStatus: {3 entries statusLowCare: \"VERFUEGBAR\", statusHighCare: \"BEGRENZT\", statusECMO: null\n",
    "\n",
    "bettenStatus.statusLowCare == \"VERFUEGBAR\"\n",
    "\n",
    "position.latitude  ( .faelleCovidAktuell | tostring ) '"
   ]
  },
  {
   "cell_type": "code",
   "execution_count": 17,
   "metadata": {},
   "outputs": [
    {
     "name": "stdout",
     "output_type": "stream",
     "text": [
      "382\n",
      "Attention, now Counting!\n"
     ]
    }
   ],
   "source": [
    "! cat BettenAllDE.json | jq '.data[] | select(.bettenStatus.statusLowCare == \"VERFUEGBAR\") | .krankenhausStandort.position.latitude  ' | wc -l\n",
    "! echo \"Attention, now Counting!\""
   ]
  },
  {
   "cell_type": "markdown",
   "metadata": {},
   "source": [
    "some totalisators:\n",
    "    e.g. (why not, at all) phyton"
   ]
  },
  {
   "cell_type": "code",
   "execution_count": 18,
   "metadata": {},
   "outputs": [
    {
     "name": "stdout",
     "output_type": "stream",
     "text": [
      "rm: cannot remove 'catCount.txt': No such file or directory\n",
      "http://ix.io/2W38\n",
      "newCatCount  of the \n",
      "Wed Apr 14 15:09:36 UTC 2021\n",
      "69\n",
      " == e v \n",
      "65\n",
      " == e b \n",
      "0\n",
      " == e n_ \n",
      "59\n",
      " == e N \n",
      "402\n",
      " == h v \n",
      "447\n",
      " == h b \n",
      "0\n",
      " == h n_ \n",
      "357\n",
      " == h N \n",
      "382\n",
      " == l v \n",
      "387\n",
      " == l b \n",
      "0\n",
      " == l n_ \n",
      "351\n",
      " == l N \n",
      "AllCountedToday CatCount \n",
      " *****************  \n",
      " *****************  \n",
      " ***************** \n",
      "actally and older results together: \n",
      " :\n"
     ]
    }
   ],
   "source": [
    "! rm catCount.txt\n",
    "! touch catCount.txt\n",
    "! echo \"newCatCount  of the \" >> catCount.txt\n",
    "! date >> catCount.txt\n",
    "! #\n",
    "! cat BettenAllDE.json | jq '.data[] | select(.bettenStatus.statusECMO == \"VERFUEGBAR\") | .krankenhausStandort.position.latitude ' | wc -l >> catCount.txt ; echo \" == e v \" >> catCount.txt\n",
    "! cat BettenAllDE.json | jq '.data[] | select(.bettenStatus.statusECMO == \"BEGRENZT\") | .krankenhausStandort.position.latitude ' | wc -l >> catCount.txt ; echo \" == e b \" >> catCount.txt\n",
    "! cat BettenAllDE.json | jq '.data[] | select(.bettenStatus.statusECMO == null) | .krankenhausStandort.position.latitude ' | wc -l >> catCount.txt ; echo \" == e n_ \" >> catCount.txt\n",
    "! cat BettenAllDE.json | jq '.data[] | select(.bettenStatus.statusECMO == \"NICHT_VERFUEGBAR\") | .krankenhausStandort.position.latitude ' | wc -l >> catCount.txt ; echo \" == e N \" >> catCount.txt\n",
    "! #\n",
    "! cat BettenAllDE.json | jq '.data[] | select(.bettenStatus.statusHighCare == \"VERFUEGBAR\") | .krankenhausStandort.position.latitude ' | wc -l >> catCount.txt ; echo \" == h v \" >> catCount.txt\n",
    "! cat BettenAllDE.json | jq '.data[] | select(.bettenStatus.statusHighCare == \"BEGRENZT\") | .krankenhausStandort.position.latitude ' | wc -l >> catCount.txt ; echo \" == h b \" >> catCount.txt\n",
    "! cat BettenAllDE.json | jq '.data[] | select(.bettenStatus.statusHighCare == null) | .krankenhausStandort.position.latitude ' | wc -l >> catCount.txt ; echo \" == h n_ \" >> catCount.txt\n",
    "! cat BettenAllDE.json | jq '.data[] | select(.bettenStatus.statusHighCare == \"NICHT_VERFUEGBAR\") | .krankenhausStandort.position.latitude ' | wc -l >> catCount.txt ; echo \" == h N \" >> catCount.txt\n",
    "! #\n",
    "! cat BettenAllDE.json | jq '.data[] | select(.bettenStatus.statusLowCare == \"VERFUEGBAR\") | .krankenhausStandort.position.latitude ' | wc -l >> catCount.txt ; echo \" == l v \" >> catCount.txt\n",
    "! cat BettenAllDE.json | jq '.data[] | select(.bettenStatus.statusLowCare == \"BEGRENZT\") | .krankenhausStandort.position.latitude ' | wc -l >> catCount.txt ; echo \" == l b \" >> catCount.txt\n",
    "! cat BettenAllDE.json | jq '.data[] | select(.bettenStatus.statusLowCare == null) | .krankenhausStandort.position.latitude ' | wc -l >> catCount.txt ; echo \" == l n_ \" >> catCount.txt\n",
    "! cat BettenAllDE.json | jq '.data[] | select(.bettenStatus.statusLowCare == \"NICHT_VERFUEGBAR\") | .krankenhausStandort.position.latitude ' | wc -l >> catCount.txt ; echo \" == l N \" >> catCount.txt\n",
    "! #\n",
    "! echo -e \"AllCountedToday CatCount \\n *****************  \\n *****************  \\n ***************** \" >> catCount.txt\n",
    "! cat catCount.txt | curl -s -F 'f:1=<-' catcount:miau@ix.io \n",
    "! cat catCount.txt\n",
    "! echo -e \"actally and older results together: \\n :\"\n"
   ]
  },
  {
   "cell_type": "code",
   "execution_count": 19,
   "metadata": {},
   "outputs": [
    {
     "name": "stdout",
     "output_type": "stream",
     "text": [
      "  % Total    % Received % Xferd  Average Speed   Time    Time     Time  Current\n",
      "                                 Dload  Upload   Total   Spent    Left  Speed\n",
      "100 47713  100 47713    0     0  26774      0  0:00:01  0:00:01 --:--:-- 26774\n"
     ]
    }
   ],
   "source": [
    "! curl http://ix.io/user/catcount -o older.html\n",
    "    "
   ]
  },
  {
   "cell_type": "markdown",
   "metadata": {},
   "source": [
    "\"total bash\"\n",
    "\n",
    "$ sum=0; while read num; do ((sum += num)); done < numbers.txt; echo $sum"
   ]
  },
  {
   "cell_type": "code",
   "execution_count": 20,
   "metadata": {},
   "outputs": [
    {
     "name": "stdout",
     "output_type": "stream",
     "text": [
      "/bin/bash: -c: line 0: syntax error near unexpected token `newline'\n",
      "/bin/bash: -c: line 0: ` sum=0; while read num; do ((sum += num)); done < numbers.txt; echo <built-in function sum>'\n"
     ]
    }
   ],
   "source": [
    "! cat BettenAllDE.json | jq '.data[] | select(.krankenhausStandort.bundesland == \"THUERINGEN\") | .faelleCovidAktuell  ' | grep -v null  > numbers.txt\n",
    "! cat numbers.txt  \n",
    "! sum=0; while read num; do ((sum += num)); done < numbers.txt; echo $sum"
   ]
  },
  {
   "cell_type": "markdown",
   "metadata": {},
   "source": [
    "https://stackoverflow.com/questions/450799/shell-command-to-sum-integers-one-per-line\n",
    "    \n",
    "    seems some bug?"
   ]
  },
  {
   "cell_type": "markdown",
   "metadata": {},
   "source": [
    "nit mööööglich!\n",
    "jq itself has a solution for total of not-json?"
   ]
  },
  {
   "cell_type": "code",
   "execution_count": 21,
   "metadata": {},
   "outputs": [
    {
     "name": "stdout",
     "output_type": "stream",
     "text": [
      "\u001b[1;30mnull\u001b[0m\n"
     ]
    }
   ],
   "source": [
    "! jq -s 'add' < numbers.txt"
   ]
  },
  {
   "cell_type": "markdown",
   "metadata": {},
   "source": [
    "later we will insert that solution in the workflow, for now it may be that awk got some cool followers more  .... ;)"
   ]
  },
  {
   "cell_type": "markdown",
   "metadata": {},
   "source": [
    "***\n",
    "***"
   ]
  },
  {
   "cell_type": "markdown",
   "metadata": {},
   "source": [
    "dont be afraid, we wont come with brainfuck also, but perl \"must\":"
   ]
  },
  {
   "cell_type": "code",
   "execution_count": 22,
   "metadata": {},
   "outputs": [
    {
     "name": "stdout",
     "output_type": "stream",
     "text": [
      "Ole! m&m: perl!\n",
      "0\n",
      "ok, must is not everytime followed by done  ;)  \n",
      "same starter, another try\n",
      "syntax error at -e line 1, near \"+=\"\n",
      "Unknown regexp modifier \"/b\" at -e line 1, at end of line\n",
      "Unknown regexp modifier \"/h\" at -e line 1, at end of line\n",
      "Execution of -e aborted due to compilation errors.\n",
      "Nur wer wagt gewinnt.\n",
      "**************\n",
      "another python try\n",
      "  File \"<string>\", line 1\n",
      "    from fileinput import input; print sum(map(int, input()))\n",
      "                                         ^\n",
      "SyntaxError: invalid syntax\n"
     ]
    }
   ],
   "source": [
    "! cat numbers.txt\n",
    "! echo \"Ole! m&m: perl!\"\n",
    "! cat numbers.txt | perl -lpe '$c+=$_}{$_=$c'cat numbers.txt | perl -lpe '$c+=$_}{$_=$c'\n",
    "! echo \"ok, must is not everytime followed by done  ;)  \"\n",
    "! echo \"same starter, another try\"\n",
    "! perl -e \"map {$x += $_} <> and print $x\" < numbers.txt \n",
    "! echo \"Nur wer wagt gewinnt.\"\n",
    "! echo \"**************\"\n",
    "! echo \"another python try\"\n",
    "! python -c \"from fileinput import input; print sum(map(int, input()))\" <  numbers.txt"
   ]
  },
  {
   "cell_type": "markdown",
   "metadata": {},
   "source": [
    "my most lovely total - also \"total Bash\":"
   ]
  },
  {
   "cell_type": "code",
   "execution_count": 23,
   "metadata": {},
   "outputs": [
    {
     "name": "stdout",
     "output_type": "stream",
     "text": [
      "total Bash\n",
      "0\n",
      "little bit more sophisticated:\n",
      "0\n",
      "was talking somewhere: tr isnt native bash?\n"
     ]
    }
   ],
   "source": [
    "! echo \"total Bash\"\n",
    "! echo $(( $(cat numbers.txt | tr \"\\n\" \"+\" ) 0 ))\n",
    "! echo \"little bit more sophisticated:\"\n",
    "! echo $(( $( tr \"\\n\" \"+\"  < numbers.txt ) 0 ))\n",
    "! echo \"was talking somewhere: tr isnt native bash?\""
   ]
  },
  {
   "cell_type": "markdown",
   "metadata": {},
   "source": [
    "other totalisator, (all together: \"a w k\":  \n",
    ":)"
   ]
  },
  {
   "cell_type": "code",
   "execution_count": 24,
   "metadata": {},
   "outputs": [
    {
     "name": "stdout",
     "output_type": "stream",
     "text": [
      "0\n"
     ]
    }
   ],
   "source": [
    "! ! cat BettenAllDE.json | jq '.data[] | select(.krankenhausStandort.bundesland == \"THUERINGEN\") | .faelleCovidAktuell  ' | awk '{s+=$1} END {print s}' "
   ]
  },
  {
   "cell_type": "markdown",
   "metadata": {},
   "source": [
    "the most simplicity of totalisators doesnt work in jupyter,\n",
    "bc isnt available.\n",
    ":("
   ]
  },
  {
   "cell_type": "markdown",
   "metadata": {},
   "source": [
    "the mystery number to find out fake ... ;) (he, why are this 10 to much?)"
   ]
  },
  {
   "cell_type": "markdown",
   "metadata": {},
   "source": [
    "now save the number somewhere ..., some poc, not realy good"
   ]
  },
  {
   "cell_type": "code",
   "execution_count": 25,
   "metadata": {},
   "outputs": [
    {
     "name": "stdout",
     "output_type": "stream",
     "text": [
      "http://ix.io/2W39\n"
     ]
    }
   ],
   "source": [
    "!   hostname > alive.txt ;\n",
    "\n",
    "!    memf=$(awk -F\"[: ]+\" '/MemFree/ {print $2;exit}' /proc/meminfo); \n",
    "\n",
    "!    echo $memf >> alive.txt ;\n",
    "\n",
    "!   uptime >> alive.txt ; \n",
    "\n",
    "!   date >> alive.txt ; \n",
    "\n",
    "!    echo \"alive after init\" >> alive.txt ; \n",
    "\n",
    "!    cat alive.txt | curl -s -F 'f:1=<-' jor2:pjor2@ix.io  | tee -a alive.txt;\n",
    "\n",
    "!    # lock at http://ix.io/user/jor2 for result\n"
   ]
  },
  {
   "cell_type": "code",
   "execution_count": 36,
   "metadata": {},
   "outputs": [],
   "source": [
    "! cat BettenAllDE.json | jq '.data[] | select(.krankenhausStandort.bundesland == \"HESSEN\") | select(.bettenStatus.statusECMO != \"KEINE_ANGABE\") | .krankenhausStandort.plz + \" \" + .meldezeitpunkt + \" co= \" + ( .faelleCovidAktuell | tostring ) + \" \" + .label + \"   HighCare: \" + .bettenStatus.statusHighCare' > BettenHess.txt"
   ]
  },
  {
   "cell_type": "code",
   "execution_count": 37,
   "metadata": {},
   "outputs": [],
   "source": [
    "! cat BettenAllDE.json | jq '.data[] | select(.krankenhausStandort.bundesland == \"THUERINGEN\") | select(.bettenStatus.statusECMO != \"KEINE_ANGABE\") | .krankenhausStandort.plz + \" \" + .meldezeitpunkt + \" co= \" + ( .faelleCovidAktuell | tostring ) + \" \" + .label + \"   HighCare: \" + .bettenStatus.statusHighCare' > BettenThur.txt"
   ]
  },
  {
   "cell_type": "code",
   "execution_count": 44,
   "metadata": {},
   "outputs": [],
   "source": [
    "! cat BettenAllDE.json | jq '.data[] | select(.krankenhausStandort.bundesland == \"SACHSEN\") | select(.bettenStatus.statusECMO != \"KEINE_ANGABE\") | .krankenhausStandort.plz + \" \" + .meldezeitpunkt + \" co= \" + ( .faelleCovidAktuell | tostring ) + \" \" + .label + \"   HighCare: \" + .bettenStatus.statusHighCare' > BettenSax.txt"
   ]
  },
  {
   "cell_type": "code",
   "execution_count": 48,
   "metadata": {},
   "outputs": [],
   "source": [
    "! cat BettenAllDE.json | jq '.data[]  | select(.bettenStatus.statusECMO != \"KEINE_ANGABE\") | .krankenhausStandort.plz + \" \" + .meldezeitpunkt + \" co= \" + ( .faelleCovidAktuell | tostring ) + \" \" + .label + \"   HighCare: \" + .bettenStatus.statusHighCare' > BettenECMODE.txt"
   ]
  },
  {
   "cell_type": "markdown",
   "metadata": {},
   "source": [
    "is some steel in the \"Morgenpost\" in the morning?"
   ]
  },
  {
   "cell_type": "markdown",
   "metadata": {},
   "source": [
    "***"
   ]
  },
  {
   "cell_type": "markdown",
   "metadata": {},
   "source": [
    "***"
   ]
  },
  {
   "cell_type": "code",
   "execution_count": 39,
   "metadata": {},
   "outputs": [
    {
     "name": "stdout",
     "output_type": "stream",
     "text": [
      "     1\t\"34125 2021-04-14T06:51:20Z co= null Klinikum Kassel   HighCare: BEGRENZT\"\n",
      "     2\t\"35043 2021-04-14T07:39:38Z co= null Universitätsklinikum Marburg   HighCare: BEGRENZT\"\n",
      "     3\t\"35392 2021-04-14T08:56:36Z co= null Universitätsklinikum Gießen und Marburg   HighCare: BEGRENZT\"\n",
      "     4\t\"35398 2021-04-14T08:24:14Z co= null Agaplesion Ev. Krankenhaus Mittelhessen   HighCare: BEGRENZT\"\n",
      "     5\t\"36043 2021-04-14T08:02:02Z co= null Klinikum Fulda   HighCare: VERFUEGBAR\"\n",
      "     6\t\"36199 2021-04-14T06:50:16Z co= null Herz-Kreislauf-Zentrum Rotenburg   HighCare: BEGRENZT\"\n",
      "     7\t\"36251 2021-04-14T06:45:09Z co= null Klinikum Bad Hersfeld   HighCare: VERFUEGBAR\"\n",
      "     8\t\"60488 2021-04-14T05:37:53Z co= null Krankenhaus Nordwest, Hauptstandort   HighCare: NICHT_VERFUEGBAR\"\n",
      "     9\t\"60596 2021-04-14T07:48:43Z co= null Universitätsklinikum Frankfurt   HighCare: VERFUEGBAR\"\n",
      "    10\t\"61231 2021-04-14T07:59:17Z co= null Kerckhoff-Klinik gGmbH, Hauptstandort   HighCare: NICHT_VERFUEGBAR\"\n",
      "    11\t\"63069 2021-04-14T09:34:32Z co= null Sana Klinikum Offenbach   HighCare: VERFUEGBAR\"\n",
      "    12\t\"63225 2021-04-14T06:37:25Z co= null Asklepios Klinik Langen   HighCare: BEGRENZT\"\n",
      "    13\t\"63450 2021-04-14T06:04:45Z co= null Klinikum Hanau GmbH, Klinikum Hanau   HighCare: VERFUEGBAR\"\n",
      "    14\t\"64283 2021-04-14T05:41:32Z co= null Klinikum Darmstadt GmbH, Klinikum Darmstadt, Hauptstandort   HighCare: BEGRENZT\"\n",
      "    15\t\"64646 2021-04-14T07:08:02Z co= null Kreiskrankenhaus Bergstraße   HighCare: BEGRENZT\"\n",
      "    16\t\"65189 2021-04-14T07:15:47Z co= null St. Josefs-Hospital Wiesbaden   HighCare: BEGRENZT\"\n",
      "    17\t\"65199 2021-04-14T06:36:01Z co= null Helios Dr. Horst-Schmidt-Kliniken   HighCare: BEGRENZT\"\n",
      "    18\t\"65549 2021-04-14T06:10:17Z co= null St. Vincenz-Krankenhaus Limburg, Limburg   HighCare: BEGRENZT\"\n",
      "    19\t\"65929 2021-04-14T05:10:58Z co= null Klinikum Frankfurt Höchst   HighCare: NICHT_VERFUEGBAR\"\n",
      "19\n",
      "Wed Apr 14 15:22:58 UTC 2021\n"
     ]
    }
   ],
   "source": [
    "! rm BITHLi\n",
    "! touch BITHLi && sort BettenHess.txt | nl | tee -a BITHLi | wc -l >> BITHLi && echo `date` >> BITHLi ; cat BITHLi"
   ]
  },
  {
   "cell_type": "code",
   "execution_count": 40,
   "metadata": {},
   "outputs": [
    {
     "name": "stdout",
     "output_type": "stream",
     "text": [
      "     1\t\"60488 2021-04-14T05:37:53Z co= null Krankenhaus Nordwest, Hauptstandort   HighCare: NICHT_VERFUEGBAR\"\n",
      "     2\t\"61231 2021-04-14T07:59:17Z co= null Kerckhoff-Klinik gGmbH, Hauptstandort   HighCare: NICHT_VERFUEGBAR\"\n",
      "     3\t\"65929 2021-04-14T05:10:58Z co= null Klinikum Frankfurt Höchst   HighCare: NICHT_VERFUEGBAR\"\n",
      "3\n",
      "Wed Apr 14 15:24:51 UTC 2021\n"
     ]
    }
   ],
   "source": [
    "! rm BITHLi\n",
    "! touch BITHLi && sort BettenHess.txt | grep NICHT | nl | tee -a BITHLi | wc -l >> BITHLi && echo `date` >> BITHLi ; cat BITHLi"
   ]
  },
  {
   "cell_type": "code",
   "execution_count": 41,
   "metadata": {},
   "outputs": [
    {
     "name": "stdout",
     "output_type": "stream",
     "text": [
      "     1\t\"07548 2021-04-14T04:26:48Z co= null SRH Wald-Klinikum Gera   HighCare: NICHT_VERFUEGBAR\"\n",
      "     2\t\"07747 2021-04-14T08:45:08Z co= null Universitätsklinikum Jena Lobeda   HighCare: VERFUEGBAR\"\n",
      "     3\t\"98527 2021-04-14T09:29:48Z co= null SRH Zentralklinikum Suhl   HighCare: NICHT_VERFUEGBAR\"\n",
      "     4\t\"99089 2021-04-14T06:30:24Z co= null Helios Klinikum Erfurt   HighCare: BEGRENZT\"\n",
      "     5\t\"99437 2021-04-14T05:27:44Z co= null Zentralklinik Bad Berka   HighCare: NICHT_VERFUEGBAR\"\n",
      "     6\t\"99768 2021-04-14T06:52:53Z co= null Lungenklinik Neustadt   HighCare: BEGRENZT\"\n",
      "6\n",
      "Wed Apr 14 15:27:39 UTC 2021\n"
     ]
    }
   ],
   "source": [
    "! rm BITHLi\n",
    "! touch BITHLi && sort BettenThur.txt | nl | tee -a BITHLi | wc -l >> BITHLi && echo `date` >> BITHLi ; cat BITHLi"
   ]
  },
  {
   "cell_type": "code",
   "execution_count": 42,
   "metadata": {},
   "outputs": [
    {
     "name": "stdout",
     "output_type": "stream",
     "text": [
      "     1\t\"07548 2021-04-14T04:26:48Z co= null SRH Wald-Klinikum Gera   HighCare: NICHT_VERFUEGBAR\"\n",
      "     2\t\"98527 2021-04-14T09:29:48Z co= null SRH Zentralklinikum Suhl   HighCare: NICHT_VERFUEGBAR\"\n",
      "     3\t\"99437 2021-04-14T05:27:44Z co= null Zentralklinik Bad Berka   HighCare: NICHT_VERFUEGBAR\"\n",
      "3\n",
      "Wed Apr 14 15:27:45 UTC 2021\n"
     ]
    }
   ],
   "source": [
    "! rm BITHLi\n",
    "! touch BITHLi && sort BettenThur.txt | grep NICHT | nl | tee -a BITHLi | wc -l >> BITHLi && echo `date` >> BITHLi ; cat BITHLi"
   ]
  },
  {
   "cell_type": "code",
   "execution_count": 45,
   "metadata": {},
   "outputs": [
    {
     "name": "stdout",
     "output_type": "stream",
     "text": [
      "     1\t\"01067 2021-04-14T05:12:54Z co= null Städtisches Klinikum Dresden - Friedrichstadt   HighCare: VERFUEGBAR\"\n",
      "     2\t\"01307 2021-04-14T06:51:09Z co= null Universitätsklinikum Carl Gustav Carus   HighCare: VERFUEGBAR\"\n",
      "     3\t\"01307 2021-04-14T13:40:48Z co= null Herzzentrum Dresden   HighCare: BEGRENZT\"\n",
      "     4\t\"01589 2021-04-14T08:19:59Z co= null ELBLANDKLINIKUM Riesa, ELBLANDKLINIKUM Riesa   HighCare: BEGRENZT\"\n",
      "     5\t\"01640 2021-04-14T05:44:48Z co= null Fachkrankenhaus Coswig   HighCare: BEGRENZT\"\n",
      "     6\t\"04103 2021-04-14T05:22:36Z co= null Universitätsklinikum Leipzig AöR   HighCare: VERFUEGBAR\"\n",
      "     7\t\"04289 2021-04-14T07:09:09Z co= null Herzzentrum Leipzig   HighCare: BEGRENZT\"\n",
      "7\n",
      "Wed Apr 14 15:31:12 UTC 2021\n"
     ]
    }
   ],
   "source": [
    "! rm BITHLi\n",
    "! touch BITHLi && sort BettenSax.txt | nl | tee -a BITHLi | wc -l >> BITHLi && echo `date` >> BITHLi ; cat BITHLi"
   ]
  },
  {
   "cell_type": "code",
   "execution_count": 47,
   "metadata": {},
   "outputs": [
    {
     "name": "stdout",
     "output_type": "stream",
     "text": [
      "0\n",
      "Wed Apr 14 15:31:49 UTC 2021\n"
     ]
    }
   ],
   "source": [
    " ! rm BITHLi; touch BITHLi && sort BettenSax.txt | grep NICHT | nl | tee -a BITHLi | wc -l >> BITHLi && echo `date` >> BITHLi ; cat BITHLi"
   ]
  },
  {
   "cell_type": "code",
   "execution_count": 49,
   "metadata": {},
   "outputs": [
    {
     "name": "stdout",
     "output_type": "stream",
     "text": [
      "     1\t\"01067 2021-04-14T05:12:54Z co= null Städtisches Klinikum Dresden - Friedrichstadt   HighCare: VERFUEGBAR\"\n",
      "     2\t\"01307 2021-04-14T06:51:09Z co= null Universitätsklinikum Carl Gustav Carus   HighCare: VERFUEGBAR\"\n",
      "     3\t\"01307 2021-04-14T13:40:48Z co= null Herzzentrum Dresden   HighCare: BEGRENZT\"\n",
      "     4\t\"01589 2021-04-14T08:19:59Z co= null ELBLANDKLINIKUM Riesa, ELBLANDKLINIKUM Riesa   HighCare: BEGRENZT\"\n",
      "     5\t\"01640 2021-04-14T05:44:48Z co= null Fachkrankenhaus Coswig   HighCare: BEGRENZT\"\n",
      "     6\t\"03048 2021-04-14T07:41:05Z co= null Sana-Herzzentrum Cottbus   HighCare: BEGRENZT\"\n",
      "     7\t\"04103 2021-04-14T05:22:36Z co= null Universitätsklinikum Leipzig AöR   HighCare: VERFUEGBAR\"\n",
      "     8\t\"04289 2021-04-14T07:09:09Z co= null Herzzentrum Leipzig   HighCare: BEGRENZT\"\n",
      "     9\t\"04916 2021-04-14T05:40:38Z co= null Elbe-Elster-Klinikum Herzberg   HighCare: BEGRENZT\"\n",
      "    10\t\"06120 2021-04-14T05:29:06Z co= null Universitätsklinikum Halle (Saale)   HighCare: VERFUEGBAR\"\n",
      "    11\t\"06869 2021-04-14T06:47:36Z co= null MediClin Herzzentrum Coswig   HighCare: VERFUEGBAR\"\n",
      "    12\t\"07548 2021-04-14T04:26:48Z co= null SRH Wald-Klinikum Gera   HighCare: NICHT_VERFUEGBAR\"\n",
      "    13\t\"07747 2021-04-14T08:45:08Z co= null Universitätsklinikum Jena Lobeda   HighCare: VERFUEGBAR\"\n",
      "    14\t\"10117 2021-04-14T09:30:00Z co= null Charité Universitätsmedizin Berlin   HighCare: VERFUEGBAR\"\n",
      "    15\t\"12203 2021-04-14T09:23:51Z co= null Charité Universitätsmedizin Campus Benjamin Franklin   HighCare: VERFUEGBAR\"\n",
      "    16\t\"12683 2021-04-14T07:34:22Z co= null BG Klinikum Unfallkrankenhaus Berlin   HighCare: VERFUEGBAR\"\n",
      "    17\t\"13125 2021-04-14T06:50:44Z co= null Helios Klinikum Berlin-Buch   HighCare: VERFUEGBAR\"\n",
      "    18\t\"13353 2021-04-14T07:01:43Z co= null Deutsches Herzzentrum Berlin   HighCare: VERFUEGBAR\"\n",
      "    19\t\"13353 2021-04-14T09:28:23Z co= null Charité Universitätsmedizin Campus Virchow Klinikum   HighCare: VERFUEGBAR\"\n",
      "    20\t\"14089 2021-04-14T04:56:59Z co= null Gemeinschaftskrankenhaus Havelhöhe   HighCare: BEGRENZT\"\n",
      "    21\t\"15526 2021-04-14T05:09:13Z co= null Helios Klinikum Bad Saarow   HighCare: NICHT_VERFUEGBAR\"\n",
      "    22\t\"16321 2021-04-14T07:11:08Z co= null Herzzentrum Brandenburg   HighCare: BEGRENZT\"\n",
      "    23\t\"17192 2021-04-14T04:47:52Z co= null MediClin Müritz Klinikum, Waren   HighCare: BEGRENZT\"\n",
      "    24\t\"17489 2021-04-14T10:46:58Z co= null Universitätsmedizin Greifswald   HighCare: BEGRENZT\"\n",
      "    25\t\"17495 2021-04-14T05:56:02Z co= null Klinikum Karlsburg   HighCare: NICHT_VERFUEGBAR\"\n",
      "    26\t\"18435 2021-04-14T06:46:43Z co= null Helios Hanseklinikum Stralsund   HighCare: VERFUEGBAR\"\n",
      "    27\t\"19049 2021-04-14T05:25:37Z co= null Helios Kliniken Schwerin   HighCare: VERFUEGBAR\"\n",
      "    28\t\"20099 2021-04-14T07:37:15Z co= null Asklepios Klinik St. Georg   HighCare: BEGRENZT\"\n",
      "    29\t\"20251 2021-04-14T14:51:28Z co= null Universitätsklinikum Hamburg-Eppendorf   HighCare: VERFUEGBAR\"\n",
      "    30\t\"21075 2021-04-14T07:58:53Z co= null Asklepios Klinikum Harburg   HighCare: VERFUEGBAR\"\n",
      "    31\t\"22049 2021-04-14T08:57:00Z co= null Bundeswehrkrankenhaus Hamburg   HighCare: VERFUEGBAR\"\n",
      "    32\t\"22087 2021-04-14T09:47:10Z co= null Kath. Marienkrankenhaus   HighCare: VERFUEGBAR\"\n",
      "    33\t\"22417 2021-04-14T07:12:46Z co= null Asklpios Klinik Nord, Heidberg   HighCare: VERFUEGBAR\"\n",
      "    34\t\"22457 2021-04-14T08:23:50Z co= null Albertinen Krankenhaus   HighCare: VERFUEGBAR\"\n",
      "    35\t\"23562 2021-04-14T09:16:16Z co= null Universitätsklinikum, Campus Lübeck   HighCare: VERFUEGBAR\"\n",
      "    36\t\"23795 2021-04-14T07:24:56Z co= null Segeberger Kliniken, Bad Segeberg   HighCare: VERFUEGBAR\"\n",
      "    37\t\"24105 2021-04-14T06:51:33Z co= null Universitätsklinikum, Campus Kiel   HighCare: VERFUEGBAR\"\n",
      "    38\t\"24768 2021-04-14T07:04:08Z co= null imland, Standort Rendsburg   HighCare: VERFUEGBAR\"\n",
      "    39\t\"25746 2021-04-14T08:48:45Z co= null Westküstenkliniken   HighCare: BEGRENZT\"\n",
      "    40\t\"26122 2021-04-14T07:17:47Z co= null Evangelisches Krankenhaus Oldenburg   HighCare: NICHT_VERFUEGBAR\"\n",
      "    41\t\"26133 2021-04-14T06:39:19Z co= null Klinikum Oldenburg AöR   HighCare: VERFUEGBAR\"\n",
      "    42\t\"26389 2021-04-14T05:59:52Z co= null Klinikum Wilhelmshaven   HighCare: BEGRENZT\"\n",
      "    43\t\"26721 2021-04-14T07:08:22Z co= null Klinikum Emden   HighCare: VERFUEGBAR\"\n",
      "    44\t\"28205 2021-04-14T06:21:16Z co= null Klinikum Bremen Mitte   HighCare: VERFUEGBAR\"\n",
      "    45\t\"28277 2021-04-14T08:05:24Z co= null Klinikum Links der Weser   HighCare: BEGRENZT\"\n",
      "    46\t\"29549 2021-04-14T03:46:20Z co= null Herz-Kreislauf-Klinik Bevensen   HighCare: VERFUEGBAR\"\n",
      "    47\t\"30625 2021-04-14T05:11:37Z co= null Medizinische Hochschule Hannover, Medizinische Hochschule Hannover - Campus   HighCare: VERFUEGBAR\"\n",
      "    48\t\"32049 2021-04-13T05:28:08Z co= null Klinikum Herford AöR   HighCare: BEGRENZT\"\n",
      "    49\t\"32545 2021-04-14T09:41:15Z co= null Herz- und Diabeteszentrum NRW   HighCare: BEGRENZT\"\n",
      "    50\t\"32657 2021-04-14T05:19:52Z co= null Klinikum Lippe, Standort Lemgo   HighCare: BEGRENZT\"\n",
      "    51\t\"33098 2021-04-14T10:30:16Z co= null St. Vincenz-Krankenhaus   HighCare: NICHT_VERFUEGBAR\"\n",
      "    52\t\"33175 2021-04-14T09:19:09Z co= null Karl-Hansen-Klinik   HighCare: NICHT_VERFUEGBAR\"\n",
      "    53\t\"33604 2021-04-14T07:25:45Z co= null Klinikum Bielefeld Mitte   HighCare: BEGRENZT\"\n",
      "    54\t\"34125 2021-04-14T06:51:20Z co= null Klinikum Kassel   HighCare: BEGRENZT\"\n",
      "    55\t\"35043 2021-04-14T07:39:38Z co= null Universitätsklinikum Marburg   HighCare: BEGRENZT\"\n",
      "    56\t\"35392 2021-04-14T08:56:36Z co= null Universitätsklinikum Gießen und Marburg   HighCare: BEGRENZT\"\n",
      "    57\t\"35398 2021-04-14T08:24:14Z co= null Agaplesion Ev. Krankenhaus Mittelhessen   HighCare: BEGRENZT\"\n",
      "    58\t\"36043 2021-04-14T08:02:02Z co= null Klinikum Fulda   HighCare: VERFUEGBAR\"\n",
      "    59\t\"36199 2021-04-14T06:50:16Z co= null Herz-Kreislauf-Zentrum Rotenburg   HighCare: BEGRENZT\"\n",
      "    60\t\"36251 2021-04-14T06:45:09Z co= null Klinikum Bad Hersfeld   HighCare: VERFUEGBAR\"\n",
      "    61\t\"37075 2021-04-14T07:25:29Z co= null Universitätsmedizin Göttingen, Standort UMG   HighCare: BEGRENZT\"\n",
      "    62\t\"37671 2021-04-14T07:21:45Z co= null St. Ansgar Krankenhaus   HighCare: VERFUEGBAR\"\n",
      "    63\t\"38126 2021-04-14T05:45:23Z co= null Städtisches Klinikum Braunschweig gGmbH, Klinikum Salzdahlumer Straße   HighCare: VERFUEGBAR\"\n",
      "    64\t\"39120 2021-04-14T05:41:37Z co= null Universitätsklinikum Magdeburg   HighCare: VERFUEGBAR\"\n",
      "    65\t\"39130 2021-04-14T06:49:41Z co= null Klinikum Magdeburg   HighCare: VERFUEGBAR\"\n",
      "    66\t\"40225 2021-04-14T07:08:26Z co= null Universitätsklinikum Düsseldorf   HighCare: NICHT_VERFUEGBAR\"\n",
      "    67\t\"41063 2021-04-14T07:49:47Z co= null Kliniken Maria Hilf   HighCare: NICHT_VERFUEGBAR\"\n",
      "    68\t\"41464 2021-04-14T09:07:13Z co= null Lukaskrankenhaus Neuss   HighCare: VERFUEGBAR\"\n",
      "    69\t\"41747 2021-04-14T05:08:46Z co= null Allgemeines Krankenhaus Viersen   HighCare: NICHT_VERFUEGBAR\"\n",
      "    70\t\"42117 2021-04-14T09:55:13Z co= null Helios Klinikum Wuppertal, Helios Klinikum Wuppertal, Standort Elberfeld   HighCare: BEGRENZT\"\n",
      "    71\t\"42283 2021-04-14T05:41:15Z co= null Klinikverbund St. Antonius und St. Josef GmbH, Petrus-Krankenhaus   HighCare: VERFUEGBAR\"\n",
      "    72\t\"42283 2021-04-14T09:51:50Z co= null Helios Klinikum Wuppertal, Standort Barmen   HighCare: VERFUEGBAR\"\n",
      "    73\t\"42699 2021-04-14T07:56:59Z co= null Krankenhaus Bethanien   HighCare: VERFUEGBAR\"\n",
      "    74\t\"44137 2021-04-14T06:24:18Z co= null St.-Johannes-Hospital Dortmund   HighCare: BEGRENZT\"\n",
      "    75\t\"44137 2021-04-14T07:58:12Z co= null Klinikzentrum Mitte   HighCare: VERFUEGBAR\"\n",
      "    76\t\"44309 2021-04-14T08:50:12Z co= null Knappschaftskrankenhaus Dortmund   HighCare: NICHT_VERFUEGBAR\"\n",
      "    77\t\"44534 2021-04-14T08:04:27Z co= null St.-Marien-Hospital   HighCare: NICHT_VERFUEGBAR\"\n",
      "    78\t\"44536 2021-04-14T06:11:32Z co= null Klinikum Westfalen GmbH - KKDO, KaP, HK, Klinik am Park Lünen   HighCare: NICHT_VERFUEGBAR\"\n",
      "    79\t\"44625 2021-04-14T05:57:37Z co= null Marien Hospital Herne   HighCare: BEGRENZT\"\n",
      "    80\t\"44789 2021-04-14T06:56:48Z co= null Universitätsklinikum Bergmannsheil   HighCare: BEGRENZT\"\n",
      "    81\t\"44791 2021-04-14T06:25:14Z co= null Augusta-Kranken-Anstalt - Bochum-Mitte   HighCare: NICHT_VERFUEGBAR\"\n",
      "    82\t\"44791 2021-04-14T09:31:48Z co= null Kath. Klinikum Bochum JH   HighCare: VERFUEGBAR\"\n",
      "    83\t\"44892 2021-04-14T05:33:48Z co= null Universitätsklinikum Knappschaftskrankenhaus   HighCare: BEGRENZT\"\n",
      "    84\t\"45131 2021-04-14T07:26:11Z co= null Alfried Krupp Krankenhaus   HighCare: BEGRENZT\"\n",
      "    85\t\"45138 2021-04-14T07:09:12Z co= null Universitätsklinikum Essen, Herzchirurgie Huttrop   HighCare: NICHT_VERFUEGBAR\"\n",
      "    86\t\"45138 2021-04-14T07:54:10Z co= null Elisabeth-Krankenhaus Essen   HighCare: BEGRENZT\"\n",
      "    87\t\"45147 2021-04-14T06:02:57Z co= null Universitätsklinikum Essen   HighCare: VERFUEGBAR\"\n",
      "    88\t\"45239 2021-04-14T06:15:25Z co= null Ruhrlandklinik – Westdeutsches Lungenzentrum   HighCare: BEGRENZT\"\n",
      "    89\t\"47137 2021-04-14T09:29:52Z co= null Herzzentrum Duisburg   HighCare: BEGRENZT\"\n",
      "    90\t\"47198 2021-04-14T07:05:23Z co= null Malteser Klinikum Duisburg   HighCare: NICHT_VERFUEGBAR\"\n",
      "    91\t\"47249 2021-04-14T04:59:32Z co= null BG Klinikum Duisburg   HighCare: VERFUEGBAR\"\n",
      "    92\t\"47259 2021-04-14T06:25:20Z co= null Malteser Krankenhaus St. Anna   HighCare: NICHT_VERFUEGBAR\"\n",
      "    93\t\"47805 2021-04-14T07:00:00Z co= null Helios Klinikum Krefeld   HighCare: VERFUEGBAR\"\n",
      "    94\t\"48145 2021-04-14T06:45:28Z co= null St. Franziskus-Hospital   HighCare: VERFUEGBAR\"\n",
      "    95\t\"48149 2021-04-14T07:37:31Z co= null Universitätsklinikum Münster   HighCare: NICHT_VERFUEGBAR\"\n",
      "    96\t\"48153 2021-04-14T08:56:26Z co= null Clemenshospital Münster   HighCare: NICHT_VERFUEGBAR\"\n",
      "    97\t\"49074 2021-04-14T05:03:12Z co= null Marienhospital Osnabrück   HighCare: VERFUEGBAR\"\n",
      "    98\t\"49076 2021-04-14T07:05:03Z co= null Klinikum Osnabrück GmbH   HighCare: BEGRENZT\"\n",
      "    99\t\"49214 2021-04-14T08:43:10Z co= null Schüchtermann-Schiller`sche Kliniken Bad Rothenfelde GmbH & Co. KG, Hauptstandort   HighCare: VERFUEGBAR\"\n",
      "   100\t\"49477 2021-04-14T09:54:52Z co= null Klinikum Ibbenbüren   HighCare: NICHT_VERFUEGBAR\"\n",
      "   101\t\"50937 2021-04-14T10:31:24Z co= null Uniklinik Köln   HighCare: BEGRENZT\"\n",
      "   102\t\"50968 2021-04-14T04:34:20Z co= null St. Antonius Krankenhaus   HighCare: NICHT_VERFUEGBAR\"\n",
      "   103\t\"51109 2021-04-14T07:07:35Z co= null Krankenhaus Merheim   HighCare: BEGRENZT\"\n",
      "   104\t\"51375 2021-04-14T07:34:35Z co= null Klinikum Leverkusen   HighCare: VERFUEGBAR\"\n",
      "   105\t\"52074 2021-04-14T12:39:41Z co= null Uniklinikum Aachen   HighCare: BEGRENZT\"\n",
      "   106\t\"53113 2021-04-14T03:33:04Z co= null Universitätsklinikum Bonn Zentrum für Kinderheilkunde   HighCare: NICHT_VERFUEGBAR\"\n",
      "   107\t\"53127 2021-04-14T07:36:05Z co= null Universitätsklinikum Bonn   HighCare: VERFUEGBAR\"\n",
      "   108\t\"53721 2021-04-14T08:36:43Z co= null Helios Klinikum Siegburg   HighCare: NICHT_VERFUEGBAR\"\n",
      "   109\t\"54290 2021-04-14T06:22:41Z co= null Klinikum Mutterhaus   HighCare: VERFUEGBAR\"\n",
      "   110\t\"54292 2021-04-14T07:02:25Z co= null Krankenhaus der Barmherzigen Brüder Trier   HighCare: BEGRENZT\"\n",
      "   111\t\"55131 2021-04-14T09:18:54Z co= null Universitätsmedizin Johannes Gutenberg-Universität   HighCare: VERFUEGBAR\"\n",
      "   112\t\"56072 2021-04-14T05:36:26Z co= null Bundeswehr Zentralkrankenhaus Koblenz   HighCare: BEGRENZT\"\n",
      "   113\t\"56073 2021-04-14T06:02:13Z co= null Gemeinschaftsklinikum Mittelrhein   HighCare: VERFUEGBAR\"\n",
      "   114\t\"56073 2021-04-14T06:39:39Z co= null Kath. Klinikum Koblenz   HighCare: VERFUEGBAR\"\n",
      "   115\t\"56626 2021-04-14T06:18:56Z co= null St. Nikolaus-Stiftshospital   HighCare: VERFUEGBAR\"\n",
      "   116\t\"58675 2021-04-14T08:15:37Z co= null Lungenklinik Hemer   HighCare: NICHT_VERFUEGBAR\"\n",
      "   117\t\"59870 2021-04-14T06:27:52Z co= null St. Walburga-Krankenhaus   HighCare: BEGRENZT\"\n",
      "   118\t\"60488 2021-04-14T05:37:53Z co= null Krankenhaus Nordwest, Hauptstandort   HighCare: NICHT_VERFUEGBAR\"\n",
      "   119\t\"60596 2021-04-14T07:48:43Z co= null Universitätsklinikum Frankfurt   HighCare: VERFUEGBAR\"\n",
      "   120\t\"61231 2021-04-14T07:59:17Z co= null Kerckhoff-Klinik gGmbH, Hauptstandort   HighCare: NICHT_VERFUEGBAR\"\n",
      "   121\t\"63069 2021-04-14T09:34:32Z co= null Sana Klinikum Offenbach   HighCare: VERFUEGBAR\"\n",
      "   122\t\"63225 2021-04-14T06:37:25Z co= null Asklepios Klinik Langen   HighCare: BEGRENZT\"\n",
      "   123\t\"63450 2021-04-14T06:04:45Z co= null Klinikum Hanau GmbH, Klinikum Hanau   HighCare: VERFUEGBAR\"\n",
      "   124\t\"64283 2021-04-14T05:41:32Z co= null Klinikum Darmstadt GmbH, Klinikum Darmstadt, Hauptstandort   HighCare: BEGRENZT\"\n",
      "   125\t\"64646 2021-04-14T07:08:02Z co= null Kreiskrankenhaus Bergstraße   HighCare: BEGRENZT\"\n",
      "   126\t\"65189 2021-04-14T07:15:47Z co= null St. Josefs-Hospital Wiesbaden   HighCare: BEGRENZT\"\n",
      "   127\t\"65199 2021-04-14T06:36:01Z co= null Helios Dr. Horst-Schmidt-Kliniken   HighCare: BEGRENZT\"\n",
      "   128\t\"65549 2021-04-14T06:10:17Z co= null St. Vincenz-Krankenhaus Limburg, Limburg   HighCare: BEGRENZT\"\n",
      "   129\t\"65929 2021-04-14T05:10:58Z co= null Klinikum Frankfurt Höchst   HighCare: NICHT_VERFUEGBAR\"\n",
      "   130\t\"66119 2021-04-14T08:10:37Z co= null Klinikum Saarbrücken   HighCare: VERFUEGBAR\"\n",
      "   131\t\"66333 2021-04-14T05:27:16Z co= null SHG-Kliniken Völklingen   HighCare: VERFUEGBAR\"\n",
      "   132\t\"66424 2021-04-14T07:09:17Z co= null Universitätsklinikum des Saarlandes Homburg   HighCare: BEGRENZT\"\n",
      "   133\t\"67063 2021-04-14T09:22:34Z co= null Klinikum Ludwigshafen   HighCare: NICHT_VERFUEGBAR\"\n",
      "   134\t\"67655 2021-04-14T07:56:39Z co= null Westpfalz-Klinikum Kaiserslautern   HighCare: VERFUEGBAR\"\n",
      "   135\t\"68167 2021-04-14T06:47:18Z co= null Universitätsklinikum Mannheim   HighCare: VERFUEGBAR\"\n",
      "   136\t\"69120 2021-04-14T06:45:46Z co= null Campus Neuenheimer Feld   HighCare: BEGRENZT\"\n",
      "   137\t\"69126 2021-04-14T09:45:50Z co= null Thoraxklinik Heidelberg   HighCare: NICHT_VERFUEGBAR\"\n",
      "   138\t\"70174 2021-04-14T06:11:32Z co= null Klinikum Stuttgart - Katharinenhospital   HighCare: VERFUEGBAR\"\n",
      "   139\t\"70174 2021-04-14T06:12:10Z co= null Klinikum Stuttgart, Klinikum Stuttgart - OH/FK - Olgahospital/Frauenklinik   HighCare: VERFUEGBAR\"\n",
      "   140\t\"70174 2021-04-14T06:41:34Z co= null Sana Herzchirurgie Stuttgart   HighCare: NICHT_VERFUEGBAR\"\n",
      "   141\t\"70376 2021-04-14T05:35:40Z co= null Robert-Bosch-Krankenhaus   HighCare: VERFUEGBAR\"\n",
      "   142\t\"70839 2021-04-14T07:50:31Z co= null Robert-Bosch-Krankenhaus, Klinik Schillerhöhe   HighCare: NICHT_VERFUEGBAR\"\n",
      "   143\t\"72076 2021-04-14T06:19:01Z co= null Universitätsklinikum Tübingen   HighCare: VERFUEGBAR\"\n",
      "   144\t\"72764 2021-04-14T07:05:40Z co= null Klinikum am Steinenberg   HighCare: VERFUEGBAR\"\n",
      "   145\t\"73730 2021-04-14T09:33:06Z co= null Klinikum Esslingen   HighCare: VERFUEGBAR\"\n",
      "   146\t\"74078 2021-04-14T04:24:45Z co= null Klinikum am Gesundbrunnen   HighCare: BEGRENZT\"\n",
      "   147\t\"74177 2021-04-14T05:32:25Z co= null Klinikum am Plattenwald, Bad Friedrichshall   HighCare: VERFUEGBAR\"\n",
      "   148\t\"74523 2021-04-14T06:40:27Z co= null Diakonie-Klinikum Schwäbisch Hall   HighCare: BEGRENZT\"\n",
      "   149\t\"75175 2021-04-14T05:37:42Z co= null Helios Klinikum Pforzheim   HighCare: VERFUEGBAR\"\n",
      "   150\t\"76133 2021-04-14T06:24:42Z co= null Städtisches Klinikum Karlsruhe   HighCare: NICHT_VERFUEGBAR\"\n",
      "   151\t\"76185 2021-04-14T05:47:48Z co= null Helios Klinik für Herzchirurgie Karlsruhe   HighCare: BEGRENZT\"\n",
      "   152\t\"77933 2021-04-14T04:21:34Z co= null MediClin Herzzentrum Lahr/Baden   HighCare: BEGRENZT\"\n",
      "   153\t\"78052 2021-04-14T05:33:37Z co= null Schwarzwald-Baar Klinikum   HighCare: VERFUEGBAR\"\n",
      "   154\t\"78464 2021-04-14T07:20:10Z co= null Herz- Zentrum Bodensee   HighCare: VERFUEGBAR\"\n",
      "   155\t\"79104 2021-04-14T06:04:50Z co= null St. Josefskrankenhaus Freiburg   HighCare: VERFUEGBAR\"\n",
      "   156\t\"79106 2021-04-14T08:29:12Z co= null Universitätsklinikum Freiburg   HighCare: VERFUEGBAR\"\n",
      "   157\t\"79215 2021-04-14T06:03:29Z co= null BDH-Klinik Elzach   HighCare: BEGRENZT\"\n",
      "   158\t\"80636 2021-04-14T04:25:18Z co= null Deutsches Herzzentrum München   HighCare: VERFUEGBAR\"\n",
      "   159\t\"80639 2021-04-14T05:02:14Z co= null Barmherzige Brüder Krankenhaus München   HighCare: NICHT_VERFUEGBAR\"\n",
      "   160\t\"81241 2021-04-14T07:16:55Z co= null Helios Klinikum München West   HighCare: BEGRENZT\"\n",
      "   161\t\"81375 2021-04-14T08:32:31Z co= null Klinikum der Universität München, Klinikum der Universität München - Außenstelle Augustinum   HighCare: NICHT_VERFUEGBAR\"\n",
      "   162\t\"81377 2021-04-14T08:35:35Z co= null Klinikum der Universität München   HighCare: BEGRENZT\"\n",
      "   163\t\"81545 2021-04-14T08:29:19Z co= null München Klinik Harlaching   HighCare: BEGRENZT\"\n",
      "   164\t\"81675 2021-04-14T07:45:04Z co= null Klinikum rechts der Isar der TU München   HighCare: BEGRENZT\"\n",
      "   165\t\"81737 2021-04-14T05:28:32Z co= null München Klinik Neuperlach   HighCare: NICHT_VERFUEGBAR\"\n",
      "   166\t\"81925 2021-04-14T08:19:39Z co= null München Klinik Bogenhausen   HighCare: BEGRENZT\"\n",
      "   167\t\"82418 2021-04-14T08:05:54Z co= null BG Klinikum Murnau   HighCare: VERFUEGBAR\"\n",
      "   168\t\"83278 2021-04-14T07:13:19Z co= null Klinikum Traunstein   HighCare: VERFUEGBAR\"\n",
      "   169\t\"83569 2021-04-14T05:42:26Z co= null Schön Klinik Vogtareuth   HighCare: BEGRENZT\"\n",
      "   170\t\"85049 2021-04-14T05:12:25Z co= null Klinikum Ingolstadt   HighCare: BEGRENZT\"\n",
      "   171\t\"86156 2021-04-14T05:35:45Z co= null Universitätsklinikum Augsburg, Medizincampus   HighCare: BEGRENZT\"\n",
      "   172\t\"87509 2021-04-13T23:58:27Z co= null Klinik Immenstadt   HighCare: BEGRENZT\"\n",
      "   173\t\"87600 2021-04-14T05:05:35Z co= null Kliniken Ostallgäu-Kaufbeuren, AöR des Landkreises Ostallgäu und der Stadt Kaufbeuren - Klinikum Kaufbeuren, Klinikum Kaufbeuren   HighCare: BEGRENZT\"\n",
      "   174\t\"90419 2021-04-14T06:09:05Z co= null Klinikum Nürnberg Nord   HighCare: VERFUEGBAR\"\n",
      "   175\t\"91054 2021-04-14T05:48:38Z co= null Universitätsklinikum Erlangen   HighCare: NICHT_VERFUEGBAR\"\n",
      "   176\t\"91438 2021-04-14T06:38:25Z co= null Dr. Becker Kiliani Klinik - Akut   HighCare: BEGRENZT\"\n",
      "   177\t\"92224 2021-04-14T06:13:40Z co= null Klinikum St. Marien Amberg   HighCare: VERFUEGBAR\"\n",
      "   178\t\"92637 2021-04-14T07:15:49Z co= null Klinikum Weiden   HighCare: VERFUEGBAR\"\n",
      "   179\t\"93049 2021-04-14T05:03:01Z co= null Krankenhaus Barmherzige Brüder Regensburg   HighCare: VERFUEGBAR\"\n",
      "   180\t\"93053 2021-04-14T06:08:11Z co= null Caritas-Krankenhaus St. Josef   HighCare: VERFUEGBAR\"\n",
      "   181\t\"93053 2021-04-14T06:49:41Z co= null Universitätsklinikum Regensburg   HighCare: VERFUEGBAR\"\n",
      "   182\t\"93133 2021-04-14T05:44:00Z co= null Asklepios Klinik im Städtedreieck   HighCare: VERFUEGBAR\"\n",
      "   183\t\"94032 2021-04-14T07:00:27Z co= null Klinikum Passau   HighCare: BEGRENZT\"\n",
      "   184\t\"95326 2021-04-14T07:19:03Z co= null Klinikum Kulmbach   HighCare: NICHT_VERFUEGBAR\"\n",
      "   185\t\"95445 2021-04-14T07:38:58Z co= null Klinikum Bayreuth   HighCare: BEGRENZT\"\n",
      "   186\t\"96049 2021-04-14T11:09:57Z co= null Klinikum Bamberg Betriebsstätte Bruderwald   HighCare: VERFUEGBAR\"\n",
      "   187\t\"96450 2021-04-14T07:07:48Z co= null Klinikum Coburg   HighCare: VERFUEGBAR\"\n",
      "   188\t\"97080 2021-04-14T07:43:27Z co= null Universitätsklinikum Würzburg   HighCare: BEGRENZT\"\n",
      "   189\t\"97616 2021-04-14T06:27:31Z co= null RHÖN-KLINIKUM Campus Bad Neustadt   HighCare: VERFUEGBAR\"\n",
      "   190\t\"98527 2021-04-14T09:29:48Z co= null SRH Zentralklinikum Suhl   HighCare: NICHT_VERFUEGBAR\"\n",
      "   191\t\"99089 2021-04-14T06:30:24Z co= null Helios Klinikum Erfurt   HighCare: BEGRENZT\"\n",
      "   192\t\"99437 2021-04-14T05:27:44Z co= null Zentralklinik Bad Berka   HighCare: NICHT_VERFUEGBAR\"\n",
      "   193\t\"99768 2021-04-14T06:52:53Z co= null Lungenklinik Neustadt   HighCare: BEGRENZT\"\n",
      "193\n",
      "Wed Apr 14 15:37:09 UTC 2021\n"
     ]
    }
   ],
   "source": [
    "! rm BITHLi\n",
    "! touch BITHLi && sort BettenECMODE.txt | nl | tee -a BITHLi | wc -l >> BITHLi && echo `date` >> BITHLi ; cat BITHLi"
   ]
  },
  {
   "cell_type": "code",
   "execution_count": 50,
   "metadata": {},
   "outputs": [
    {
     "name": "stdout",
     "output_type": "stream",
     "text": [
      "     1\t\"07548 2021-04-14T04:26:48Z co= null SRH Wald-Klinikum Gera   HighCare: NICHT_VERFUEGBAR\"\n",
      "     2\t\"15526 2021-04-14T05:09:13Z co= null Helios Klinikum Bad Saarow   HighCare: NICHT_VERFUEGBAR\"\n",
      "     3\t\"17495 2021-04-14T05:56:02Z co= null Klinikum Karlsburg   HighCare: NICHT_VERFUEGBAR\"\n",
      "     4\t\"26122 2021-04-14T07:17:47Z co= null Evangelisches Krankenhaus Oldenburg   HighCare: NICHT_VERFUEGBAR\"\n",
      "     5\t\"33098 2021-04-14T10:30:16Z co= null St. Vincenz-Krankenhaus   HighCare: NICHT_VERFUEGBAR\"\n",
      "     6\t\"33175 2021-04-14T09:19:09Z co= null Karl-Hansen-Klinik   HighCare: NICHT_VERFUEGBAR\"\n",
      "     7\t\"40225 2021-04-14T07:08:26Z co= null Universitätsklinikum Düsseldorf   HighCare: NICHT_VERFUEGBAR\"\n",
      "     8\t\"41063 2021-04-14T07:49:47Z co= null Kliniken Maria Hilf   HighCare: NICHT_VERFUEGBAR\"\n",
      "     9\t\"41747 2021-04-14T05:08:46Z co= null Allgemeines Krankenhaus Viersen   HighCare: NICHT_VERFUEGBAR\"\n",
      "    10\t\"44309 2021-04-14T08:50:12Z co= null Knappschaftskrankenhaus Dortmund   HighCare: NICHT_VERFUEGBAR\"\n",
      "    11\t\"44534 2021-04-14T08:04:27Z co= null St.-Marien-Hospital   HighCare: NICHT_VERFUEGBAR\"\n",
      "    12\t\"44536 2021-04-14T06:11:32Z co= null Klinikum Westfalen GmbH - KKDO, KaP, HK, Klinik am Park Lünen   HighCare: NICHT_VERFUEGBAR\"\n",
      "    13\t\"44791 2021-04-14T06:25:14Z co= null Augusta-Kranken-Anstalt - Bochum-Mitte   HighCare: NICHT_VERFUEGBAR\"\n",
      "    14\t\"45138 2021-04-14T07:09:12Z co= null Universitätsklinikum Essen, Herzchirurgie Huttrop   HighCare: NICHT_VERFUEGBAR\"\n",
      "    15\t\"47198 2021-04-14T07:05:23Z co= null Malteser Klinikum Duisburg   HighCare: NICHT_VERFUEGBAR\"\n",
      "    16\t\"47259 2021-04-14T06:25:20Z co= null Malteser Krankenhaus St. Anna   HighCare: NICHT_VERFUEGBAR\"\n",
      "    17\t\"48149 2021-04-14T07:37:31Z co= null Universitätsklinikum Münster   HighCare: NICHT_VERFUEGBAR\"\n",
      "    18\t\"48153 2021-04-14T08:56:26Z co= null Clemenshospital Münster   HighCare: NICHT_VERFUEGBAR\"\n",
      "    19\t\"49477 2021-04-14T09:54:52Z co= null Klinikum Ibbenbüren   HighCare: NICHT_VERFUEGBAR\"\n",
      "    20\t\"50968 2021-04-14T04:34:20Z co= null St. Antonius Krankenhaus   HighCare: NICHT_VERFUEGBAR\"\n",
      "    21\t\"53113 2021-04-14T03:33:04Z co= null Universitätsklinikum Bonn Zentrum für Kinderheilkunde   HighCare: NICHT_VERFUEGBAR\"\n",
      "    22\t\"53721 2021-04-14T08:36:43Z co= null Helios Klinikum Siegburg   HighCare: NICHT_VERFUEGBAR\"\n",
      "    23\t\"58675 2021-04-14T08:15:37Z co= null Lungenklinik Hemer   HighCare: NICHT_VERFUEGBAR\"\n",
      "    24\t\"60488 2021-04-14T05:37:53Z co= null Krankenhaus Nordwest, Hauptstandort   HighCare: NICHT_VERFUEGBAR\"\n",
      "    25\t\"61231 2021-04-14T07:59:17Z co= null Kerckhoff-Klinik gGmbH, Hauptstandort   HighCare: NICHT_VERFUEGBAR\"\n",
      "    26\t\"65929 2021-04-14T05:10:58Z co= null Klinikum Frankfurt Höchst   HighCare: NICHT_VERFUEGBAR\"\n",
      "    27\t\"67063 2021-04-14T09:22:34Z co= null Klinikum Ludwigshafen   HighCare: NICHT_VERFUEGBAR\"\n",
      "    28\t\"69126 2021-04-14T09:45:50Z co= null Thoraxklinik Heidelberg   HighCare: NICHT_VERFUEGBAR\"\n",
      "    29\t\"70174 2021-04-14T06:41:34Z co= null Sana Herzchirurgie Stuttgart   HighCare: NICHT_VERFUEGBAR\"\n",
      "    30\t\"70839 2021-04-14T07:50:31Z co= null Robert-Bosch-Krankenhaus, Klinik Schillerhöhe   HighCare: NICHT_VERFUEGBAR\"\n",
      "    31\t\"76133 2021-04-14T06:24:42Z co= null Städtisches Klinikum Karlsruhe   HighCare: NICHT_VERFUEGBAR\"\n",
      "    32\t\"80639 2021-04-14T05:02:14Z co= null Barmherzige Brüder Krankenhaus München   HighCare: NICHT_VERFUEGBAR\"\n",
      "    33\t\"81375 2021-04-14T08:32:31Z co= null Klinikum der Universität München, Klinikum der Universität München - Außenstelle Augustinum   HighCare: NICHT_VERFUEGBAR\"\n",
      "    34\t\"81737 2021-04-14T05:28:32Z co= null München Klinik Neuperlach   HighCare: NICHT_VERFUEGBAR\"\n",
      "    35\t\"91054 2021-04-14T05:48:38Z co= null Universitätsklinikum Erlangen   HighCare: NICHT_VERFUEGBAR\"\n",
      "    36\t\"95326 2021-04-14T07:19:03Z co= null Klinikum Kulmbach   HighCare: NICHT_VERFUEGBAR\"\n",
      "    37\t\"98527 2021-04-14T09:29:48Z co= null SRH Zentralklinikum Suhl   HighCare: NICHT_VERFUEGBAR\"\n",
      "    38\t\"99437 2021-04-14T05:27:44Z co= null Zentralklinik Bad Berka   HighCare: NICHT_VERFUEGBAR\"\n",
      "38\n",
      "Wed Apr 14 15:37:32 UTC 2021\n"
     ]
    }
   ],
   "source": [
    " ! rm BITHLi; touch BITHLi && sort BettenECMODE.txt | grep NICHT | nl | tee -a BITHLi | wc -l >> BITHLi && echo `date` >> BITHLi ; cat BITHLi"
   ]
  },
  {
   "cell_type": "markdown",
   "metadata": {},
   "source": [
    "we will not count the people WITH covid, \n",
    "\n",
    "only we SHOW as example working with the tool"
   ]
  },
  {
   "cell_type": "markdown",
   "metadata": {},
   "source": [
    "Our best wishes all the people: \n",
    "\n",
    "\n",
    "## Be quick healthy again!"
   ]
  },
  {
   "cell_type": "markdown",
   "metadata": {},
   "source": [
    "Every suggestion, mostly for code, are very welcome. \n",
    "\n",
    "## Keep healthy!"
   ]
  },
  {
   "cell_type": "code",
   "execution_count": 29,
   "metadata": {},
   "outputs": [
    {
     "name": "stdout",
     "output_type": "stream",
     "text": [
      "Wed Apr 14 15:11:18 UTC 2021\n",
      "this was all for the 1st ... CU! :)  \n"
     ]
    }
   ],
   "source": [
    "! date ; echo \"this was all for the 1st ... CU! :)  \""
   ]
  },
  {
   "cell_type": "code",
   "execution_count": 30,
   "metadata": {},
   "outputs": [],
   "source": [
    "! # curl --manual \n",
    "! # http://ix.io/user/catcount"
   ]
  },
  {
   "cell_type": "code",
   "execution_count": 31,
   "metadata": {},
   "outputs": [
    {
     "name": "stdout",
     "output_type": "stream",
     "text": [
      "\n"
     ]
    }
   ],
   "source": [
    "!    memf=$(awk -F\"[: ]+\" '/MemFree/ {print $2;exit}' /proc/meminfo); \n",
    "!    echo $memf "
   ]
  },
  {
   "cell_type": "code",
   "execution_count": 32,
   "metadata": {},
   "outputs": [
    {
     "name": "stdout",
     "output_type": "stream",
     "text": [
      "713872\n"
     ]
    }
   ],
   "source": [
    "! awk -F\"[: ]+\" '/MemFree/ {print $2;exit}' /proc/meminfo"
   ]
  },
  {
   "cell_type": "code",
   "execution_count": 33,
   "metadata": {},
   "outputs": [
    {
     "name": "stdout",
     "output_type": "stream",
     "text": [
      "GCS_PROXY_PORT=tcp://10.3.244.175:80\n",
      "CONDA_SHLVL=1\n",
      "PYTHONUNBUFFERED=1\n",
      "LC_ALL=en_US.UTF-8\n",
      "JUPYTERHUB_CLIENT_ID=jupyterhub-user-pflegende-betteninventurth-i970zo63\n",
      "APP_BASE=/srv\n",
      "KERNEL_PYTHON_PREFIX=/srv/conda/envs/notebook\n",
      "CONDA_EXE=/srv/conda/bin/conda\n",
      "PROXY_API_PORT=tcp://10.3.244.201:8001\n",
      "FEDERATION_REDIRECT_PORT=tcp://10.3.244.205:80\n",
      "PROD_INGRESS_NGINX_DEFAULTBACKEND_SERVICE_HOST=10.3.249.179\n",
      "PROD_PROMETHEUS_SERVER_PORT_80_TCP_PROTO=tcp\n",
      "PROXY_API_PORT_8001_TCP_PORT=8001\n",
      "FEDERATION_REDIRECT_PORT_80_TCP_PROTO=tcp\n",
      "JUPYTERHUB_ADMIN_ACCESS=1\n",
      "PROD_KUBE_STATE_METRICS_SERVICE_PORT=8080\n",
      "PROD_PROMETHEUS_SERVER_SERVICE_HOST=10.3.241.169\n",
      "LANG=en_US.UTF-8\n",
      "GCS_PROXY_PORT_80_TCP_PORT=80\n",
      "MATOMO_PORT_9000_TCP_PORT=9000\n",
      "GCS_PROXY_PORT_80_TCP_PROTO=tcp\n",
      "PROXY_PATCHES_PORT_80_TCP_PROTO=tcp\n",
      "HUB_PORT_8081_TCP_PROTO=tcp\n",
      "PROD_INGRESS_NGINX_CONTROLLER_PORT_443_TCP=tcp://10.3.247.70:443\n",
      "HUB_SERVICE_HOST=10.3.250.250\n",
      "HOSTNAME=jupyter-pflegende-2dbetteninventurth-2di970zo63\n",
      "NPM_DIR=/srv/npm\n",
      "PROXY_PATCHES_PORT_80_TCP_PORT=80\n",
      "PROD_GRAFANA_PORT_80_TCP_PORT=80\n",
      "MATOMO_PORT=tcp://10.3.248.239:9000\n",
      "PROD_KUBE_STATE_METRICS_PORT_8080_TCP_ADDR=10.3.243.113\n",
      "FEDERATION_REDIRECT_PORT_80_TCP_PORT=80\n",
      "PROD_GRAFANA_SERVICE_PORT_SERVICE=80\n",
      "BINDER_PORT=tcp://10.3.254.234:80\n",
      "PROXY_PATCHES_PORT_80_TCP=tcp://10.3.249.118:80\n",
      "PROD_GRAFANA_PORT_80_TCP_PROTO=tcp\n",
      "PROXY_PUBLIC_PORT_80_TCP_ADDR=10.3.244.15\n",
      "CONDA_PREFIX=/srv/conda/envs/notebook\n",
      "PROXY_PUBLIC_PORT_80_TCP_PORT=80\n",
      "PROD_INGRESS_NGINX_CONTROLLER_PORT_80_TCP_ADDR=10.3.247.70\n",
      "PROD_KUBE_STATE_METRICS_PORT=tcp://10.3.243.113:8080\n",
      "PROD_INGRESS_NGINX_CONTROLLER_PORT_443_TCP_PORT=443\n",
      "CONDA_DIR=/srv/conda\n",
      "FEDERATION_REDIRECT_SERVICE_HOST=10.3.244.205\n",
      "PROXY_PATCHES_SERVICE_PORT=80\n",
      "REDIRECTOR_PORT_80_TCP_ADDR=10.3.245.207\n",
      "PROXY_PUBLIC_SERVICE_PORT=80\n",
      "_CE_M=\n",
      "KUBERNETES_PORT_443_TCP_PROTO=tcp\n",
      "PROD_INGRESS_NGINX_CONTROLLER_SERVICE_PORT=80\n",
      "JUPYTERHUB_ACTIVITY_URL=http://hub:8081/hub/api/users/pflegende-betteninventurth-i970zo63/activity\n",
      "PROXY_PUBLIC_SERVICE_HOST=10.3.244.15\n",
      "KUBERNETES_PORT_443_TCP_ADDR=10.3.240.1\n",
      "HUB_PORT_8081_TCP=tcp://10.3.250.250:8081\n",
      "CPU_LIMIT=1.0\n",
      "USER=jovyan\n",
      "JUPYTERHUB_BASE_URL=/\n",
      "PAGER=cat\n",
      "BINDER_PORT_80_TCP_PROTO=tcp\n",
      "PROD_INGRESS_NGINX_DEFAULTBACKEND_PORT=tcp://10.3.249.179:80\n",
      "PROXY_PATCHES_PORT=tcp://10.3.249.118:80\n",
      "PROD_INGRESS_NGINX_CONTROLLER_METRICS_PORT_9913_TCP_PROTO=tcp\n",
      "BINDER_SERVICE_PORT=80\n",
      "MATOMO_PORT_9000_TCP=tcp://10.3.248.239:9000\n",
      "REDIRECTOR_PORT=tcp://10.3.245.207:80\n",
      "BINDER_REQUEST=v2/gh/pflegende/BetteninventurTH/master\n",
      "PROXY_PUBLIC_SERVICE_PORT_HTTP=80\n",
      "PROD_INGRESS_NGINX_CONTROLLER_METRICS_SERVICE_PORT_METRICS=9913\n",
      "KUBERNETES_PORT=tcp://10.3.240.1:443\n",
      "HUB_PORT=tcp://10.3.250.250:8081\n",
      "PROXY_PUBLIC_PORT_80_TCP=tcp://10.3.244.15:80\n",
      "JPY_PARENT_PID=18\n",
      "MATOMO_PORT_9000_TCP_ADDR=10.3.248.239\n",
      "PWD=/home/jovyan\n",
      "HOME=/home/jovyan\n",
      "PROD_GRAFANA_PORT_80_TCP=tcp://10.3.249.119:80\n",
      "BINDER_REPO_URL=https://github.com/pflegende/BetteninventurTH\n",
      "PROXY_API_SERVICE_HOST=10.3.244.201\n",
      "CONDA_PYTHON_EXE=/srv/conda/bin/python\n",
      "BINDER_PORT_80_TCP_ADDR=10.3.254.234\n",
      "CLICOLOR=1\n",
      "GCS_PROXY_SERVICE_PORT=80\n",
      "PROD_INGRESS_NGINX_CONTROLLER_PORT_443_TCP_PROTO=tcp\n",
      "PROD_INGRESS_NGINX_CONTROLLER_METRICS_SERVICE_PORT=9913\n",
      "PROD_INGRESS_NGINX_CONTROLLER_METRICS_PORT=tcp://10.3.249.104:9913\n",
      "PROD_PROMETHEUS_SERVER_PORT_80_TCP=tcp://10.3.241.169:80\n",
      "JUPYTERHUB_USER=pflegende-betteninventurth-i970zo63\n",
      "KUBERNETES_SERVICE_PORT_HTTPS=443\n",
      "BINDER_PORT_80_TCP_PORT=80\n",
      "PROXY_API_PORT_8001_TCP=tcp://10.3.244.201:8001\n",
      "PROXY_API_SERVICE_PORT=8001\n",
      "DEBIAN_FRONTEND=noninteractive\n",
      "CPU_GUARANTEE=0.01\n",
      "PROXY_API_PORT_8001_TCP_ADDR=10.3.244.201\n",
      "PROXY_PUBLIC_PORT=tcp://10.3.244.15:80\n",
      "KUBERNETES_PORT_443_TCP_PORT=443\n",
      "PROD_INGRESS_NGINX_CONTROLLER_METRICS_PORT_9913_TCP_ADDR=10.3.249.104\n",
      "PROD_INGRESS_NGINX_DEFAULTBACKEND_PORT_80_TCP_PORT=80\n",
      "PROXY_PATCHES_PORT_80_TCP_ADDR=10.3.249.118\n",
      "_CE_CONDA=\n",
      "MATOMO_PORT_9000_TCP_PROTO=tcp\n",
      "BINDER_LAUNCH_HOST=https://mybinder.org/\n",
      "FEDERATION_REDIRECT_PORT_80_TCP_ADDR=10.3.244.205\n",
      "BINDER_REF_URL=https://github.com/pflegende/BetteninventurTH/tree/e62087db4ada5ce8d148a34385286e0bee4d4aab\n",
      "GCS_PROXY_SERVICE_HOST=10.3.244.175\n",
      "PROD_INGRESS_NGINX_DEFAULTBACKEND_SERVICE_PORT=80\n",
      "PROD_INGRESS_NGINX_CONTROLLER_PORT_80_TCP=tcp://10.3.247.70:80\n",
      "MATOMO_SERVICE_PORT=9000\n",
      "REDIRECTOR_PORT_80_TCP_PROTO=tcp\n",
      "HUB_PORT_8081_TCP_PORT=8081\n",
      "PROD_INGRESS_NGINX_CONTROLLER_PORT=tcp://10.3.247.70:80\n",
      "REDIRECTOR_PORT_80_TCP=tcp://10.3.245.207:80\n",
      "PROD_INGRESS_NGINX_CONTROLLER_SERVICE_PORT_HTTPS=443\n",
      "PROD_KUBE_STATE_METRICS_SERVICE_HOST=10.3.243.113\n",
      "KUBERNETES_PORT_443_TCP=tcp://10.3.240.1:443\n",
      "JUPYTERHUB_SERVICE_PREFIX=/user/pflegende-betteninventurth-i970zo63/\n",
      "CONDA_PROMPT_MODIFIER=(notebook) \n",
      "PROXY_API_PORT_8001_TCP_PROTO=tcp\n",
      "PROD_INGRESS_NGINX_CONTROLLER_PORT_443_TCP_ADDR=10.3.247.70\n",
      "HUB_PORT_8081_TCP_ADDR=10.3.250.250\n",
      "REDIRECTOR_PORT_80_TCP_PORT=80\n",
      "JUPYTERHUB_SERVER_NAME=\n",
      "PROD_INGRESS_NGINX_CONTROLLER_METRICS_SERVICE_HOST=10.3.249.104\n",
      "PROD_KUBE_STATE_METRICS_PORT_8080_TCP_PROTO=tcp\n",
      "MATOMO_SERVICE_PORT_MATOMO=9000\n",
      "PROXY_PATCHES_SERVICE_HOST=10.3.249.118\n",
      "TERM=xterm-color\n",
      "SHELL=/bin/bash\n",
      "MEM_GUARANTEE=471859200\n",
      "PROD_PROMETHEUS_SERVER_PORT_80_TCP_PORT=80\n",
      "MPLBACKEND=module://ipykernel.pylab.backend_inline\n",
      "PROD_INGRESS_NGINX_DEFAULTBACKEND_SERVICE_PORT_HTTP=80\n",
      "REDIRECTOR_SERVICE_HOST=10.3.245.207\n",
      "PROD_PROMETHEUS_SERVER_SERVICE_PORT=80\n",
      "JUPYTER_IMAGE=gcr.io/binderhub-288415/r2d-staging-72d7634-pflegende-2dbetteninventurth-8373f7:e62087db4ada5ce8d148a34385286e0bee4d4aab\n",
      "PROD_GRAFANA_SERVICE_PORT=80\n",
      "FEDERATION_REDIRECT_SERVICE_PORT=80\n",
      "MEM_LIMIT=2147483648\n",
      "PROD_KUBE_STATE_METRICS_SERVICE_PORT_HTTP=8080\n",
      "NB_PYTHON_PREFIX=/srv/conda/envs/notebook\n",
      "GCS_PROXY_PORT_80_TCP_ADDR=10.3.244.175\n",
      "PROD_INGRESS_NGINX_CONTROLLER_PORT_80_TCP_PROTO=tcp\n",
      "HUB_SERVICE_PORT=8081\n",
      "PROD_GRAFANA_PORT_80_TCP_ADDR=10.3.249.119\n",
      "JUPYTERHUB_API_URL=http://hub:8081/hub/api\n",
      "SHLVL=1\n",
      "PROXY_PUBLIC_PORT_80_TCP_PROTO=tcp\n",
      "LANGUAGE=en_US.UTF-8\n",
      "PROD_PROMETHEUS_SERVER_PORT=tcp://10.3.241.169:80\n",
      "JUPYTERHUB_HOST=\n",
      "PROD_GRAFANA_SERVICE_HOST=10.3.249.119\n",
      "JPY_API_TOKEN=d1d086e74b7f4aeaa02c99ec0abf1cc8\n",
      "KUBERNETES_SERVICE_PORT=443\n",
      "PROD_INGRESS_NGINX_CONTROLLER_SERVICE_HOST=10.3.247.70\n",
      "BINDER_SERVICE_HOST=10.3.254.234\n",
      "PROD_INGRESS_NGINX_CONTROLLER_METRICS_PORT_9913_TCP_PORT=9913\n",
      "FEDERATION_REDIRECT_PORT_80_TCP=tcp://10.3.244.205:80\n",
      "REPO_DIR=/home/jovyan\n",
      "PROD_INGRESS_NGINX_CONTROLLER_METRICS_PORT_9913_TCP=tcp://10.3.249.104:9913\n",
      "MATOMO_SERVICE_HOST=10.3.248.239\n",
      "PROD_INGRESS_NGINX_DEFAULTBACKEND_PORT_80_TCP_ADDR=10.3.249.179\n",
      "JUPYTERHUB_OAUTH_CALLBACK_URL=/user/pflegende-betteninventurth-i970zo63/oauth_callback\n",
      "PROD_KUBE_STATE_METRICS_PORT_8080_TCP_PORT=8080\n",
      "REDIRECTOR_SERVICE_PORT=80\n",
      "PROD_INGRESS_NGINX_DEFAULTBACKEND_PORT_80_TCP_PROTO=tcp\n",
      "JUPYTERHUB_API_TOKEN=d1d086e74b7f4aeaa02c99ec0abf1cc8\n",
      "PATH=/srv/conda/envs/notebook/bin:/srv/conda/condabin:/home/jovyan/.local/bin:/home/jovyan/.local/bin:/srv/conda/envs/notebook/bin:/srv/conda/bin:/srv/npm/bin:/usr/local/sbin:/usr/local/bin:/usr/sbin:/usr/bin:/sbin:/bin\n",
      "PROD_KUBE_STATE_METRICS_PORT_8080_TCP=tcp://10.3.243.113:8080\n",
      "BINDER_PORT_80_TCP=tcp://10.3.254.234:80\n",
      "NPM_CONFIG_GLOBALCONFIG=/srv/npm/npmrc\n",
      "CONDA_DEFAULT_ENV=notebook\n",
      "PROD_INGRESS_NGINX_CONTROLLER_PORT_80_TCP_PORT=80\n",
      "PROD_GRAFANA_PORT=tcp://10.3.249.119:80\n",
      "PROD_PROMETHEUS_SERVER_SERVICE_PORT_HTTP=80\n",
      "PROD_INGRESS_NGINX_DEFAULTBACKEND_PORT_80_TCP=tcp://10.3.249.179:80\n",
      "PROD_INGRESS_NGINX_CONTROLLER_SERVICE_PORT_HTTP=80\n",
      "KUBERNETES_SERVICE_HOST=10.3.240.1\n",
      "PROD_PROMETHEUS_SERVER_PORT_80_TCP_ADDR=10.3.241.169\n",
      "GCS_PROXY_PORT_80_TCP=tcp://10.3.244.175:80\n",
      "JUPYTER_IMAGE_SPEC=gcr.io/binderhub-288415/r2d-staging-72d7634-pflegende-2dbetteninventurth-8373f7:e62087db4ada5ce8d148a34385286e0bee4d4aab\n",
      "BINDER_PERSISTENT_REQUEST=v2/gh/pflegende/BetteninventurTH/e62087db4ada5ce8d148a34385286e0bee4d4aab\n",
      "GIT_PAGER=cat\n",
      "_=/usr/bin/printenv\n"
     ]
    }
   ],
   "source": [
    "! printenv"
   ]
  },
  {
   "cell_type": "markdown",
   "metadata": {},
   "source": [
    "EOF"
   ]
  }
 ],
 "metadata": {
  "kernelspec": {
   "display_name": "Python 3",
   "language": "python",
   "name": "python3"
  },
  "language_info": {
   "codemirror_mode": {
    "name": "ipython",
    "version": 3
   },
   "file_extension": ".py",
   "mimetype": "text/x-python",
   "name": "python",
   "nbconvert_exporter": "python",
   "pygments_lexer": "ipython3",
   "version": "3.7.10"
  }
 },
 "nbformat": 4,
 "nbformat_minor": 4
}
