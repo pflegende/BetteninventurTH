{
 "cells": [
  {
   "cell_type": "markdown",
   "metadata": {},
   "source": [
    "# Count them All \n",
    "version:  Wed Aug 12 18:09:43 UTC 2020"
   ]
  },
  {
   "cell_type": "code",
   "execution_count": 1,
   "metadata": {},
   "outputs": [
    {
     "data": {
      "application/javascript": [
       "IPython.notebook.set_autosave_interval(20000)"
      ]
     },
     "metadata": {},
     "output_type": "display_data"
    },
    {
     "name": "stdout",
     "output_type": "stream",
     "text": [
      "Autosaving every 20 seconds\n"
     ]
    }
   ],
   "source": [
    "%autosave 20"
   ]
  },
  {
   "cell_type": "code",
   "execution_count": 2,
   "metadata": {},
   "outputs": [
    {
     "name": "stdout",
     "output_type": "stream",
     "text": [
      "Ähmm, what a day?\n",
      "Mon Apr 26 16:51:51 UTC 2021\n"
     ]
    }
   ],
   "source": [
    "! echo \"Ähmm, what a day?\"; date"
   ]
  },
  {
   "cell_type": "code",
   "execution_count": 3,
   "metadata": {},
   "outputs": [
    {
     "name": "stdout",
     "output_type": "stream",
     "text": [
      "start in progress   ¯\\_(ツ)_/¯  (3 sec to kill by ctrl-c)\n"
     ]
    }
   ],
   "source": [
    "! echo 'start in progress   ¯\\_(ツ)_/¯  (3 sec to kill by ctrl-c)'\n",
    "! sleep 3\n",
    "! # for keep alive: watch 50 date"
   ]
  },
  {
   "cell_type": "markdown",
   "metadata": {},
   "source": [
    "### to do aka _not yet solved_\n",
    "\n",
    "\n",
    "- git commit to gitHub from ipynb\n",
    "- rclone on the fly as mirror for git commit to gitHub\n",
    "- autoRun behind autoLaunch (after Binder)\n",
    "- \"headless\" Binder possible?\n",
    "- complete headless process, but ever on ipynb level\n",
    "- json output 2 ix\n",
    "- may be: json array better than object in this case? \n",
    "all are paired:{date: value, counters : {<bedTyp> : count, ...}}\n",
    "    to validate if json == ok?\n",
    "- t-line ready data in ix\n",
    "- t-line plot\n",
    "- jupyterLab Extension Exploration -> before this.EOF    \n",
    "    \n",
    "### solved:\n",
    "### :)\n",
    "    \n",
    "\n",
    "- diff ECMO: (15.04.2021; output from 14.04.2021)\n",
    "\n",
    "`grep NICHT` \n",
    "\n",
    "-> 38 \n",
    "\n",
    "but  \n",
    "\n",
    "```jq '.data[] | select(.bettenStatus.statusECMO == \"NICHT_VERFUEGBAR\") | .krankenhausStandort.position.latitude ' | wc -l >> catCount.txt```  \n",
    "\n",
    "-> 59\n",
    "\n"
   ]
  },
  {
   "cell_type": "code",
   "execution_count": 4,
   "metadata": {},
   "outputs": [
    {
     "name": "stdout",
     "output_type": "stream",
     "text": [
      "Is jq ready now?\n",
      "jq - commandline JSON processor [version 1.5-1-a5b5cbe]\n",
      "Usage: jq [options] <jq filter> [file...]\n",
      "\n",
      "\tjq is a tool for processing JSON inputs, applying the\n",
      "\tgiven filter to its JSON text inputs and producing the\n",
      "\tfilter's results as JSON on standard output.\n",
      "\tThe simplest filter is ., which is the identity filter,\n",
      "\tcopying jq's input to its output unmodified (except for\n",
      "\tformatting).\n",
      "\tFor more advanced filters see the jq(1) manpage (\"man jq\")\n",
      "\tand/or https://stedolan.github.io/jq\n",
      "\n",
      "\tSome of the options include:\n",
      "\t -c\t\tcompact instead of pretty-printed output;\n",
      "\t -n\t\tuse `null` as the single input value;\n",
      "\t -e\t\tset the exit status code based on the output;\n",
      "\t -s\t\tread (slurp) all inputs into an array; apply filter to it;\n",
      "\t -r\t\toutput raw strings, not JSON texts;\n",
      "\t -R\t\tread raw strings, not JSON texts;\n",
      "\t -C\t\tcolorize JSON;\n",
      "\t -M\t\tmonochrome (don't colorize JSON);\n",
      "\t -S\t\tsort keys of objects on output;\n",
      "\t --tab\tuse tabs for indentation;\n",
      "\t --arg a v\tset variable $a to value <v>;\n",
      "\t --argjson a v\tset variable $a to JSON value <v>;\n",
      "\t --slurpfile a f\tset variable $a to an array of JSON texts read from <f>;\n",
      "\tSee the manpage for more options.\n"
     ]
    }
   ],
   "source": [
    "! echo \"Is jq ready now?\"; jq --help"
   ]
  },
  {
   "cell_type": "markdown",
   "metadata": {},
   "source": [
    "this lightwight hammer seems as a good working tool, ok."
   ]
  },
  {
   "cell_type": "markdown",
   "metadata": {},
   "source": [
    "to hammer on it, we need also steel.\n",
    "\n",
    "\"Morgenpost\" say's had some steel for us:"
   ]
  },
  {
   "cell_type": "code",
   "execution_count": 5,
   "metadata": {},
   "outputs": [
    {
     "name": "stdout",
     "output_type": "stream",
     "text": [
      "  % Total    % Received % Xferd  Average Speed   Time    Time     Time  Current\n",
      "                                 Dload  Upload   Total   Spent    Left  Speed\n",
      "  0     0    0     0    0     0      0      0 --:--:-- --:--:-- --:--:--     0curl: (6) Could not resolve host: curl\n",
      "100   365    0   365    0     0    358      0 --:--:--  0:00:01 --:--:--   715\n",
      "<!DOCTYPE HTML PUBLIC \"-//IETF//DTD HTML 2.0//EN\">\n",
      "<html><head>\n",
      "<title>301 Moved Permanently</title>\n",
      "</head><body>\n",
      "<h1>Moved Permanently</h1>\n",
      "<p>The document has moved <a href=\"https://interaktiv.morgenpost.de/data/corona/intensivregister.json\">here</a>.</p>\n",
      "<hr>\n",
      "<address>Apache/2.2.22 (Debian) Server at interaktiv.morgenpost.de Port 443</address>\n",
      "</body></html>\n"
     ]
    }
   ],
   "source": [
    "! curl curl https://interaktiv.morgenpost.de/corona-deutschland-intensiv-betten-monitor-krankenhaus-auslastung/data/intensivregister.json | tail"
   ]
  },
  {
   "cell_type": "code",
   "execution_count": 6,
   "metadata": {},
   "outputs": [
    {
     "name": "stdout",
     "output_type": "stream",
     "text": [
      "So go fw 2 this:\n",
      "  % Total    % Received % Xferd  Average Speed   Time    Time     Time  Current\n",
      "                                 Dload  Upload   Total   Spent    Left  Speed\n",
      "100 1266k  100 1266k    0     0   955k      0  0:00:01  0:00:01 --:--:--  955k\n",
      "\t\t\t\"statusECMO\": \"KEINE_ANGABE\"\n",
      "\t\t},\n",
      "\t\t\"behandlungsschwerpunktL1\": [\n",
      "\t\t\t\"ERWACHSENE\"\n",
      "\t\t],\n",
      "\t\t\"behandlungsschwerpunktL2\": [],\n",
      "\t\t\"behandlungsschwerpunktL3\": [],\n",
      "\t\t\"label\": \"Klinikum Nordfriesland gGmbH - Klinik Husum und Klinik Niebüll, Klinik Niebüll\"\n",
      "\t}\n",
      "]"
     ]
    }
   ],
   "source": [
    "! echo \"So go fw 2 this:\"; curl https://interaktiv.morgenpost.de/data/corona/intensivregister.json | tail"
   ]
  },
  {
   "cell_type": "markdown",
   "metadata": {},
   "source": [
    "we are lucky!"
   ]
  },
  {
   "cell_type": "code",
   "execution_count": 7,
   "metadata": {},
   "outputs": [
    {
     "name": "stdout",
     "output_type": "stream",
     "text": [
      "  % Total    % Received % Xferd  Average Speed   Time    Time     Time  Current\n",
      "                                 Dload  Upload   Total   Spent    Left  Speed\n",
      "100 1266k  100 1266k    0     0  1073k      0  0:00:01  0:00:01 --:--:-- 1073k\n"
     ]
    }
   ],
   "source": [
    "! curl https://interaktiv.morgenpost.de/data/corona/intensivregister.json -o BettenAllDE.json"
   ]
  },
  {
   "cell_type": "markdown",
   "metadata": {},
   "source": [
    " \n",
    " Problem   Problem  Problem   Problem  Problem   Problem  \n",
    " Problem   Problem  Problem   Problem  Problem   Problem  "
   ]
  },
  {
   "cell_type": "code",
   "execution_count": 8,
   "metadata": {},
   "outputs": [],
   "source": [
    "! # this was 1st try\n",
    "! #echo '{\t\"rowCountDummy\": 9999,\t\"data\":\"' > Btmp\n",
    "! #mv BettenAllDE.json Btmp2; mv Btmp BettenAllDE.json; cat Btmp2 >> BettenAllDE.json\n",
    "! #echo '}' >> BettenAllDE.json"
   ]
  },
  {
   "cell_type": "markdown",
   "metadata": {},
   "source": [
    "BettenAllDE-Copy1.json = top of \"old\" file with correct json syntax"
   ]
  },
  {
   "cell_type": "markdown",
   "metadata": {},
   "source": [
    "BettenAllDE.json = \"cuted by divi OR funke / no head\""
   ]
  },
  {
   "cell_type": "code",
   "execution_count": 9,
   "metadata": {},
   "outputs": [],
   "source": [
    "! # push head-artefact BettenAllDE-Copy1.json\n",
    "! cp BettenAllDE-Copy1.json push.BettenAllDE-Copy1.json\n",
    "! # operate\n",
    "! cat BettenAllDE.json >> BettenAllDE-Copy1.json\n",
    "! rm BettenAllDE.json\n",
    "! mv BettenAllDE-Copy1.json BettenAllDE.json\n",
    "! echo '}' >> BettenAllDE.json\n",
    "! # pop head-artefact BettenAllDE-Copy1.json\n",
    "! cp push.BettenAllDE-Copy1.json BettenAllDE-Copy1.json\n"
   ]
  },
  {
   "cell_type": "code",
   "execution_count": 10,
   "metadata": {},
   "outputs": [
    {
     "name": "stdout",
     "output_type": "stream",
     "text": [
      "{\n",
      "\t\"rowCount\": 1303,\n",
      "\t\"data\": [\n",
      "\t{\n",
      "\t\t\"krankenhausStandort\": {\n",
      "\t\t\t\"id\": \"771001\",\n",
      "\t\t\t\"bezeichnung\": \"Martin-Luther-Krankenhaus, Martin-Luther-Krankenhaus gGmbH\",\n",
      "\t\t\t\"strasse\": \"Voedestr.\",\n",
      "\t\t\t\"hausnummer\": \"79\",\n",
      "\t\t\t\"plz\": \"44866\",\n",
      "\t\t\t\"ort\": \"Bochum\",\n",
      "\t\t\t\"bundesland\": \"NORDRHEIN_WESTFALEN\",\n",
      "\t\t\t\"ikNummer\": \"260590128\",\n",
      "\t\t\t\"position\": {\n",
      "\t\t\t\t\"latitude\": 51.482600598782,\n",
      "\t\t\t\t\"longitude\": 7.143525660022\n",
      "\t\t\t},\n",
      "\t\t\t\"gemeindeschluessel\": \"05911000\"\n",
      "\t\t},\n",
      "\t\t\"oldestMeldezeitpunkt\": \"2021-04-26T07:21:51Z\",\n",
      "\t\t\"meldebereiche\": [\n",
      "\t\t\t\"KKB / Martin-Luther-Krankenhaus\"\n",
      "\t\t],\n",
      "\t\t\"maxBettenStatusEinschaetzungHighCare\": \"VERFUEGBAR\",\n",
      "\t\t\"id\": \"771001\",\n",
      "\t\t\"meldezeitpunkt\": \"2021-04-26T07:21:51Z\",\n",
      "\t\t\"bettenStatus\": {\n",
      "\t\t\t\"statusLowCare\": \"VERFUEGBAR\",\n",
      "\t\t\t\"statusHighCare\": \"VERFUEGBAR\",\n",
      "\t\t\t\"statusECMO\": \"KEINE_ANGABE\"\n",
      "\t\t},\n",
      "\t\t\"behandlungsschwerpunktL1\": [\n",
      "\t\t\t\"ERWACHSENE\"\n",
      "\t\t],\n",
      "\t\t\"behandlungsschwerpunktL2\": [],\n",
      "\t\t\"behandlungsschwerpunktL3\": [],\n",
      "\t\t\"label\": \"Martin-Luther-Krankenhaus, Martin-Luther-Krankenhaus gGmbH\"\n",
      "\t},\n",
      "\t{\n",
      "\t\t\"krankenhausStandort\": {\n"
     ]
    }
   ],
   "source": [
    "! head -n 40 BettenAllDE.json"
   ]
  },
  {
   "cell_type": "raw",
   "metadata": {},
   "source": [
    "! cat BettenAllDE.json | jq '.data[] reduce .[] .faelleCovidAktuell as $item (0; . + $item)'"
   ]
  },
  {
   "cell_type": "markdown",
   "metadata": {},
   "source": [
    "what the heck?\n",
    "\n",
    "in jq  https://jqplay.org/# play ok\n",
    "but not in cli ...:\n",
    "\n",
    "reduce .label[] .foo as $item (0; . + $item)\n",
    "\n",
    "***\n",
    "\n",
    "in:\n",
    "\n",
    "{\"label\":\n",
    "[\n",
    "{\"foo\": 10},\n",
    "{\"foo\": 21},\n",
    "{\"foo\": 42}\n",
    "]}\n",
    "\n",
    "\n",
    "out:\n",
    "\n",
    "73\n",
    "\n",
    "***\n",
    "\n",
    "in:\n",
    "\n",
    "! cat BettenAllDE.json | jq '.data[] reduce .[] .faelleCovidAktuell as $item (0; . + $item)'\n",
    "\n",
    "out:\n",
    "\n",
    "... unexpected reduce, expecting $end ... (-> above)\n",
    "\n",
    "***\n",
    "\n",
    "so we must go by shell awk ...\n",
    "not at all\n",
    "but would be nice somebody find out a solution only with jq!"
   ]
  },
  {
   "cell_type": "code",
   "execution_count": 11,
   "metadata": {},
   "outputs": [
    {
     "name": "stdout",
     "output_type": "stream",
     "text": [
      "Mon Apr 26 16:52:15 UTC 2021\n"
     ]
    }
   ],
   "source": [
    "! date"
   ]
  },
  {
   "cell_type": "code",
   "execution_count": 12,
   "metadata": {},
   "outputs": [],
   "source": [
    "! cat BettenAllDE.json | jq '.data[] | select(.krankenhausStandort.bundesland == \"THUERINGEN\") | .krankenhausStandort.plz + \" \" + .meldezeitpunkt + \" co= \" + ( .faelleCovidAktuell | tostring ) + \" \" + .label + \"   HighCare: \" + .bettenStatus.statusHighCare' > BettenThur.txt"
   ]
  },
  {
   "cell_type": "code",
   "execution_count": 13,
   "metadata": {},
   "outputs": [
    {
     "name": "stdout",
     "output_type": "stream",
     "text": [
      "410\n",
      "Attention, now Counting!\n"
     ]
    }
   ],
   "source": [
    "! cat BettenAllDE.json | jq '.data[] | select(.bettenStatus.statusLowCare == \"VERFUEGBAR\") | .krankenhausStandort.position.latitude  ' | wc -l\n",
    "! echo \"Attention, now Counting!\""
   ]
  },
  {
   "cell_type": "markdown",
   "metadata": {},
   "source": [
    "some totalisators:\n",
    "    e.g. (why not, at all) phyton"
   ]
  },
  {
   "cell_type": "code",
   "execution_count": 14,
   "metadata": {},
   "outputs": [
    {
     "name": "stdout",
     "output_type": "stream",
     "text": [
      "rm: cannot remove 'catCount.txt': No such file or directory\n",
      "http://ix.io/3cul\n",
      "newCatCount  of the \n",
      "Mon Apr 26 16:52:20 UTC 2021\n",
      "76\n",
      " == e v \n",
      "60\n",
      " == e b \n",
      "0\n",
      " == e n_ \n",
      "58\n",
      " == e N \n",
      "430\n",
      " == h v \n",
      "431\n",
      " == h b \n",
      "0\n",
      " == h n_ \n",
      "351\n",
      " == h N \n",
      "410\n",
      " == l v \n",
      "363\n",
      " == l b \n",
      "0\n",
      " == l n_ \n",
      "347\n",
      " == l N \n",
      "AllCountedToday CatCount \n",
      " *****************  \n",
      " *****************  \n",
      " ***************** \n",
      "actally and older results together: \n",
      " :\n"
     ]
    }
   ],
   "source": [
    "! rm catCount.txt\n",
    "! touch catCount.txt\n",
    "! echo \"newCatCount  of the \" >> catCount.txt\n",
    "! date >> catCount.txt\n",
    "! #\n",
    "! cat BettenAllDE.json | jq '.data[] | select(.bettenStatus.statusECMO == \"VERFUEGBAR\") | .krankenhausStandort.position.latitude ' | wc -l >> catCount.txt ; echo \" == e v \" >> catCount.txt\n",
    "! cat BettenAllDE.json | jq '.data[] | select(.bettenStatus.statusECMO == \"BEGRENZT\") | .krankenhausStandort.position.latitude ' | wc -l >> catCount.txt ; echo \" == e b \" >> catCount.txt\n",
    "! cat BettenAllDE.json | jq '.data[] | select(.bettenStatus.statusECMO == null) | .krankenhausStandort.position.latitude ' | wc -l >> catCount.txt ; echo \" == e n_ \" >> catCount.txt\n",
    "! cat BettenAllDE.json | jq '.data[] | select(.bettenStatus.statusECMO == \"NICHT_VERFUEGBAR\") | .krankenhausStandort.position.latitude '  | tee -a jECMO_NICHT | wc -l >> catCount.txt ; echo \" == e N \" >> catCount.txt\n",
    "! #\n",
    "! cat BettenAllDE.json | jq '.data[] | select(.bettenStatus.statusHighCare == \"VERFUEGBAR\") | .krankenhausStandort.position.latitude ' | wc -l >> catCount.txt ; echo \" == h v \" >> catCount.txt\n",
    "! cat BettenAllDE.json | jq '.data[] | select(.bettenStatus.statusHighCare == \"BEGRENZT\") | .krankenhausStandort.position.latitude ' | wc -l >> catCount.txt ; echo \" == h b \" >> catCount.txt\n",
    "! cat BettenAllDE.json | jq '.data[] | select(.bettenStatus.statusHighCare == null) | .krankenhausStandort.position.latitude ' | wc -l >> catCount.txt ; echo \" == h n_ \" >> catCount.txt\n",
    "! cat BettenAllDE.json | jq '.data[] | select(.bettenStatus.statusHighCare == \"NICHT_VERFUEGBAR\") | .krankenhausStandort.position.latitude ' | wc -l >> catCount.txt ; echo \" == h N \" >> catCount.txt\n",
    "! #\n",
    "! cat BettenAllDE.json | jq '.data[] | select(.bettenStatus.statusLowCare == \"VERFUEGBAR\") | .krankenhausStandort.position.latitude ' | wc -l >> catCount.txt ; echo \" == l v \" >> catCount.txt\n",
    "! cat BettenAllDE.json | jq '.data[] | select(.bettenStatus.statusLowCare == \"BEGRENZT\") | .krankenhausStandort.position.latitude ' | wc -l >> catCount.txt ; echo \" == l b \" >> catCount.txt\n",
    "! cat BettenAllDE.json | jq '.data[] | select(.bettenStatus.statusLowCare == null) | .krankenhausStandort.position.latitude ' | wc -l >> catCount.txt ; echo \" == l n_ \" >> catCount.txt\n",
    "! cat BettenAllDE.json | jq '.data[] | select(.bettenStatus.statusLowCare == \"NICHT_VERFUEGBAR\") | .krankenhausStandort.position.latitude ' | wc -l >> catCount.txt ; echo \" == l N \" >> catCount.txt\n",
    "! #\n",
    "! echo -e \"AllCountedToday CatCount \\n *****************  \\n *****************  \\n ***************** \" >> catCount.txt\n",
    "! cat catCount.txt | curl -s -F 'f:1=<-' catcount:miau@ix.io \n",
    "! cat catCount.txt\n",
    "! echo -e \"actally and older results together: \\n :\""
   ]
  },
  {
   "cell_type": "markdown",
   "metadata": {},
   "source": [
    "\"total bash\"\n",
    "\n",
    "$ sum=0; while read num; do ((sum += num)); done < numbers.txt; echo $sum"
   ]
  },
  {
   "cell_type": "code",
   "execution_count": 15,
   "metadata": {},
   "outputs": [
    {
     "name": "stdout",
     "output_type": "stream",
     "text": [
      "/bin/bash: -c: line 0: syntax error near unexpected token `newline'\n",
      "/bin/bash: -c: line 0: ` sum=0; while read num; do ((sum += num)); done < numbers.txt; echo <built-in function sum>'\n"
     ]
    }
   ],
   "source": [
    "! cat BettenAllDE.json | jq '.data[] | select(.krankenhausStandort.bundesland == \"THUERINGEN\") | .faelleCovidAktuell  ' | grep -v null  > numbers.txt\n",
    "! cat numbers.txt  \n",
    "! sum=0; while read num; do ((sum += num)); done < numbers.txt; echo $sum"
   ]
  },
  {
   "cell_type": "markdown",
   "metadata": {},
   "source": [
    "https://stackoverflow.com/questions/450799/shell-command-to-sum-integers-one-per-line\n",
    "    \n",
    "    seems some bug?"
   ]
  },
  {
   "cell_type": "markdown",
   "metadata": {},
   "source": [
    "nit mööööglich!\n",
    "jq itself has a solution for total of not-json?"
   ]
  },
  {
   "cell_type": "code",
   "execution_count": 16,
   "metadata": {},
   "outputs": [
    {
     "name": "stdout",
     "output_type": "stream",
     "text": [
      "\u001b[1;30mnull\u001b[0m\n"
     ]
    }
   ],
   "source": [
    "! jq -s 'add' < numbers.txt"
   ]
  },
  {
   "cell_type": "markdown",
   "metadata": {},
   "source": [
    "later we will insert that solution in the workflow, for now it may be that awk got some cool followers more  .... ;)"
   ]
  },
  {
   "cell_type": "markdown",
   "metadata": {},
   "source": [
    "***\n",
    "***"
   ]
  },
  {
   "cell_type": "markdown",
   "metadata": {},
   "source": [
    "dont be afraid, we wont come with brainfuck also, but perl \"must\":"
   ]
  },
  {
   "cell_type": "code",
   "execution_count": 17,
   "metadata": {},
   "outputs": [
    {
     "name": "stdout",
     "output_type": "stream",
     "text": [
      "Ole! m&m: perl!\n",
      "0\n",
      "ok, must is not everytime followed by done  ;)  \n",
      "same starter, another try\n",
      "syntax error at -e line 1, near \"+=\"\n",
      "Unknown regexp modifier \"/b\" at -e line 1, at end of line\n",
      "Unknown regexp modifier \"/h\" at -e line 1, at end of line\n",
      "Execution of -e aborted due to compilation errors.\n",
      "Nur wer wagt gewinnt.\n",
      "**************\n",
      "another python try\n",
      "  File \"<string>\", line 1\n",
      "    from fileinput import input; print sum(map(int, input()))\n",
      "                                         ^\n",
      "SyntaxError: invalid syntax\n"
     ]
    }
   ],
   "source": [
    "! cat numbers.txt\n",
    "! echo \"Ole! m&m: perl!\"\n",
    "! cat numbers.txt | perl -lpe '$c+=$_}{$_=$c'cat numbers.txt | perl -lpe '$c+=$_}{$_=$c'\n",
    "! echo \"ok, must is not everytime followed by done  ;)  \"\n",
    "! echo \"same starter, another try\"\n",
    "! perl -e \"map {$x += $_} <> and print $x\" < numbers.txt \n",
    "! echo \"Nur wer wagt gewinnt.\"\n",
    "! echo \"**************\"\n",
    "! echo \"another python try\"\n",
    "! python -c \"from fileinput import input; print sum(map(int, input()))\" <  numbers.txt"
   ]
  },
  {
   "cell_type": "markdown",
   "metadata": {},
   "source": [
    "my most lovely total - also \"total Bash\":"
   ]
  },
  {
   "cell_type": "code",
   "execution_count": 18,
   "metadata": {},
   "outputs": [
    {
     "name": "stdout",
     "output_type": "stream",
     "text": [
      "total Bash\n",
      "0\n",
      "little bit more sophisticated:\n",
      "0\n",
      "was talking somewhere: tr isnt native bash?\n"
     ]
    }
   ],
   "source": [
    "! echo \"total Bash\"\n",
    "! echo $(( $(cat numbers.txt | tr \"\\n\" \"+\" ) 0 ))\n",
    "! echo \"little bit more sophisticated:\"\n",
    "! echo $(( $( tr \"\\n\" \"+\"  < numbers.txt ) 0 ))\n",
    "! echo \"was talking somewhere: tr isnt native bash?\""
   ]
  },
  {
   "cell_type": "markdown",
   "metadata": {},
   "source": [
    "other totalisator, (all together: \"a w k\":  \n",
    ":)"
   ]
  },
  {
   "cell_type": "code",
   "execution_count": 19,
   "metadata": {},
   "outputs": [
    {
     "name": "stdout",
     "output_type": "stream",
     "text": [
      "0\n"
     ]
    }
   ],
   "source": [
    "! ! cat BettenAllDE.json | jq '.data[] | select(.krankenhausStandort.bundesland == \"THUERINGEN\") | .faelleCovidAktuell  ' | awk '{s+=$1} END {print s}' "
   ]
  },
  {
   "cell_type": "markdown",
   "metadata": {},
   "source": [
    "the most simplicity of totalisators doesnt work in jupyter,\n",
    "bc isnt available.\n",
    ":("
   ]
  },
  {
   "cell_type": "markdown",
   "metadata": {},
   "source": [
    "the mystery number to find out fake ... ;) (he, why are this 10 to much?)"
   ]
  },
  {
   "cell_type": "markdown",
   "metadata": {},
   "source": [
    "now save the number somewhere ..., some poc, not realy good"
   ]
  },
  {
   "cell_type": "code",
   "execution_count": 20,
   "metadata": {},
   "outputs": [
    {
     "name": "stdout",
     "output_type": "stream",
     "text": [
      "http://ix.io/3cur\n"
     ]
    }
   ],
   "source": [
    "!   hostname > alive.txt ;\n",
    "\n",
    "!    memf=$(awk -F\"[: ]+\" '/MemFree/ {print $2;exit}' /proc/meminfo); \n",
    "\n",
    "!    echo $memf >> alive.txt ;\n",
    "\n",
    "!   uptime >> alive.txt ; \n",
    "\n",
    "!   date >> alive.txt ; \n",
    "\n",
    "!    echo \"alive after init\" >> alive.txt ; \n",
    "\n",
    "!    cat alive.txt | curl -s -F 'f:1=<-' jor2:pjor2@ix.io  | tee -a alive.txt;\n",
    "\n",
    "!    # http://ix.io/user/jor2 for result\n"
   ]
  },
  {
   "cell_type": "code",
   "execution_count": 21,
   "metadata": {},
   "outputs": [],
   "source": [
    "! cat BettenAllDE.json | jq '.data[] | select(.krankenhausStandort.bundesland == \"HESSEN\") | select(.bettenStatus.statusECMO != \"KEINE_ANGABE\") | .krankenhausStandort.plz + \" \" + .meldezeitpunkt + \"   ECMO: \" + .bettenStatus.statusECMO + \" \" + .label' > BettenHess.txt\n",
    "\n",
    "! cat BettenAllDE.json | jq '.data[] | select(.krankenhausStandort.bundesland == \"THUERINGEN\") | select(.bettenStatus.statusECMO != \"KEINE_ANGABE\") | .krankenhausStandort.plz + \" \" + .meldezeitpunkt + \"   ECMO: \" + .bettenStatus.statusECMO + \" \" + .label' > BettenThur.txt\n",
    "! cat BettenAllDE.json | jq '.data[] | select(.krankenhausStandort.bundesland == \"SACHSEN\") | select(.bettenStatus.statusECMO != \"KEINE_ANGABE\") | .krankenhausStandort.plz + \" \" + .meldezeitpunkt + \"   ECMO: \" + .bettenStatus.statusECMO + \" \" + .label' > BettenSax.txt\n",
    "! cat BettenAllDE.json | jq '.data[] | select(.bettenStatus.statusECMO != \"KEINE_ANGABE\") | .krankenhausStandort.plz + \" \" + .meldezeitpunkt + \"   ECMO: \" + .bettenStatus.statusECMO + \" \" + .label' >  BettenECMODE.txt"
   ]
  },
  {
   "cell_type": "markdown",
   "metadata": {},
   "source": [
    "is some steel in the \"Morgenpost\" in the morning?"
   ]
  },
  {
   "cell_type": "markdown",
   "metadata": {},
   "source": [
    "***"
   ]
  },
  {
   "cell_type": "markdown",
   "metadata": {},
   "source": [
    "# ECMO in Hess / Th / Sax / DEall:"
   ]
  },
  {
   "cell_type": "code",
   "execution_count": 22,
   "metadata": {},
   "outputs": [
    {
     "name": "stdout",
     "output_type": "stream",
     "text": [
      "rm: cannot remove 'BITHLi': No such file or directory\n",
      "     1\t\"34125 2021-04-26T06:34:16Z   ECMO: BEGRENZT Klinikum Kassel\"\n",
      "     2\t\"35043 2021-04-26T06:28:40Z   ECMO: BEGRENZT Universitätsklinikum Marburg\"\n",
      "     3\t\"35392 2021-04-26T08:04:12Z   ECMO: NICHT_VERFUEGBAR Universitätsklinikum Gießen und Marburg\"\n",
      "     4\t\"35398 2021-04-26T06:40:00Z   ECMO: NICHT_VERFUEGBAR Agaplesion Ev. Krankenhaus Mittelhessen\"\n",
      "     5\t\"36043 2021-04-26T06:52:12Z   ECMO: VERFUEGBAR Klinikum Fulda\"\n",
      "     6\t\"36199 2021-04-26T06:03:13Z   ECMO: BEGRENZT Herz-Kreislauf-Zentrum Rotenburg\"\n",
      "     7\t\"36251 2021-04-26T07:05:19Z   ECMO: VERFUEGBAR Klinikum Bad Hersfeld\"\n",
      "     8\t\"60389 2021-04-26T05:55:58Z   ECMO: NICHT_VERFUEGBAR BG Unfallklinik Frankfurt am Main\"\n",
      "     9\t\"60488 2021-04-26T05:33:49Z   ECMO: VERFUEGBAR Krankenhaus Nordwest, Hauptstandort\"\n",
      "    10\t\"60596 2021-04-26T08:42:21Z   ECMO: BEGRENZT Universitätsklinikum Frankfurt\"\n",
      "    11\t\"61231 2021-04-26T09:13:22Z   ECMO: NICHT_VERFUEGBAR Kerckhoff-Klinik gGmbH, Hauptstandort\"\n",
      "    12\t\"63069 2021-04-26T07:54:37Z   ECMO: NICHT_VERFUEGBAR Sana Klinikum Offenbach\"\n",
      "    13\t\"63225 2021-04-26T06:15:02Z   ECMO: NICHT_VERFUEGBAR Asklepios Klinik Langen\"\n",
      "    14\t\"63450 2021-04-26T06:13:10Z   ECMO: NICHT_VERFUEGBAR Klinikum Hanau GmbH, Klinikum Hanau\"\n",
      "    15\t\"64283 2021-04-26T05:40:25Z   ECMO: NICHT_VERFUEGBAR Klinikum Darmstadt GmbH, Klinikum Darmstadt, Hauptstandort\"\n",
      "    16\t\"65189 2021-04-26T06:01:19Z   ECMO: NICHT_VERFUEGBAR St. Josefs-Hospital Wiesbaden\"\n",
      "    17\t\"65199 2021-04-26T06:47:36Z   ECMO: NICHT_VERFUEGBAR Helios Dr. Horst-Schmidt-Kliniken\"\n",
      "    18\t\"65549 2021-04-26T06:27:08Z   ECMO: VERFUEGBAR St. Vincenz-Krankenhaus Limburg, Limburg\"\n",
      "    19\t\"65929 2021-04-26T11:55:37Z   ECMO: BEGRENZT Klinikum Frankfurt Höchst\"\n",
      "19\n",
      "Mon Apr 26 16:53:22 UTC 2021\n"
     ]
    }
   ],
   "source": [
    "! rm BITHLi\n",
    "! sort BettenHess.txt | nl | tee -a BITHLi | wc -l >> BITHLi && echo `date` >> BITHLi ; cat BITHLi"
   ]
  },
  {
   "cell_type": "code",
   "execution_count": 23,
   "metadata": {},
   "outputs": [
    {
     "name": "stdout",
     "output_type": "stream",
     "text": [
      "     1\t\"35392 2021-04-26T08:04:12Z   ECMO: NICHT_VERFUEGBAR Universitätsklinikum Gießen und Marburg\"\n",
      "     2\t\"35398 2021-04-26T06:40:00Z   ECMO: NICHT_VERFUEGBAR Agaplesion Ev. Krankenhaus Mittelhessen\"\n",
      "     3\t\"60389 2021-04-26T05:55:58Z   ECMO: NICHT_VERFUEGBAR BG Unfallklinik Frankfurt am Main\"\n",
      "     4\t\"61231 2021-04-26T09:13:22Z   ECMO: NICHT_VERFUEGBAR Kerckhoff-Klinik gGmbH, Hauptstandort\"\n",
      "     5\t\"63069 2021-04-26T07:54:37Z   ECMO: NICHT_VERFUEGBAR Sana Klinikum Offenbach\"\n",
      "     6\t\"63225 2021-04-26T06:15:02Z   ECMO: NICHT_VERFUEGBAR Asklepios Klinik Langen\"\n",
      "     7\t\"63450 2021-04-26T06:13:10Z   ECMO: NICHT_VERFUEGBAR Klinikum Hanau GmbH, Klinikum Hanau\"\n",
      "     8\t\"64283 2021-04-26T05:40:25Z   ECMO: NICHT_VERFUEGBAR Klinikum Darmstadt GmbH, Klinikum Darmstadt, Hauptstandort\"\n",
      "     9\t\"65189 2021-04-26T06:01:19Z   ECMO: NICHT_VERFUEGBAR St. Josefs-Hospital Wiesbaden\"\n",
      "    10\t\"65199 2021-04-26T06:47:36Z   ECMO: NICHT_VERFUEGBAR Helios Dr. Horst-Schmidt-Kliniken\"\n",
      "10\n",
      "Mon Apr 26 16:53:23 UTC 2021\n"
     ]
    }
   ],
   "source": [
    "! rm BITHLi\n",
    "! sort BettenHess.txt | grep NICHT | nl | tee -a BITHLi | wc -l >> BITHLi && echo `date` >> BITHLi ; cat BITHLi"
   ]
  },
  {
   "cell_type": "code",
   "execution_count": 24,
   "metadata": {},
   "outputs": [
    {
     "name": "stdout",
     "output_type": "stream",
     "text": [
      "     1\t\"07548 2021-04-26T03:13:17Z   ECMO: VERFUEGBAR SRH Wald-Klinikum Gera\"\n",
      "     2\t\"07747 2021-04-26T08:19:05Z   ECMO: NICHT_VERFUEGBAR Universitätsklinikum Jena Lobeda\"\n",
      "     3\t\"98527 2021-04-26T09:55:48Z   ECMO: BEGRENZT SRH Zentralklinikum Suhl\"\n",
      "     4\t\"99089 2021-04-26T05:23:14Z   ECMO: BEGRENZT Helios Klinikum Erfurt\"\n",
      "     5\t\"99437 2021-04-26T04:47:04Z   ECMO: VERFUEGBAR Zentralklinik Bad Berka\"\n",
      "     6\t\"99768 2021-04-26T06:55:53Z   ECMO: BEGRENZT Lungenklinik Neustadt\"\n",
      "6\n",
      "Mon Apr 26 16:53:25 UTC 2021\n"
     ]
    }
   ],
   "source": [
    "! rm BITHLi\n",
    "! sort BettenThur.txt | nl | tee -a BITHLi | wc -l >> BITHLi && echo `date` >> BITHLi ; cat BITHLi"
   ]
  },
  {
   "cell_type": "code",
   "execution_count": 25,
   "metadata": {},
   "outputs": [
    {
     "name": "stdout",
     "output_type": "stream",
     "text": [
      "     1\t\"07747 2021-04-26T08:19:05Z   ECMO: NICHT_VERFUEGBAR Universitätsklinikum Jena Lobeda\"\n",
      "1\n",
      "Mon Apr 26 16:53:27 UTC 2021\n"
     ]
    }
   ],
   "source": [
    "! rm BITHLi\n",
    "! sort BettenThur.txt | grep NICHT | nl | tee -a BITHLi | wc -l >> BITHLi && echo `date` >> BITHLi ; cat BITHLi"
   ]
  },
  {
   "cell_type": "code",
   "execution_count": 26,
   "metadata": {},
   "outputs": [
    {
     "name": "stdout",
     "output_type": "stream",
     "text": [
      "     1\t\"01067 2021-04-26T07:10:39Z   ECMO: NICHT_VERFUEGBAR Städtisches Klinikum Dresden - Friedrichstadt\"\n",
      "     2\t\"01307 2021-04-26T07:06:47Z   ECMO: VERFUEGBAR Herzzentrum Dresden\"\n",
      "     3\t\"01307 2021-04-26T10:01:45Z   ECMO: VERFUEGBAR Universitätsklinikum Carl Gustav Carus\"\n",
      "     4\t\"01589 2021-04-26T04:48:29Z   ECMO: NICHT_VERFUEGBAR ELBLANDKLINIKUM Riesa, ELBLANDKLINIKUM Riesa\"\n",
      "     5\t\"01640 2021-04-26T05:44:51Z   ECMO: NICHT_VERFUEGBAR Fachkrankenhaus Coswig\"\n",
      "     6\t\"04103 2021-04-26T05:41:51Z   ECMO: VERFUEGBAR Universitätsklinikum Leipzig AöR\"\n",
      "     7\t\"04289 2021-04-26T06:36:24Z   ECMO: BEGRENZT Herzzentrum Leipzig\"\n",
      "7\n",
      "Mon Apr 26 16:53:29 UTC 2021\n"
     ]
    }
   ],
   "source": [
    "! rm BITHLi\n",
    "! sort BettenSax.txt | nl | tee -a BITHLi | wc -l >> BITHLi && echo `date` >> BITHLi ; cat BITHLi"
   ]
  },
  {
   "cell_type": "code",
   "execution_count": 27,
   "metadata": {},
   "outputs": [
    {
     "name": "stdout",
     "output_type": "stream",
     "text": [
      "     1\t\"01067 2021-04-26T07:10:39Z   ECMO: NICHT_VERFUEGBAR Städtisches Klinikum Dresden - Friedrichstadt\"\n",
      "     2\t\"01589 2021-04-26T04:48:29Z   ECMO: NICHT_VERFUEGBAR ELBLANDKLINIKUM Riesa, ELBLANDKLINIKUM Riesa\"\n",
      "     3\t\"01640 2021-04-26T05:44:51Z   ECMO: NICHT_VERFUEGBAR Fachkrankenhaus Coswig\"\n",
      "3\n",
      "Mon Apr 26 16:53:30 UTC 2021\n"
     ]
    }
   ],
   "source": [
    " ! rm BITHLi; touch BITHLi && sort BettenSax.txt | grep NICHT | nl | tee -a BITHLi | wc -l >> BITHLi && echo `date` >> BITHLi ; cat BITHLi"
   ]
  },
  {
   "cell_type": "code",
   "execution_count": 28,
   "metadata": {},
   "outputs": [
    {
     "name": "stdout",
     "output_type": "stream",
     "text": [
      "     1\t\"01067 2021-04-26T07:10:39Z   ECMO: NICHT_VERFUEGBAR Städtisches Klinikum Dresden - Friedrichstadt\"\n",
      "     2\t\"01307 2021-04-26T07:06:47Z   ECMO: VERFUEGBAR Herzzentrum Dresden\"\n",
      "     3\t\"01307 2021-04-26T10:01:45Z   ECMO: VERFUEGBAR Universitätsklinikum Carl Gustav Carus\"\n",
      "     4\t\"01589 2021-04-26T04:48:29Z   ECMO: NICHT_VERFUEGBAR ELBLANDKLINIKUM Riesa, ELBLANDKLINIKUM Riesa\"\n",
      "     5\t\"01640 2021-04-26T05:44:51Z   ECMO: NICHT_VERFUEGBAR Fachkrankenhaus Coswig\"\n",
      "     6\t\"03048 2021-04-26T06:47:40Z   ECMO: BEGRENZT Sana-Herzzentrum Cottbus\"\n",
      "     7\t\"04103 2021-04-26T05:41:51Z   ECMO: VERFUEGBAR Universitätsklinikum Leipzig AöR\"\n",
      "     8\t\"04289 2021-04-26T06:36:24Z   ECMO: BEGRENZT Herzzentrum Leipzig\"\n",
      "     9\t\"04916 2021-04-26T05:51:44Z   ECMO: VERFUEGBAR Elbe-Elster-Klinikum Herzberg\"\n",
      "    10\t\"06120 2021-04-26T05:36:50Z   ECMO: VERFUEGBAR Universitätsklinikum Halle (Saale)\"\n",
      "    11\t\"06869 2021-04-26T05:49:33Z   ECMO: VERFUEGBAR MediClin Herzzentrum Coswig\"\n",
      "    12\t\"07548 2021-04-26T03:13:17Z   ECMO: VERFUEGBAR SRH Wald-Klinikum Gera\"\n",
      "    13\t\"07747 2021-04-26T08:19:05Z   ECMO: NICHT_VERFUEGBAR Universitätsklinikum Jena Lobeda\"\n",
      "    14\t\"10117 2021-04-26T09:16:10Z   ECMO: BEGRENZT Charité Universitätsmedizin Berlin\"\n",
      "    15\t\"12203 2021-04-26T09:14:30Z   ECMO: VERFUEGBAR Charité Universitätsmedizin Campus Benjamin Franklin\"\n",
      "    16\t\"12683 2021-04-26T08:33:35Z   ECMO: VERFUEGBAR BG Klinikum Unfallkrankenhaus Berlin\"\n",
      "    17\t\"13125 2021-04-26T08:37:24Z   ECMO: VERFUEGBAR Helios Klinikum Berlin-Buch\"\n",
      "    18\t\"13353 2021-04-26T08:57:02Z   ECMO: VERFUEGBAR Charité Universitätsmedizin Campus Virchow Klinikum\"\n",
      "    19\t\"13353 2021-04-26T09:07:23Z   ECMO: VERFUEGBAR Deutsches Herzzentrum Berlin\"\n",
      "    20\t\"13589 2021-04-26T08:50:30Z   ECMO: VERFUEGBAR Ev. Waldkrankenhaus Spandau\"\n",
      "    21\t\"14089 2021-04-26T06:29:24Z   ECMO: NICHT_VERFUEGBAR Gemeinschaftskrankenhaus Havelhöhe\"\n",
      "    22\t\"15526 2021-04-26T04:58:18Z   ECMO: VERFUEGBAR Helios Klinikum Bad Saarow\"\n",
      "    23\t\"16321 2021-04-26T07:00:25Z   ECMO: VERFUEGBAR Herzzentrum Brandenburg\"\n",
      "    24\t\"17489 2021-04-26T06:05:25Z   ECMO: NICHT_VERFUEGBAR Universitätsmedizin Greifswald\"\n",
      "    25\t\"17495 2021-04-26T05:57:07Z   ECMO: BEGRENZT Klinikum Karlsburg\"\n",
      "    26\t\"18435 2021-04-26T07:25:14Z   ECMO: VERFUEGBAR Helios Hanseklinikum Stralsund\"\n",
      "    27\t\"19049 2021-04-26T06:47:36Z   ECMO: VERFUEGBAR Helios Kliniken Schwerin\"\n",
      "    28\t\"20099 2021-04-26T09:58:47Z   ECMO: VERFUEGBAR Asklepios Klinik St. Georg\"\n",
      "    29\t\"20251 2021-04-26T09:49:51Z   ECMO: VERFUEGBAR Universitätsklinikum Hamburg-Eppendorf\"\n",
      "    30\t\"21075 2021-04-26T08:27:10Z   ECMO: BEGRENZT Asklepios Klinikum Harburg\"\n",
      "    31\t\"22049 2021-04-26T05:35:29Z   ECMO: VERFUEGBAR Bundeswehrkrankenhaus Hamburg\"\n",
      "    32\t\"22087 2021-04-26T07:59:33Z   ECMO: NICHT_VERFUEGBAR Kath. Marienkrankenhaus\"\n",
      "    33\t\"22417 2021-04-26T05:56:16Z   ECMO: NICHT_VERFUEGBAR Asklpios Klinik Nord, Heidberg\"\n",
      "    34\t\"22457 2021-04-26T08:02:52Z   ECMO: VERFUEGBAR Albertinen Krankenhaus\"\n",
      "    35\t\"23562 2021-04-26T04:36:57Z   ECMO: VERFUEGBAR Universitätsklinikum, Campus Lübeck\"\n",
      "    36\t\"23795 2021-04-26T05:15:59Z   ECMO: BEGRENZT Segeberger Kliniken, Bad Segeberg\"\n",
      "    37\t\"24105 2021-04-26T08:17:04Z   ECMO: VERFUEGBAR Universitätsklinikum, Campus Kiel\"\n",
      "    38\t\"24768 2021-04-26T07:37:54Z   ECMO: VERFUEGBAR imland, Standort Rendsburg\"\n",
      "    39\t\"25746 2021-04-26T08:55:15Z   ECMO: VERFUEGBAR Westküstenkliniken\"\n",
      "    40\t\"26122 2021-04-26T05:49:26Z   ECMO: NICHT_VERFUEGBAR Evangelisches Krankenhaus Oldenburg\"\n",
      "    41\t\"26133 2021-04-26T08:29:27Z   ECMO: BEGRENZT Klinikum Oldenburg AöR\"\n",
      "    42\t\"26389 2021-04-26T06:48:20Z   ECMO: NICHT_VERFUEGBAR Klinikum Wilhelmshaven\"\n",
      "    43\t\"26721 2021-04-26T07:16:18Z   ECMO: BEGRENZT Klinikum Emden\"\n",
      "    44\t\"28199 2021-04-26T09:41:50Z   ECMO: VERFUEGBAR Rotes Kreuz Krankenhaus Bremen\"\n",
      "    45\t\"28205 2021-04-26T06:52:41Z   ECMO: VERFUEGBAR Klinikum Bremen Mitte\"\n",
      "    46\t\"28277 2021-04-26T07:30:36Z   ECMO: NICHT_VERFUEGBAR Klinikum Links der Weser\"\n",
      "    47\t\"29549 2021-04-26T02:29:09Z   ECMO: VERFUEGBAR Herz-Kreislauf-Klinik Bevensen\"\n",
      "    48\t\"30625 2021-04-26T04:31:51Z   ECMO: VERFUEGBAR Medizinische Hochschule Hannover, Medizinische Hochschule Hannover - Campus\"\n",
      "    49\t\"32049 2021-04-26T11:17:03Z   ECMO: BEGRENZT Klinikum Herford AöR\"\n",
      "    50\t\"32429 2021-04-26T06:38:29Z   ECMO: NICHT_VERFUEGBAR Johannes Wesling Klinikum Minden, Johannes Wesling Klinikum\"\n",
      "    51\t\"32545 2021-04-26T09:37:04Z   ECMO: BEGRENZT Herz- und Diabeteszentrum NRW\"\n",
      "    52\t\"32657 2021-04-26T05:57:31Z   ECMO: BEGRENZT Klinikum Lippe, Standort Lemgo\"\n",
      "    53\t\"33098 2021-04-26T09:54:54Z   ECMO: VERFUEGBAR St. Vincenz-Krankenhaus\"\n",
      "    54\t\"33175 2021-04-26T07:15:55Z   ECMO: VERFUEGBAR Karl-Hansen-Klinik\"\n",
      "    55\t\"33604 2021-04-26T07:44:19Z   ECMO: VERFUEGBAR Klinikum Bielefeld Mitte\"\n",
      "    56\t\"34125 2021-04-26T06:34:16Z   ECMO: BEGRENZT Klinikum Kassel\"\n",
      "    57\t\"35043 2021-04-26T06:28:40Z   ECMO: BEGRENZT Universitätsklinikum Marburg\"\n",
      "    58\t\"35392 2021-04-26T08:04:12Z   ECMO: NICHT_VERFUEGBAR Universitätsklinikum Gießen und Marburg\"\n",
      "    59\t\"35398 2021-04-26T06:40:00Z   ECMO: NICHT_VERFUEGBAR Agaplesion Ev. Krankenhaus Mittelhessen\"\n",
      "    60\t\"36043 2021-04-26T06:52:12Z   ECMO: VERFUEGBAR Klinikum Fulda\"\n",
      "    61\t\"36199 2021-04-26T06:03:13Z   ECMO: BEGRENZT Herz-Kreislauf-Zentrum Rotenburg\"\n",
      "    62\t\"36251 2021-04-26T07:05:19Z   ECMO: VERFUEGBAR Klinikum Bad Hersfeld\"\n",
      "    63\t\"37075 2021-04-26T07:41:44Z   ECMO: BEGRENZT Universitätsmedizin Göttingen, Standort UMG\"\n",
      "    64\t\"37671 2021-04-26T07:57:44Z   ECMO: VERFUEGBAR St. Ansgar Krankenhaus\"\n",
      "    65\t\"38126 2021-04-26T04:59:39Z   ECMO: VERFUEGBAR Städtisches Klinikum Braunschweig gGmbH, Klinikum Salzdahlumer Straße\"\n",
      "    66\t\"39120 2021-04-26T08:40:20Z   ECMO: BEGRENZT Universitätsklinikum Magdeburg\"\n",
      "    67\t\"39130 2021-04-26T06:41:53Z   ECMO: VERFUEGBAR Klinikum Magdeburg\"\n",
      "    68\t\"40225 2021-04-26T08:01:06Z   ECMO: VERFUEGBAR Universitätsklinikum Düsseldorf\"\n",
      "    69\t\"41063 2021-04-26T06:57:36Z   ECMO: VERFUEGBAR Kliniken Maria Hilf\"\n",
      "    70\t\"41464 2021-04-26T07:56:16Z   ECMO: NICHT_VERFUEGBAR Lukaskrankenhaus Neuss\"\n",
      "    71\t\"41747 2021-04-26T05:13:00Z   ECMO: VERFUEGBAR Allgemeines Krankenhaus Viersen\"\n",
      "    72\t\"42117 2021-04-26T08:12:52Z   ECMO: BEGRENZT Helios Klinikum Wuppertal, Helios Klinikum Wuppertal, Standort Elberfeld\"\n",
      "    73\t\"42283 2021-04-26T08:38:52Z   ECMO: NICHT_VERFUEGBAR Helios Klinikum Wuppertal, Standort Barmen\"\n",
      "    74\t\"42283 2021-04-26T13:13:54Z   ECMO: VERFUEGBAR Klinikverbund St. Antonius und St. Josef GmbH, Petrus-Krankenhaus\"\n",
      "    75\t\"42653 2021-04-26T08:43:31Z   ECMO: VERFUEGBAR Städtisches Klinikum Solingen gemeinnützige GmbH, Städtisches Klinikum Solingen gemeinnützige GmbH\"\n",
      "    76\t\"42699 2021-04-26T07:01:42Z   ECMO: BEGRENZT Krankenhaus Bethanien\"\n",
      "    77\t\"44137 2021-04-26T07:19:38Z   ECMO: BEGRENZT St.-Johannes-Hospital Dortmund\"\n",
      "    78\t\"44137 2021-04-26T07:31:39Z   ECMO: BEGRENZT Klinikzentrum Mitte\"\n",
      "    79\t\"44309 2021-04-26T09:06:43Z   ECMO: BEGRENZT Knappschaftskrankenhaus Dortmund\"\n",
      "    80\t\"44534 2021-04-26T08:45:02Z   ECMO: NICHT_VERFUEGBAR St.-Marien-Hospital\"\n",
      "    81\t\"44536 2021-04-26T06:05:09Z   ECMO: NICHT_VERFUEGBAR Klinikum Westfalen GmbH - KKDO, KaP, HK, Klinik am Park Lünen\"\n",
      "    82\t\"44625 2021-04-26T06:07:06Z   ECMO: BEGRENZT Marien Hospital Herne\"\n",
      "    83\t\"44789 2021-04-26T06:55:37Z   ECMO: BEGRENZT Universitätsklinikum Bergmannsheil\"\n",
      "    84\t\"44791 2021-04-26T07:21:13Z   ECMO: NICHT_VERFUEGBAR Kath. Klinikum Bochum JH\"\n",
      "    85\t\"44791 2021-04-26T08:49:08Z   ECMO: NICHT_VERFUEGBAR Augusta-Kranken-Anstalt - Bochum-Mitte\"\n",
      "    86\t\"44892 2021-04-26T05:32:17Z   ECMO: NICHT_VERFUEGBAR Universitätsklinikum Knappschaftskrankenhaus\"\n",
      "    87\t\"45131 2021-04-26T07:40:11Z   ECMO: BEGRENZT Alfried Krupp Krankenhaus\"\n",
      "    88\t\"45138 2021-04-26T05:45:40Z   ECMO: NICHT_VERFUEGBAR Universitätsklinikum Essen, Herzchirurgie Huttrop\"\n",
      "    89\t\"45138 2021-04-26T07:51:50Z   ECMO: BEGRENZT Elisabeth-Krankenhaus Essen\"\n",
      "    90\t\"45147 2021-04-26T04:18:32Z   ECMO: BEGRENZT Universitätsklinikum Essen\"\n",
      "    91\t\"45239 2021-04-26T07:31:31Z   ECMO: NICHT_VERFUEGBAR Ruhrlandklinik – Westdeutsches Lungenzentrum\"\n",
      "    92\t\"47137 2021-04-26T09:31:53Z   ECMO: VERFUEGBAR Herzzentrum Duisburg\"\n",
      "    93\t\"47198 2021-04-26T08:07:35Z   ECMO: NICHT_VERFUEGBAR Malteser Klinikum Duisburg\"\n",
      "    94\t\"47249 2021-04-26T05:48:44Z   ECMO: NICHT_VERFUEGBAR BG Klinikum Duisburg\"\n",
      "    95\t\"47259 2021-04-26T06:19:18Z   ECMO: NICHT_VERFUEGBAR Malteser Krankenhaus St. Anna\"\n",
      "    96\t\"47805 2021-04-26T06:37:28Z   ECMO: BEGRENZT Helios Klinikum Krefeld\"\n",
      "    97\t\"48145 2021-04-26T08:02:03Z   ECMO: NICHT_VERFUEGBAR St. Franziskus-Hospital\"\n",
      "    98\t\"48149 2021-04-26T09:13:24Z   ECMO: VERFUEGBAR Universitätsklinikum Münster\"\n",
      "    99\t\"48153 2021-04-26T06:51:50Z   ECMO: BEGRENZT Clemenshospital Münster\"\n",
      "   100\t\"49074 2021-04-26T05:12:47Z   ECMO: BEGRENZT Marienhospital Osnabrück\"\n",
      "   101\t\"49076 2021-04-26T07:15:36Z   ECMO: VERFUEGBAR Klinikum Osnabrück GmbH\"\n",
      "   102\t\"49214 2021-04-26T06:59:38Z   ECMO: VERFUEGBAR Schüchtermann-Schiller`sche Kliniken Bad Rothenfelde GmbH & Co. KG, Hauptstandort\"\n",
      "   103\t\"49477 2021-04-26T09:48:13Z   ECMO: NICHT_VERFUEGBAR Klinikum Ibbenbüren\"\n",
      "   104\t\"50937 2021-04-26T09:18:30Z   ECMO: BEGRENZT Uniklinik Köln\"\n",
      "   105\t\"50968 2021-04-26T04:24:07Z   ECMO: NICHT_VERFUEGBAR St. Antonius Krankenhaus\"\n",
      "   106\t\"51109 2021-04-26T11:29:06Z   ECMO: NICHT_VERFUEGBAR Krankenhaus Merheim\"\n",
      "   107\t\"51375 2021-04-26T07:02:37Z   ECMO: NICHT_VERFUEGBAR Klinikum Leverkusen\"\n",
      "   108\t\"52074 2021-04-26T08:24:37Z   ECMO: BEGRENZT Uniklinikum Aachen\"\n",
      "   109\t\"53113 2021-04-25T23:50:24Z   ECMO: BEGRENZT Universitätsklinikum Bonn Zentrum für Kinderheilkunde\"\n",
      "   110\t\"53127 2021-04-26T09:43:40Z   ECMO: BEGRENZT Universitätsklinikum Bonn\"\n",
      "   111\t\"53721 2021-04-26T07:27:49Z   ECMO: BEGRENZT Helios Klinikum Siegburg\"\n",
      "   112\t\"54290 2021-04-26T07:13:51Z   ECMO: BEGRENZT Klinikum Mutterhaus\"\n",
      "   113\t\"54292 2021-04-26T05:15:08Z   ECMO: VERFUEGBAR Krankenhaus der Barmherzigen Brüder Trier\"\n",
      "   114\t\"55131 2021-04-26T08:07:31Z   ECMO: VERFUEGBAR Universitätsmedizin Johannes Gutenberg-Universität\"\n",
      "   115\t\"56072 2021-04-26T05:38:12Z   ECMO: VERFUEGBAR Bundeswehr Zentralkrankenhaus Koblenz\"\n",
      "   116\t\"56073 2021-04-26T06:48:30Z   ECMO: VERFUEGBAR Kath. Klinikum Koblenz\"\n",
      "   117\t\"56073 2021-04-26T15:54:12Z   ECMO: VERFUEGBAR Gemeinschaftsklinikum Mittelrhein\"\n",
      "   118\t\"56626 2021-04-26T09:04:30Z   ECMO: BEGRENZT St. Nikolaus-Stiftshospital\"\n",
      "   119\t\"58515 2021-04-26T07:15:05Z   ECMO: VERFUEGBAR Klinikum Lüdenscheid\"\n",
      "   120\t\"58675 2021-04-26T06:14:16Z   ECMO: BEGRENZT Lungenklinik Hemer\"\n",
      "   121\t\"59870 2021-04-26T07:14:40Z   ECMO: NICHT_VERFUEGBAR St. Walburga-Krankenhaus\"\n",
      "   122\t\"60389 2021-04-26T05:55:58Z   ECMO: NICHT_VERFUEGBAR BG Unfallklinik Frankfurt am Main\"\n",
      "   123\t\"60488 2021-04-26T05:33:49Z   ECMO: VERFUEGBAR Krankenhaus Nordwest, Hauptstandort\"\n",
      "   124\t\"60596 2021-04-26T08:42:21Z   ECMO: BEGRENZT Universitätsklinikum Frankfurt\"\n",
      "   125\t\"61231 2021-04-26T09:13:22Z   ECMO: NICHT_VERFUEGBAR Kerckhoff-Klinik gGmbH, Hauptstandort\"\n",
      "   126\t\"63069 2021-04-26T07:54:37Z   ECMO: NICHT_VERFUEGBAR Sana Klinikum Offenbach\"\n",
      "   127\t\"63225 2021-04-26T06:15:02Z   ECMO: NICHT_VERFUEGBAR Asklepios Klinik Langen\"\n",
      "   128\t\"63450 2021-04-26T06:13:10Z   ECMO: NICHT_VERFUEGBAR Klinikum Hanau GmbH, Klinikum Hanau\"\n",
      "   129\t\"64283 2021-04-26T05:40:25Z   ECMO: NICHT_VERFUEGBAR Klinikum Darmstadt GmbH, Klinikum Darmstadt, Hauptstandort\"\n",
      "   130\t\"65189 2021-04-26T06:01:19Z   ECMO: NICHT_VERFUEGBAR St. Josefs-Hospital Wiesbaden\"\n",
      "   131\t\"65199 2021-04-26T06:47:36Z   ECMO: NICHT_VERFUEGBAR Helios Dr. Horst-Schmidt-Kliniken\"\n",
      "   132\t\"65549 2021-04-26T06:27:08Z   ECMO: VERFUEGBAR St. Vincenz-Krankenhaus Limburg, Limburg\"\n",
      "   133\t\"65929 2021-04-26T11:55:37Z   ECMO: BEGRENZT Klinikum Frankfurt Höchst\"\n",
      "   134\t\"66119 2021-04-26T03:38:42Z   ECMO: VERFUEGBAR Klinikum Saarbrücken\"\n",
      "   135\t\"66333 2021-04-26T05:22:55Z   ECMO: NICHT_VERFUEGBAR SHG-Kliniken Völklingen\"\n",
      "   136\t\"66424 2021-04-26T07:42:55Z   ECMO: BEGRENZT Universitätsklinikum des Saarlandes Homburg\"\n",
      "   137\t\"67063 2021-04-26T07:14:47Z   ECMO: NICHT_VERFUEGBAR Klinikum Ludwigshafen\"\n",
      "   138\t\"67655 2021-04-26T08:57:37Z   ECMO: BEGRENZT Westpfalz-Klinikum Kaiserslautern\"\n",
      "   139\t\"68167 2021-04-26T07:04:17Z   ECMO: VERFUEGBAR Universitätsklinikum Mannheim\"\n",
      "   140\t\"69120 2021-04-26T06:45:57Z   ECMO: VERFUEGBAR Campus Neuenheimer Feld\"\n",
      "   141\t\"69126 2021-04-26T08:55:02Z   ECMO: NICHT_VERFUEGBAR Thoraxklinik Heidelberg\"\n",
      "   142\t\"70174 2021-04-26T05:56:59Z   ECMO: VERFUEGBAR Klinikum Stuttgart, Klinikum Stuttgart - OH/FK - Olgahospital/Frauenklinik\"\n",
      "   143\t\"70174 2021-04-26T05:59:32Z   ECMO: BEGRENZT Klinikum Stuttgart - Katharinenhospital\"\n",
      "   144\t\"70174 2021-04-26T07:18:52Z   ECMO: VERFUEGBAR Sana Herzchirurgie Stuttgart\"\n",
      "   145\t\"70376 2021-04-26T05:22:24Z   ECMO: VERFUEGBAR Robert-Bosch-Krankenhaus\"\n",
      "   146\t\"70839 2021-04-26T06:58:50Z   ECMO: NICHT_VERFUEGBAR Robert-Bosch-Krankenhaus, Klinik Schillerhöhe\"\n",
      "   147\t\"72076 2021-04-26T08:37:26Z   ECMO: BEGRENZT Universitätsklinikum Tübingen\"\n",
      "   148\t\"72764 2021-04-26T07:07:39Z   ECMO: NICHT_VERFUEGBAR Klinikum am Steinenberg\"\n",
      "   149\t\"73730 2021-04-26T09:36:43Z   ECMO: BEGRENZT Klinikum Esslingen\"\n",
      "   150\t\"74078 2021-04-26T04:32:00Z   ECMO: VERFUEGBAR Klinikum am Gesundbrunnen\"\n",
      "   151\t\"74177 2021-04-26T05:30:31Z   ECMO: VERFUEGBAR Klinikum am Plattenwald, Bad Friedrichshall\"\n",
      "   152\t\"74523 2021-04-26T06:31:59Z   ECMO: NICHT_VERFUEGBAR Diakonie-Klinikum Schwäbisch Hall\"\n",
      "   153\t\"75175 2021-04-26T05:24:03Z   ECMO: NICHT_VERFUEGBAR Helios Klinikum Pforzheim\"\n",
      "   154\t\"76133 2021-04-26T07:10:48Z   ECMO: BEGRENZT Städtisches Klinikum Karlsruhe\"\n",
      "   155\t\"76185 2021-04-26T04:58:54Z   ECMO: NICHT_VERFUEGBAR Helios Klinik für Herzchirurgie Karlsruhe\"\n",
      "   156\t\"77933 2021-04-26T04:21:23Z   ECMO: BEGRENZT MediClin Herzzentrum Lahr/Baden\"\n",
      "   157\t\"78464 2021-04-26T07:41:06Z   ECMO: VERFUEGBAR Herz- Zentrum Bodensee\"\n",
      "   158\t\"79104 2021-04-26T06:20:01Z   ECMO: BEGRENZT St. Josefskrankenhaus Freiburg\"\n",
      "   159\t\"79106 2021-04-26T14:12:29Z   ECMO: VERFUEGBAR Universitätsklinikum Freiburg\"\n",
      "   160\t\"79215 2021-04-26T06:07:37Z   ECMO: BEGRENZT BDH-Klinik Elzach\"\n",
      "   161\t\"80636 2021-04-26T04:21:18Z   ECMO: VERFUEGBAR Deutsches Herzzentrum München\"\n",
      "   162\t\"80639 2021-04-26T05:02:29Z   ECMO: NICHT_VERFUEGBAR Barmherzige Brüder Krankenhaus München\"\n",
      "   163\t\"81241 2021-04-26T06:45:46Z   ECMO: BEGRENZT Helios Klinikum München West\"\n",
      "   164\t\"81375 2021-04-26T03:36:00Z   ECMO: NICHT_VERFUEGBAR Klinikum der Universität München, Klinikum der Universität München - Außenstelle Augustinum\"\n",
      "   165\t\"81377 2021-04-26T06:32:32Z   ECMO: BEGRENZT Klinikum der Universität München\"\n",
      "   166\t\"81545 2021-04-26T07:37:31Z   ECMO: NICHT_VERFUEGBAR München Klinik Harlaching\"\n",
      "   167\t\"81675 2021-04-26T07:02:09Z   ECMO: BEGRENZT Klinikum rechts der Isar der TU München\"\n",
      "   168\t\"81737 2021-04-26T07:24:08Z   ECMO: NICHT_VERFUEGBAR München Klinik Neuperlach\"\n",
      "   169\t\"81925 2021-04-26T08:36:32Z   ECMO: NICHT_VERFUEGBAR München Klinik Bogenhausen\"\n",
      "   170\t\"82418 2021-04-26T04:48:40Z   ECMO: VERFUEGBAR BG Klinikum Murnau\"\n",
      "   171\t\"83278 2021-04-26T06:45:00Z   ECMO: NICHT_VERFUEGBAR Klinikum Traunstein\"\n",
      "   172\t\"83569 2021-04-26T06:14:01Z   ECMO: BEGRENZT Schön Klinik Vogtareuth\"\n",
      "   173\t\"85049 2021-04-26T06:17:35Z   ECMO: NICHT_VERFUEGBAR Klinikum Ingolstadt\"\n",
      "   174\t\"86156 2021-04-26T05:48:29Z   ECMO: BEGRENZT Universitätsklinikum Augsburg, Medizincampus\"\n",
      "   175\t\"87509 2021-04-25T22:35:31Z   ECMO: NICHT_VERFUEGBAR Klinik Immenstadt\"\n",
      "   176\t\"90419 2021-04-26T06:31:32Z   ECMO: VERFUEGBAR Klinikum Nürnberg Nord\"\n",
      "   177\t\"91054 2021-04-26T06:57:01Z   ECMO: BEGRENZT Universitätsklinikum Erlangen\"\n",
      "   178\t\"91438 2021-04-26T06:46:24Z   ECMO: BEGRENZT Dr. Becker Kiliani Klinik - Akut\"\n",
      "   179\t\"92224 2021-04-26T05:34:22Z   ECMO: NICHT_VERFUEGBAR Klinikum St. Marien Amberg\"\n",
      "   180\t\"92637 2021-04-26T06:02:43Z   ECMO: VERFUEGBAR Klinikum Weiden\"\n",
      "   181\t\"93049 2021-04-26T06:35:36Z   ECMO: VERFUEGBAR Krankenhaus Barmherzige Brüder Regensburg\"\n",
      "   182\t\"93053 2021-04-26T05:59:09Z   ECMO: NICHT_VERFUEGBAR Caritas-Krankenhaus St. Josef\"\n",
      "   183\t\"93053 2021-04-26T07:29:05Z   ECMO: VERFUEGBAR Universitätsklinikum Regensburg\"\n",
      "   184\t\"93133 2021-04-26T05:39:51Z   ECMO: BEGRENZT Asklepios Klinik im Städtedreieck\"\n",
      "   185\t\"95326 2021-04-26T07:01:06Z   ECMO: BEGRENZT Klinikum Kulmbach\"\n",
      "   186\t\"95445 2021-04-26T08:18:13Z   ECMO: VERFUEGBAR Klinikum Bayreuth\"\n",
      "   187\t\"96049 2021-04-26T06:01:23Z   ECMO: VERFUEGBAR Klinikum Bamberg Betriebsstätte Bruderwald\"\n",
      "   188\t\"96450 2021-04-26T05:39:44Z   ECMO: VERFUEGBAR Klinikum Coburg\"\n",
      "   189\t\"97080 2021-04-26T09:01:55Z   ECMO: VERFUEGBAR Universitätsklinikum Würzburg\"\n",
      "   190\t\"97616 2021-04-26T06:27:50Z   ECMO: VERFUEGBAR RHÖN-KLINIKUM Campus Bad Neustadt\"\n",
      "   191\t\"98527 2021-04-26T09:55:48Z   ECMO: BEGRENZT SRH Zentralklinikum Suhl\"\n",
      "   192\t\"99089 2021-04-26T05:23:14Z   ECMO: BEGRENZT Helios Klinikum Erfurt\"\n",
      "   193\t\"99437 2021-04-26T04:47:04Z   ECMO: VERFUEGBAR Zentralklinik Bad Berka\"\n",
      "   194\t\"99768 2021-04-26T06:55:53Z   ECMO: BEGRENZT Lungenklinik Neustadt\"\n",
      "194\n",
      "Mon Apr 26 16:53:31 UTC 2021\n"
     ]
    }
   ],
   "source": [
    "! rm BITHLi\n",
    "! sort BettenECMODE.txt | nl | tee -a BITHLi | wc -l >> BITHLi && echo `date` >> BITHLi ; cat BITHLi"
   ]
  },
  {
   "cell_type": "code",
   "execution_count": 29,
   "metadata": {},
   "outputs": [
    {
     "name": "stdout",
     "output_type": "stream",
     "text": [
      "     1\t\"01067 2021-04-26T07:10:39Z   ECMO: NICHT_VERFUEGBAR Städtisches Klinikum Dresden - Friedrichstadt\"\n",
      "     2\t\"01589 2021-04-26T04:48:29Z   ECMO: NICHT_VERFUEGBAR ELBLANDKLINIKUM Riesa, ELBLANDKLINIKUM Riesa\"\n",
      "     3\t\"01640 2021-04-26T05:44:51Z   ECMO: NICHT_VERFUEGBAR Fachkrankenhaus Coswig\"\n",
      "     4\t\"07747 2021-04-26T08:19:05Z   ECMO: NICHT_VERFUEGBAR Universitätsklinikum Jena Lobeda\"\n",
      "     5\t\"14089 2021-04-26T06:29:24Z   ECMO: NICHT_VERFUEGBAR Gemeinschaftskrankenhaus Havelhöhe\"\n",
      "     6\t\"17489 2021-04-26T06:05:25Z   ECMO: NICHT_VERFUEGBAR Universitätsmedizin Greifswald\"\n",
      "     7\t\"22087 2021-04-26T07:59:33Z   ECMO: NICHT_VERFUEGBAR Kath. Marienkrankenhaus\"\n",
      "     8\t\"22417 2021-04-26T05:56:16Z   ECMO: NICHT_VERFUEGBAR Asklpios Klinik Nord, Heidberg\"\n",
      "     9\t\"26122 2021-04-26T05:49:26Z   ECMO: NICHT_VERFUEGBAR Evangelisches Krankenhaus Oldenburg\"\n",
      "    10\t\"26389 2021-04-26T06:48:20Z   ECMO: NICHT_VERFUEGBAR Klinikum Wilhelmshaven\"\n",
      "    11\t\"28277 2021-04-26T07:30:36Z   ECMO: NICHT_VERFUEGBAR Klinikum Links der Weser\"\n",
      "    12\t\"32429 2021-04-26T06:38:29Z   ECMO: NICHT_VERFUEGBAR Johannes Wesling Klinikum Minden, Johannes Wesling Klinikum\"\n",
      "    13\t\"35392 2021-04-26T08:04:12Z   ECMO: NICHT_VERFUEGBAR Universitätsklinikum Gießen und Marburg\"\n",
      "    14\t\"35398 2021-04-26T06:40:00Z   ECMO: NICHT_VERFUEGBAR Agaplesion Ev. Krankenhaus Mittelhessen\"\n",
      "    15\t\"41464 2021-04-26T07:56:16Z   ECMO: NICHT_VERFUEGBAR Lukaskrankenhaus Neuss\"\n",
      "    16\t\"42283 2021-04-26T08:38:52Z   ECMO: NICHT_VERFUEGBAR Helios Klinikum Wuppertal, Standort Barmen\"\n",
      "    17\t\"44534 2021-04-26T08:45:02Z   ECMO: NICHT_VERFUEGBAR St.-Marien-Hospital\"\n",
      "    18\t\"44536 2021-04-26T06:05:09Z   ECMO: NICHT_VERFUEGBAR Klinikum Westfalen GmbH - KKDO, KaP, HK, Klinik am Park Lünen\"\n",
      "    19\t\"44791 2021-04-26T07:21:13Z   ECMO: NICHT_VERFUEGBAR Kath. Klinikum Bochum JH\"\n",
      "    20\t\"44791 2021-04-26T08:49:08Z   ECMO: NICHT_VERFUEGBAR Augusta-Kranken-Anstalt - Bochum-Mitte\"\n",
      "    21\t\"44892 2021-04-26T05:32:17Z   ECMO: NICHT_VERFUEGBAR Universitätsklinikum Knappschaftskrankenhaus\"\n",
      "    22\t\"45138 2021-04-26T05:45:40Z   ECMO: NICHT_VERFUEGBAR Universitätsklinikum Essen, Herzchirurgie Huttrop\"\n",
      "    23\t\"45239 2021-04-26T07:31:31Z   ECMO: NICHT_VERFUEGBAR Ruhrlandklinik – Westdeutsches Lungenzentrum\"\n",
      "    24\t\"47198 2021-04-26T08:07:35Z   ECMO: NICHT_VERFUEGBAR Malteser Klinikum Duisburg\"\n",
      "    25\t\"47249 2021-04-26T05:48:44Z   ECMO: NICHT_VERFUEGBAR BG Klinikum Duisburg\"\n",
      "    26\t\"47259 2021-04-26T06:19:18Z   ECMO: NICHT_VERFUEGBAR Malteser Krankenhaus St. Anna\"\n",
      "    27\t\"48145 2021-04-26T08:02:03Z   ECMO: NICHT_VERFUEGBAR St. Franziskus-Hospital\"\n",
      "    28\t\"49477 2021-04-26T09:48:13Z   ECMO: NICHT_VERFUEGBAR Klinikum Ibbenbüren\"\n",
      "    29\t\"50968 2021-04-26T04:24:07Z   ECMO: NICHT_VERFUEGBAR St. Antonius Krankenhaus\"\n",
      "    30\t\"51109 2021-04-26T11:29:06Z   ECMO: NICHT_VERFUEGBAR Krankenhaus Merheim\"\n",
      "    31\t\"51375 2021-04-26T07:02:37Z   ECMO: NICHT_VERFUEGBAR Klinikum Leverkusen\"\n",
      "    32\t\"59870 2021-04-26T07:14:40Z   ECMO: NICHT_VERFUEGBAR St. Walburga-Krankenhaus\"\n",
      "    33\t\"60389 2021-04-26T05:55:58Z   ECMO: NICHT_VERFUEGBAR BG Unfallklinik Frankfurt am Main\"\n",
      "    34\t\"61231 2021-04-26T09:13:22Z   ECMO: NICHT_VERFUEGBAR Kerckhoff-Klinik gGmbH, Hauptstandort\"\n",
      "    35\t\"63069 2021-04-26T07:54:37Z   ECMO: NICHT_VERFUEGBAR Sana Klinikum Offenbach\"\n",
      "    36\t\"63225 2021-04-26T06:15:02Z   ECMO: NICHT_VERFUEGBAR Asklepios Klinik Langen\"\n",
      "    37\t\"63450 2021-04-26T06:13:10Z   ECMO: NICHT_VERFUEGBAR Klinikum Hanau GmbH, Klinikum Hanau\"\n",
      "    38\t\"64283 2021-04-26T05:40:25Z   ECMO: NICHT_VERFUEGBAR Klinikum Darmstadt GmbH, Klinikum Darmstadt, Hauptstandort\"\n",
      "    39\t\"65189 2021-04-26T06:01:19Z   ECMO: NICHT_VERFUEGBAR St. Josefs-Hospital Wiesbaden\"\n",
      "    40\t\"65199 2021-04-26T06:47:36Z   ECMO: NICHT_VERFUEGBAR Helios Dr. Horst-Schmidt-Kliniken\"\n",
      "    41\t\"66333 2021-04-26T05:22:55Z   ECMO: NICHT_VERFUEGBAR SHG-Kliniken Völklingen\"\n",
      "    42\t\"67063 2021-04-26T07:14:47Z   ECMO: NICHT_VERFUEGBAR Klinikum Ludwigshafen\"\n",
      "    43\t\"69126 2021-04-26T08:55:02Z   ECMO: NICHT_VERFUEGBAR Thoraxklinik Heidelberg\"\n",
      "    44\t\"70839 2021-04-26T06:58:50Z   ECMO: NICHT_VERFUEGBAR Robert-Bosch-Krankenhaus, Klinik Schillerhöhe\"\n",
      "    45\t\"72764 2021-04-26T07:07:39Z   ECMO: NICHT_VERFUEGBAR Klinikum am Steinenberg\"\n",
      "    46\t\"74523 2021-04-26T06:31:59Z   ECMO: NICHT_VERFUEGBAR Diakonie-Klinikum Schwäbisch Hall\"\n",
      "    47\t\"75175 2021-04-26T05:24:03Z   ECMO: NICHT_VERFUEGBAR Helios Klinikum Pforzheim\"\n",
      "    48\t\"76185 2021-04-26T04:58:54Z   ECMO: NICHT_VERFUEGBAR Helios Klinik für Herzchirurgie Karlsruhe\"\n",
      "    49\t\"80639 2021-04-26T05:02:29Z   ECMO: NICHT_VERFUEGBAR Barmherzige Brüder Krankenhaus München\"\n",
      "    50\t\"81375 2021-04-26T03:36:00Z   ECMO: NICHT_VERFUEGBAR Klinikum der Universität München, Klinikum der Universität München - Außenstelle Augustinum\"\n",
      "    51\t\"81545 2021-04-26T07:37:31Z   ECMO: NICHT_VERFUEGBAR München Klinik Harlaching\"\n",
      "    52\t\"81737 2021-04-26T07:24:08Z   ECMO: NICHT_VERFUEGBAR München Klinik Neuperlach\"\n",
      "    53\t\"81925 2021-04-26T08:36:32Z   ECMO: NICHT_VERFUEGBAR München Klinik Bogenhausen\"\n",
      "    54\t\"83278 2021-04-26T06:45:00Z   ECMO: NICHT_VERFUEGBAR Klinikum Traunstein\"\n",
      "    55\t\"85049 2021-04-26T06:17:35Z   ECMO: NICHT_VERFUEGBAR Klinikum Ingolstadt\"\n",
      "    56\t\"87509 2021-04-25T22:35:31Z   ECMO: NICHT_VERFUEGBAR Klinik Immenstadt\"\n",
      "    57\t\"92224 2021-04-26T05:34:22Z   ECMO: NICHT_VERFUEGBAR Klinikum St. Marien Amberg\"\n",
      "    58\t\"93053 2021-04-26T05:59:09Z   ECMO: NICHT_VERFUEGBAR Caritas-Krankenhaus St. Josef\"\n",
      "58\n",
      "Mon Apr 26 16:53:33 UTC 2021\n"
     ]
    }
   ],
   "source": [
    "! rm BITHLi\n",
    "! sort BettenECMODE.txt | grep NICHT | nl | tee -a BITHLi | wc -l >> BITHLi && echo `date` >> BITHLi ; cat BITHLi"
   ]
  },
  {
   "cell_type": "markdown",
   "metadata": {},
   "source": [
    "we will not count the people WITH covid, \n",
    "\n",
    "only we SHOW as example working with the tool"
   ]
  },
  {
   "cell_type": "markdown",
   "metadata": {},
   "source": [
    "Our best wishes all the people: \n",
    "\n",
    "\n",
    "## Be quick healthy again!"
   ]
  },
  {
   "cell_type": "markdown",
   "metadata": {},
   "source": [
    "Every suggestion, mostly for code, are very welcome. \n",
    "\n",
    "## Keep healthy!"
   ]
  },
  {
   "cell_type": "markdown",
   "metadata": {},
   "source": [
    "***"
   ]
  },
  {
   "cell_type": "code",
   "execution_count": 30,
   "metadata": {},
   "outputs": [
    {
     "name": "stdout",
     "output_type": "stream",
     "text": [
      "Mon Apr 26 16:53:34 UTC 2021\n",
      "this was all for the 1st ... CU! :)  \n"
     ]
    }
   ],
   "source": [
    "! date ; echo \"this was all for the 1st ... CU! :)  \""
   ]
  },
  {
   "cell_type": "markdown",
   "metadata": {},
   "source": [
    "***"
   ]
  },
  {
   "cell_type": "markdown",
   "metadata": {},
   "source": [
    "\n",
    "\n"
   ]
  },
  {
   "cell_type": "markdown",
   "metadata": {},
   "source": [
    "***\n",
    "***\n",
    "***\n",
    "\n",
    "# JupyterLab Extension Exploration\n",
    "\n",
    "***\n",
    "\n",
    "12:45 15.04.2021\n",
    "https://github.ibm.com/skills-network-labs/jupyterlab-github\n",
    "JupyterLab viewer for GitHub repositories\n",
    "\n",
    "### install try \n",
    "### message ipynb on n10weg:\n",
    "\n",
    "This package has indicated that it needs a corresponding server extension. Please contact your Administrator to update the server with one of the following commands:\n",
    "pip install sn_jupyterlab_github\n",
    "\n",
    "\n",
    "You should make sure that the indicated packages are installed before trying to use the extension. Do you want to continue with the extension installation?\n",
    "\n",
    "***\n",
    "\n",
    "12:51 15.04.2021\n",
    "https://github.com/jupyterlab/jupyterlab-github\n",
    "\n",
    "JupyterLab viewer for GitHub repositories\n",
    "\n",
    "### try\n",
    "### ipynb msg:\n",
    "\n",
    "This package has indicated that it needs a corresponding server extension. Please contact your Administrator to update the server with one of the following commands:\n",
    "pip install jupyterlab_github\n",
    "\n",
    "### \"hit \"ok\" Button \n",
    "### ipynb msg err:\n",
    "\n",
    "Extension Installation Error\n",
    "An error occurred installing <code>@jupyterlab/github</code>.\n",
    "\n",
    "Error message:\n",
    "\n",
    "The extension \"@jupyterlab/github\" does not yet support the current version of JupyterLab.\n",
    "\n",
    "\n",
    "Conflicting Dependencies:\n",
    "JupyterLab                  Extension      Package\n",
    ">=3.0.4 <3.1.0              >=2.0.0 <3.0.0 @jupyterlab/application\n",
    ">=3.0.3 <3.1.0              >=2.0.0 <3.0.0 @jupyterlab/apputils\n",
    ">=5.0.2 <5.1.0              >=4.0.0 <5.0.0 @jupyterlab/coreutils\n",
    ">=3.0.4 <3.1.0              >=2.0.0 <3.0.0 @jupyterlab/docmanager\n",
    ">=3.0.4 <3.1.0              >=2.0.0 <3.0.0 @jupyterlab/filebrowser\n",
    ">=6.0.3 <6.1.0              >=5.0.0 <6.0.0 @jupyterlab/services\n",
    ">=3.0.2 <3.1.0              >=2.0.0 <3.0.0 @jupyterlab/settingregistry\n",
    ">=3.0.3 <3.1.0              >=2.0.0 <3.0.0 @jupyterlab/ui-components\n",
    "\n",
    "\n",
    "You should make sure that the indicated packages are installed before trying to use the extension. Do you want to continue with the extension installation?\n",
    "\n",
    "### 2do\n",
    "### next?\n",
    "\n",
    "***\n",
    "\n",
    "12:54 15.04.2021\n",
    "https://github.com/ReviewNB/jupyterlab-gitplus\n",
    "JupyterLab extension to create GitHub pull requests & commits.\n",
    "\n",
    "### !!! @reviewnb !!!\n",
    "### try again\n",
    "### ipynb msg err:\n",
    "\n",
    "Extension Installation Error\n",
    "An error occurred installing <code>@reviewnb/jupyterlab_gitplus</code>.\n",
    "\n",
    "Error message:\n",
    "\n",
    "The extension \"@reviewnb/jupyterlab_gitplus\" does not yet support the current version of JupyterLab.\n",
    "\n",
    "\n",
    "Conflicting Dependencies:\n",
    "JupyterLab              Extension      Package\n",
    ">=3.0.4 <3.1.0          >=2.0.0 <3.0.0 @jupyterlab/application\n",
    ">=3.0.3 <3.1.0          >=2.0.0 <3.0.0 @jupyterlab/apputils\n",
    ">=3.0.4 <3.1.0          >=2.0.0 <3.0.0 @jupyterlab/fileeditor\n",
    ">=3.0.3 <3.1.0          >=2.0.0 <3.0.0 @jupyterlab/mainmenu\n",
    ">=3.0.4 <3.1.0          >=2.0.0 <3.0.0 @jupyterlab/notebook\n",
    "\n",
    "\n",
    "### analyse act. ver:\n",
    "\n",
    "jupyterlab Version 3.0.7\n",
    "\n",
    "\n",
    "***\n",
    "\n",
    "13:00 15.04.2021\n",
    "https://github.com/enlznep/jupyterlab-shell-file\n",
    "JupyterLab extension for creating and running shell script\n",
    "\n",
    "### try\n",
    "### ipynb msg err:\n",
    "\n",
    "Extension Installation Error\n",
    "An error occurred installing <code>@enlznep/jupyterlab_shell_file</code>.\n",
    "\n",
    "Error message:\n",
    "\n",
    "The extension \"@enlznep/jupyterlab_shell_file\" does not yet support the current version of JupyterLab.\n",
    "\n",
    "\n",
    "Conflicting Dependencies:\n",
    "JupyterLab              Extension      Package\n",
    ">=3.0.4 <3.1.0          >=0.19.1 <0.20.0@jupyterlab/application\n",
    ">=3.0.3 <3.1.0          >=0.19.1 <0.20.0@jupyterlab/apputils\n",
    ">=3.0.3 <3.1.0          >=0.19.1 <0.20.0@jupyterlab/codeeditor\n",
    ">=3.0.4 <3.1.0          >=0.19.3 <0.20.0@jupyterlab/filebrowser\n",
    ">=3.0.4 <3.1.0          >=0.19.1 <0.20.0@jupyterlab/fileeditor\n",
    ">=3.0.3 <3.1.0          >=0.19.1 <0.20.0@jupyterlab/launcher\n",
    ">=3.0.3 <3.1.0          >=0.8.1 <0.9.0 @jupyterlab/mainmenu\n",
    ">=3.0.4 <3.1.0          >=0.19.2 <0.20.0@jupyterlab/notebook\n",
    "\n",
    "### analyse act. ver:\n",
    "\n",
    "jupyterlab Version 3.0.7\n",
    "\n",
    "\n",
    "***\n",
    "\n",
    "13:03 15.04.2021\n",
    "https://borgniet.com/index.php/2020/10/02/how-to-run-all-the-cells-of-a-jupyter-lab-notebook-when-opening-it/\n",
    "Automatically run and/or hide cells when opening a Jupyter notebook\n",
    "\n",
    "### try\n",
    "### ipynb msg err:\n",
    "\n",
    "Extension Installation Error\n",
    "An error occurred installing <code>jupyterlab-autoplay</code>.\n",
    "\n",
    "Error message:\n",
    "\n",
    "The extension \"jupyterlab-autoplay\" does not yet support the current version of JupyterLab.\n",
    "\n",
    "\n",
    "Conflicting Dependencies:\n",
    "JupyterLab              Extension        Package\n",
    ">=3.0.4 <3.1.0          >=2.2.4 <3.0.0   @jupyterlab/application\n",
    ">=3.0.4 <3.1.0          >=2.2.5 <3.0.0   @jupyterlab/notebook\n",
    ">=17.0.1 <18.0.0        >=16.9.0 <17.0.0 react-dom\n",
    "\n",
    "\n",
    "### analyse act. ver:\n",
    "\n",
    "jupyterlab Version 3.0.7\n",
    "\n",
    "\n",
    "\n",
    "***\n",
    "\n",
    "13:04 15.04.2021\n",
    "https://www.npmjs.com/package/jupyterlab_autoversion\n",
    "Automatically version jupyter notebooks on save\n",
    "\n",
    "### try\n",
    "### ipynb msg:\n",
    "\n",
    "Server Companion\n",
    "This package has indicated that it needs a corresponding server extension. Please contact your Administrator to update the server with one of the following commands:\n",
    "pip install jupyterlab_autoversion\n",
    "\n",
    "\n",
    "You should make sure that the indicated packages are installed before trying to use the extension. Do you want to continue with the extension installation?\n",
    "\n",
    "\n",
    "### try \"ok\"\n",
    "### ipynb msg:\n",
    "\n",
    "A build is needed to include the latest changes\n",
    "\n",
    "### try \"Rebuild\"\n",
    "### 10 .. 30 sec, may be\n",
    "### ipynb msg err:\n",
    "\n",
    "Build Failed\n",
    "Build failed with 504, please run 'jupyter lab build' on the server for full output\n",
    "\n",
    "### \"ok\"?\n",
    "### try \"ok\"\n",
    "### no more ipynb reactions \n",
    "\n",
    "\n",
    "\n",
    "\n",
    "***\n",
    "\n",
    "\n",
    "12:46 15.04.2021\n",
    "https://github.com/mwouts/jupytext/tree/master/packages/labextension\n",
    "Save Jupyter Notebooks as Scripts or Markdown files that work well with version control & external text editors\n",
    "\n",
    "### may be doublett -> check above\n",
    "\n",
    "\n",
    "***\n",
    "\n",
    "***\n",
    "\n",
    "***"
   ]
  },
  {
   "cell_type": "raw",
   "metadata": {},
   "source": [
    "# webinstall no more - to 25.04.2021 ok, fro, 26.04.2021 \"jq not \"\n",
    "#\n",
    "# ! curl -sS https://webinstall.dev/jq | bash\n",
    "# ! jq --help\n",
    "# gives some err \"no command\"\n",
    "# so we must drop webinstall an go by apt.txt, \n",
    "# to say: install through docker build but by binder-process"
   ]
  },
  {
   "cell_type": "code",
   "execution_count": 31,
   "metadata": {},
   "outputs": [],
   "source": [
    "! # curl --manual \n",
    "! # http://ix.io/user/catcount"
   ]
  },
  {
   "cell_type": "code",
   "execution_count": 32,
   "metadata": {},
   "outputs": [
    {
     "name": "stdout",
     "output_type": "stream",
     "text": [
      "\n"
     ]
    }
   ],
   "source": [
    "!    memf=$(awk -F\"[: ]+\" '/MemFree/ {print $2;exit}' /proc/meminfo); \n",
    "!    echo $memf "
   ]
  },
  {
   "cell_type": "code",
   "execution_count": 33,
   "metadata": {},
   "outputs": [
    {
     "name": "stdout",
     "output_type": "stream",
     "text": [
      "3666696\n"
     ]
    }
   ],
   "source": [
    "! awk -F\"[: ]+\" '/MemFree/ {print $2;exit}' /proc/meminfo"
   ]
  },
  {
   "cell_type": "code",
   "execution_count": 34,
   "metadata": {},
   "outputs": [
    {
     "name": "stdout",
     "output_type": "stream",
     "text": [
      "GCS_PROXY_PORT=tcp://10.3.244.175:80\n",
      "CONDA_SHLVL=1\n",
      "PYTHONUNBUFFERED=1\n",
      "LC_ALL=en_US.UTF-8\n",
      "JUPYTERHUB_CLIENT_ID=jupyterhub-user-pflegende-betteninventurth-9zsxrokq\n",
      "APP_BASE=/srv\n",
      "KERNEL_PYTHON_PREFIX=/srv/conda/envs/notebook\n",
      "CONDA_EXE=/srv/conda/bin/conda\n",
      "PROXY_API_PORT=tcp://10.3.244.201:8001\n",
      "FEDERATION_REDIRECT_PORT=tcp://10.3.244.205:80\n",
      "PROD_INGRESS_NGINX_DEFAULTBACKEND_SERVICE_HOST=10.3.249.179\n",
      "PROD_PROMETHEUS_SERVER_PORT_80_TCP_PROTO=tcp\n",
      "PROXY_API_PORT_8001_TCP_PORT=8001\n",
      "FEDERATION_REDIRECT_PORT_80_TCP_PROTO=tcp\n",
      "JUPYTERHUB_ADMIN_ACCESS=1\n",
      "PROD_KUBE_STATE_METRICS_SERVICE_PORT=8080\n",
      "PROD_PROMETHEUS_SERVER_SERVICE_HOST=10.3.241.169\n",
      "LANG=en_US.UTF-8\n",
      "GCS_PROXY_PORT_80_TCP_PORT=80\n",
      "MATOMO_PORT_9000_TCP_PORT=9000\n",
      "GCS_PROXY_PORT_80_TCP_PROTO=tcp\n",
      "PROXY_PATCHES_PORT_80_TCP_PROTO=tcp\n",
      "HUB_PORT_8081_TCP_PROTO=tcp\n",
      "PROD_INGRESS_NGINX_CONTROLLER_PORT_443_TCP=tcp://10.3.247.70:443\n",
      "HUB_SERVICE_HOST=10.3.250.250\n",
      "HOSTNAME=jupyter-pflegende-2dbetteninventurth-2d9zsxrokq\n",
      "NPM_DIR=/srv/npm\n",
      "PROXY_PATCHES_PORT_80_TCP_PORT=80\n",
      "PROD_GRAFANA_PORT_80_TCP_PORT=80\n",
      "MATOMO_PORT=tcp://10.3.248.239:9000\n",
      "PROD_KUBE_STATE_METRICS_PORT_8080_TCP_ADDR=10.3.243.113\n",
      "FEDERATION_REDIRECT_PORT_80_TCP_PORT=80\n",
      "PROD_GRAFANA_SERVICE_PORT_SERVICE=80\n",
      "BINDER_PORT=tcp://10.3.254.234:80\n",
      "PROXY_PATCHES_PORT_80_TCP=tcp://10.3.249.118:80\n",
      "PROD_GRAFANA_PORT_80_TCP_PROTO=tcp\n",
      "PROXY_PUBLIC_PORT_80_TCP_ADDR=10.3.244.15\n",
      "CONDA_PREFIX=/srv/conda/envs/notebook\n",
      "PROXY_PUBLIC_PORT_80_TCP_PORT=80\n",
      "PROD_INGRESS_NGINX_CONTROLLER_PORT_80_TCP_ADDR=10.3.247.70\n",
      "PROD_KUBE_STATE_METRICS_PORT=tcp://10.3.243.113:8080\n",
      "PROD_INGRESS_NGINX_CONTROLLER_PORT_443_TCP_PORT=443\n",
      "CONDA_DIR=/srv/conda\n",
      "FEDERATION_REDIRECT_SERVICE_HOST=10.3.244.205\n",
      "PROXY_PATCHES_SERVICE_PORT=80\n",
      "REDIRECTOR_PORT_80_TCP_ADDR=10.3.245.207\n",
      "PROXY_PUBLIC_SERVICE_PORT=80\n",
      "_CE_M=\n",
      "KUBERNETES_PORT_443_TCP_PROTO=tcp\n",
      "PROD_INGRESS_NGINX_CONTROLLER_SERVICE_PORT=80\n",
      "JUPYTERHUB_ACTIVITY_URL=http://hub:8081/hub/api/users/pflegende-betteninventurth-9zsxrokq/activity\n",
      "PROXY_PUBLIC_SERVICE_HOST=10.3.244.15\n",
      "KUBERNETES_PORT_443_TCP_ADDR=10.3.240.1\n",
      "HUB_PORT_8081_TCP=tcp://10.3.250.250:8081\n",
      "CPU_LIMIT=1.0\n",
      "USER=jovyan\n",
      "JUPYTERHUB_BASE_URL=/\n",
      "PAGER=cat\n",
      "PROD_INGRESS_NGINX_DEFAULTBACKEND_PORT=tcp://10.3.249.179:80\n",
      "BINDER_PORT_80_TCP_PROTO=tcp\n",
      "PROXY_PATCHES_PORT=tcp://10.3.249.118:80\n",
      "PROD_INGRESS_NGINX_CONTROLLER_METRICS_PORT_9913_TCP_PROTO=tcp\n",
      "BINDER_SERVICE_PORT=80\n",
      "MATOMO_PORT_9000_TCP=tcp://10.3.248.239:9000\n",
      "REDIRECTOR_PORT=tcp://10.3.245.207:80\n",
      "BINDER_REQUEST=v2/gh/pflegende/BetteninventurTH/master\n",
      "PROXY_PUBLIC_SERVICE_PORT_HTTP=80\n",
      "PROD_INGRESS_NGINX_CONTROLLER_METRICS_SERVICE_PORT_METRICS=9913\n",
      "KUBERNETES_PORT=tcp://10.3.240.1:443\n",
      "HUB_PORT=tcp://10.3.250.250:8081\n",
      "PROXY_PUBLIC_PORT_80_TCP=tcp://10.3.244.15:80\n",
      "JPY_PARENT_PID=18\n",
      "MATOMO_PORT_9000_TCP_ADDR=10.3.248.239\n",
      "PWD=/home/jovyan\n",
      "HOME=/home/jovyan\n",
      "PROD_GRAFANA_PORT_80_TCP=tcp://10.3.249.119:80\n",
      "BINDER_REPO_URL=https://github.com/pflegende/BetteninventurTH\n",
      "PROXY_API_SERVICE_HOST=10.3.244.201\n",
      "CONDA_PYTHON_EXE=/srv/conda/bin/python\n",
      "BINDER_PORT_80_TCP_ADDR=10.3.254.234\n",
      "CLICOLOR=1\n",
      "GCS_PROXY_SERVICE_PORT=80\n",
      "PROD_INGRESS_NGINX_CONTROLLER_PORT_443_TCP_PROTO=tcp\n",
      "PROD_INGRESS_NGINX_CONTROLLER_METRICS_SERVICE_PORT=9913\n",
      "PROD_INGRESS_NGINX_CONTROLLER_METRICS_PORT=tcp://10.3.249.104:9913\n",
      "PROD_PROMETHEUS_SERVER_PORT_80_TCP=tcp://10.3.241.169:80\n",
      "JUPYTERHUB_USER=pflegende-betteninventurth-9zsxrokq\n",
      "KUBERNETES_SERVICE_PORT_HTTPS=443\n",
      "BINDER_PORT_80_TCP_PORT=80\n",
      "PROXY_API_PORT_8001_TCP=tcp://10.3.244.201:8001\n",
      "PROXY_API_SERVICE_PORT=8001\n",
      "DEBIAN_FRONTEND=noninteractive\n",
      "CPU_GUARANTEE=0.01\n",
      "PROXY_API_PORT_8001_TCP_ADDR=10.3.244.201\n",
      "PROXY_PUBLIC_PORT=tcp://10.3.244.15:80\n",
      "KUBERNETES_PORT_443_TCP_PORT=443\n",
      "PROD_INGRESS_NGINX_CONTROLLER_METRICS_PORT_9913_TCP_ADDR=10.3.249.104\n",
      "PROD_INGRESS_NGINX_DEFAULTBACKEND_PORT_80_TCP_PORT=80\n",
      "PROXY_PATCHES_PORT_80_TCP_ADDR=10.3.249.118\n",
      "_CE_CONDA=\n",
      "MATOMO_PORT_9000_TCP_PROTO=tcp\n",
      "BINDER_LAUNCH_HOST=https://mybinder.org/\n",
      "FEDERATION_REDIRECT_PORT_80_TCP_ADDR=10.3.244.205\n",
      "BINDER_REF_URL=https://github.com/pflegende/BetteninventurTH/tree/95b33d5613ae3ca5378f8ea343d18aae9e945901\n",
      "GCS_PROXY_SERVICE_HOST=10.3.244.175\n",
      "PROD_INGRESS_NGINX_DEFAULTBACKEND_SERVICE_PORT=80\n",
      "PROD_INGRESS_NGINX_CONTROLLER_PORT_80_TCP=tcp://10.3.247.70:80\n",
      "MATOMO_SERVICE_PORT=9000\n",
      "REDIRECTOR_PORT_80_TCP_PROTO=tcp\n",
      "HUB_PORT_8081_TCP_PORT=8081\n",
      "PROD_INGRESS_NGINX_CONTROLLER_PORT=tcp://10.3.247.70:80\n",
      "REDIRECTOR_PORT_80_TCP=tcp://10.3.245.207:80\n",
      "PROD_INGRESS_NGINX_CONTROLLER_SERVICE_PORT_HTTPS=443\n",
      "PROD_KUBE_STATE_METRICS_SERVICE_HOST=10.3.243.113\n",
      "KUBERNETES_PORT_443_TCP=tcp://10.3.240.1:443\n",
      "JUPYTERHUB_SERVICE_PREFIX=/user/pflegende-betteninventurth-9zsxrokq/\n",
      "CONDA_PROMPT_MODIFIER=(notebook) \n",
      "PROXY_API_PORT_8001_TCP_PROTO=tcp\n",
      "PROD_INGRESS_NGINX_CONTROLLER_PORT_443_TCP_ADDR=10.3.247.70\n",
      "HUB_PORT_8081_TCP_ADDR=10.3.250.250\n",
      "REDIRECTOR_PORT_80_TCP_PORT=80\n",
      "JUPYTERHUB_SERVER_NAME=\n",
      "PROD_INGRESS_NGINX_CONTROLLER_METRICS_SERVICE_HOST=10.3.249.104\n",
      "PROD_KUBE_STATE_METRICS_PORT_8080_TCP_PROTO=tcp\n",
      "MATOMO_SERVICE_PORT_MATOMO=9000\n",
      "PROXY_PATCHES_SERVICE_HOST=10.3.249.118\n",
      "TERM=xterm-color\n",
      "SHELL=/bin/bash\n",
      "MEM_GUARANTEE=471859200\n",
      "PROD_PROMETHEUS_SERVER_PORT_80_TCP_PORT=80\n",
      "MPLBACKEND=module://ipykernel.pylab.backend_inline\n",
      "PROD_INGRESS_NGINX_DEFAULTBACKEND_SERVICE_PORT_HTTP=80\n",
      "REDIRECTOR_SERVICE_HOST=10.3.245.207\n",
      "PROD_PROMETHEUS_SERVER_SERVICE_PORT=80\n",
      "JUPYTER_IMAGE=gcr.io/binderhub-288415/r2d-staging-72d7634-pflegende-2dbetteninventurth-8373f7:95b33d5613ae3ca5378f8ea343d18aae9e945901\n",
      "PROD_GRAFANA_SERVICE_PORT=80\n",
      "FEDERATION_REDIRECT_SERVICE_PORT=80\n",
      "MEM_LIMIT=2147483648\n",
      "PROD_KUBE_STATE_METRICS_SERVICE_PORT_HTTP=8080\n",
      "NB_PYTHON_PREFIX=/srv/conda/envs/notebook\n",
      "GCS_PROXY_PORT_80_TCP_ADDR=10.3.244.175\n",
      "PROD_INGRESS_NGINX_CONTROLLER_PORT_80_TCP_PROTO=tcp\n",
      "HUB_SERVICE_PORT=8081\n",
      "PROD_GRAFANA_PORT_80_TCP_ADDR=10.3.249.119\n",
      "JUPYTERHUB_API_URL=http://hub:8081/hub/api\n",
      "SHLVL=1\n",
      "PROXY_PUBLIC_PORT_80_TCP_PROTO=tcp\n",
      "LANGUAGE=en_US.UTF-8\n",
      "PROD_PROMETHEUS_SERVER_PORT=tcp://10.3.241.169:80\n",
      "JUPYTERHUB_HOST=\n",
      "PROD_GRAFANA_SERVICE_HOST=10.3.249.119\n",
      "JPY_API_TOKEN=d2a7befec47f49cea7b2b99c800a1d09\n",
      "KUBERNETES_SERVICE_PORT=443\n",
      "PROD_INGRESS_NGINX_CONTROLLER_SERVICE_HOST=10.3.247.70\n",
      "BINDER_SERVICE_HOST=10.3.254.234\n",
      "PROD_INGRESS_NGINX_CONTROLLER_METRICS_PORT_9913_TCP_PORT=9913\n",
      "FEDERATION_REDIRECT_PORT_80_TCP=tcp://10.3.244.205:80\n",
      "REPO_DIR=/home/jovyan\n",
      "PROD_INGRESS_NGINX_CONTROLLER_METRICS_PORT_9913_TCP=tcp://10.3.249.104:9913\n",
      "MATOMO_SERVICE_HOST=10.3.248.239\n",
      "PROD_INGRESS_NGINX_DEFAULTBACKEND_PORT_80_TCP_ADDR=10.3.249.179\n",
      "JUPYTERHUB_OAUTH_CALLBACK_URL=/user/pflegende-betteninventurth-9zsxrokq/oauth_callback\n",
      "PROD_KUBE_STATE_METRICS_PORT_8080_TCP_PORT=8080\n",
      "REDIRECTOR_SERVICE_PORT=80\n",
      "PROD_INGRESS_NGINX_DEFAULTBACKEND_PORT_80_TCP_PROTO=tcp\n",
      "JUPYTERHUB_API_TOKEN=d2a7befec47f49cea7b2b99c800a1d09\n",
      "PATH=/srv/conda/envs/notebook/bin:/srv/conda/condabin:/home/jovyan/.local/bin:/home/jovyan/.local/bin:/srv/conda/envs/notebook/bin:/srv/conda/bin:/srv/npm/bin:/usr/local/sbin:/usr/local/bin:/usr/sbin:/usr/bin:/sbin:/bin\n",
      "PROD_KUBE_STATE_METRICS_PORT_8080_TCP=tcp://10.3.243.113:8080\n",
      "BINDER_PORT_80_TCP=tcp://10.3.254.234:80\n",
      "NPM_CONFIG_GLOBALCONFIG=/srv/npm/npmrc\n",
      "CONDA_DEFAULT_ENV=notebook\n",
      "PROD_INGRESS_NGINX_CONTROLLER_PORT_80_TCP_PORT=80\n",
      "PROD_GRAFANA_PORT=tcp://10.3.249.119:80\n",
      "PROD_PROMETHEUS_SERVER_SERVICE_PORT_HTTP=80\n",
      "PROD_INGRESS_NGINX_DEFAULTBACKEND_PORT_80_TCP=tcp://10.3.249.179:80\n",
      "PROD_INGRESS_NGINX_CONTROLLER_SERVICE_PORT_HTTP=80\n",
      "KUBERNETES_SERVICE_HOST=10.3.240.1\n",
      "PROD_PROMETHEUS_SERVER_PORT_80_TCP_ADDR=10.3.241.169\n",
      "GCS_PROXY_PORT_80_TCP=tcp://10.3.244.175:80\n",
      "JUPYTER_IMAGE_SPEC=gcr.io/binderhub-288415/r2d-staging-72d7634-pflegende-2dbetteninventurth-8373f7:95b33d5613ae3ca5378f8ea343d18aae9e945901\n",
      "BINDER_PERSISTENT_REQUEST=v2/gh/pflegende/BetteninventurTH/95b33d5613ae3ca5378f8ea343d18aae9e945901\n",
      "GIT_PAGER=cat\n",
      "_=/usr/bin/printenv\n"
     ]
    }
   ],
   "source": [
    "! printenv"
   ]
  },
  {
   "cell_type": "markdown",
   "metadata": {},
   "source": [
    "EOF"
   ]
  }
 ],
 "metadata": {
  "kernelspec": {
   "display_name": "Python 3",
   "language": "python",
   "name": "python3"
  },
  "language_info": {
   "codemirror_mode": {
    "name": "ipython",
    "version": 3
   },
   "file_extension": ".py",
   "mimetype": "text/x-python",
   "name": "python",
   "nbconvert_exporter": "python",
   "pygments_lexer": "ipython3",
   "version": "3.7.10"
  }
 },
 "nbformat": 4,
 "nbformat_minor": 4
}
