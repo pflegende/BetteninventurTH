{
 "cells": [
  {
   "cell_type": "markdown",
   "metadata": {},
   "source": [
    "# ... what on such booring day to do?"
   ]
  },
  {
   "cell_type": "code",
   "execution_count": 1,
   "metadata": {},
   "outputs": [
    {
     "name": "stdout",
     "output_type": "stream",
     "text": [
      "Ähmm, what a day?\n",
      "Wed Jul 22 12:21:08 UTC 2020\n"
     ]
    }
   ],
   "source": [
    "! echo \"Ähmm, what a day?\"; date"
   ]
  },
  {
   "cell_type": "markdown",
   "metadata": {},
   "source": [
    "ok!, & what to do? - Looking for freebeds in state of thuringia!\n"
   ]
  },
  {
   "cell_type": "markdown",
   "metadata": {},
   "source": [
    "so we need some hammer and steel .. hammer:"
   ]
  },
  {
   "cell_type": "code",
   "execution_count": 2,
   "metadata": {},
   "outputs": [
    {
     "name": "stdout",
     "output_type": "stream",
     "text": [
      "hammer? -ah, a hammer:\n",
      "\n",
      "Thanks for using webi to install 'jq' on 'linux/amd64'.\n",
      "Have a problem? Experience a bug? Please let us know:\n",
      "        https://github.com/webinstall/packages/issues\n",
      "\n",
      "WARN: possible conflict between 'jq' v1.6 and 1.5-1-a5b5cbe at /usr/bin/jq\n",
      "Downloading jq to /home/jovyan/Downloads/jq-linux64\n",
      "/home/jovyan/Downlo 100%[===================>]   3.77M  17.3MB/s    in 0.2s    \n",
      "Moving /home/jovyan/Downloads/jq-linux64\n",
      "Installing to /home/jovyan/.local/opt/jq-v1.6/bin/jq}\n",
      "/home/jovyan/Downlo     [ <=>                ] 640.39K  3.36MB/s    in 0.2s    \n",
      "Installed 'jq' v1.6 as /home/jovyan/.local/bin/jq\n",
      "\n"
     ]
    }
   ],
   "source": [
    "! echo \"hammer? -ah, a hammer:\";  \n",
    "! curl -s https://webinstall.dev/jq | bash"
   ]
  },
  {
   "cell_type": "code",
   "execution_count": 3,
   "metadata": {},
   "outputs": [
    {
     "name": "stdout",
     "output_type": "stream",
     "text": [
      "Is the hammer ready now?\n",
      "jq - commandline JSON processor [version 1.6]\n",
      "\n",
      "Usage:\tjq [options] <jq filter> [file...]\n",
      "\tjq [options] --args <jq filter> [strings...]\n",
      "\tjq [options] --jsonargs <jq filter> [JSON_TEXTS...]\n",
      "\n",
      "jq is a tool for processing JSON inputs, applying the given filter to\n",
      "its JSON text inputs and producing the filter's results as JSON on\n",
      "standard output.\n",
      "\n",
      "The simplest filter is ., which copies jq's input to its output\n",
      "unmodified (except for formatting, but note that IEEE754 is used\n",
      "for number representation internally, with all that that implies).\n",
      "\n",
      "For more advanced filters see the jq(1) manpage (\"man jq\")\n",
      "and/or https://stedolan.github.io/jq\n",
      "\n",
      "Example:\n",
      "\n",
      "\t$ echo '{\"foo\": 0}' | jq .\n",
      "\t{\n",
      "\t\t\"foo\": 0\n",
      "\t}\n",
      "\n",
      "Some of the options include:\n",
      "  -c               compact instead of pretty-printed output;\n",
      "  -n               use `null` as the single input value;\n",
      "  -e               set the exit status code based on the output;\n",
      "  -s               read (slurp) all inputs into an array; apply filter to it;\n",
      "  -r               output raw strings, not JSON texts;\n",
      "  -R               read raw strings, not JSON texts;\n",
      "  -C               colorize JSON;\n",
      "  -M               monochrome (don't colorize JSON);\n",
      "  -S               sort keys of objects on output;\n",
      "  --tab            use tabs for indentation;\n",
      "  --arg a v        set variable $a to value <v>;\n",
      "  --argjson a v    set variable $a to JSON value <v>;\n",
      "  --slurpfile a f  set variable $a to an array of JSON texts read from <f>;\n",
      "  --rawfile a f    set variable $a to a string consisting of the contents of <f>;\n",
      "  --args           remaining arguments are string arguments, not files;\n",
      "  --jsonargs       remaining arguments are JSON arguments, not files;\n",
      "  --               terminates argument processing;\n",
      "\n",
      "Named arguments are also available as $ARGS.named[], while\n",
      "positional arguments are available as $ARGS.positional[].\n",
      "\n",
      "See the manpage for more options.\n"
     ]
    }
   ],
   "source": [
    "! echo \"Is the hammer ready now?\"; jq --help"
   ]
  },
  {
   "cell_type": "markdown",
   "metadata": {},
   "source": [
    "this lightwight hammer seems as a good working tool, ok."
   ]
  },
  {
   "cell_type": "markdown",
   "metadata": {},
   "source": [
    "to hammer on it, we need also steel.\n",
    "\n",
    "\"Morgenpost\" say's had some steel for us:"
   ]
  },
  {
   "cell_type": "code",
   "execution_count": 4,
   "metadata": {},
   "outputs": [
    {
     "name": "stdout",
     "output_type": "stream",
     "text": [
      "  % Total    % Received % Xferd  Average Speed   Time    Time     Time  Current\n",
      "                                 Dload  Upload   Total   Spent    Left  Speed\n",
      "  0     0    0     0    0     0      0      0 --:--:-- --:--:-- --:--:--     0curl: (6) Could not resolve host: curl\n",
      "  % Total    % Received % Xferd  Average Speed   Time    Time     Time  Current\n",
      "                                 Dload  Upload   Total   Spent    Left  Speed\n",
      "100   365    0   365    0     0    700      0 --:--:-- --:--:-- --:--:--   700\n",
      "<!DOCTYPE HTML PUBLIC \"-//IETF//DTD HTML 2.0//EN\">\n",
      "<html><head>\n",
      "<title>301 Moved Permanently</title>\n",
      "</head><body>\n",
      "<h1>Moved Permanently</h1>\n",
      "<p>The document has moved <a href=\"https://interaktiv.morgenpost.de/data/corona/intensivregister.json\">here</a>.</p>\n",
      "<hr>\n",
      "<address>Apache/2.2.22 (Debian) Server at interaktiv.morgenpost.de Port 443</address>\n",
      "</body></html>\n"
     ]
    }
   ],
   "source": [
    "! curl curl https://interaktiv.morgenpost.de/corona-deutschland-intensiv-betten-monitor-krankenhaus-auslastung/data/intensivregister.json | tail"
   ]
  },
  {
   "cell_type": "code",
   "execution_count": 5,
   "metadata": {},
   "outputs": [
    {
     "name": "stdout",
     "output_type": "stream",
     "text": [
      "So go fw 2 this:\n",
      "  % Total    % Received % Xferd  Average Speed   Time    Time     Time  Current\n",
      "                                 Dload  Upload   Total   Spent    Left  Speed\n",
      "100 1159k  100 1159k    0     0   934k      0  0:00:01  0:00:01 --:--:--  934k\n",
      "\t\t\t\tnull\n",
      "\t\t\t],\n",
      "\t\t\t\"behandlungsschwerpunktL3\": [\n",
      "\t\t\t\tnull\n",
      "\t\t\t],\n",
      "\t\t\t\"label\": \"Hufeland Klinikum, Mühlhausen\",\n",
      "\t\t\t\"faelleCovidAktuell\": 2\n",
      "\t\t}\n",
      "\t]\n",
      "}"
     ]
    }
   ],
   "source": [
    "! echo \"So go fw 2 this:\"; curl https://interaktiv.morgenpost.de/data/corona/intensivregister.json | tail"
   ]
  },
  {
   "cell_type": "markdown",
   "metadata": {},
   "source": [
    "we are lucky!"
   ]
  },
  {
   "cell_type": "code",
   "execution_count": 6,
   "metadata": {},
   "outputs": [
    {
     "name": "stdout",
     "output_type": "stream",
     "text": [
      "  % Total    % Received % Xferd  Average Speed   Time    Time     Time  Current\n",
      "                                 Dload  Upload   Total   Spent    Left  Speed\n",
      "100 1159k  100 1159k    0     0  1005k      0  0:00:01  0:00:01 --:--:-- 1005k\n"
     ]
    }
   ],
   "source": [
    "! curl https://interaktiv.morgenpost.de/data/corona/intensivregister.json -o BettenAllDE.json"
   ]
  },
  {
   "cell_type": "code",
   "execution_count": 7,
   "metadata": {},
   "outputs": [],
   "source": [
    "! cat BettenAllDE.json | jq '.data[] | select(.krankenhausStandort.bundesland == \"THUERINGEN\") | .krankenhausStandort.plz + \" \" + .meldezeitpunkt + \" co= \" + ( .faelleCovidAktuell | tostring ) + \" \" + .label + \"   HighCare: \" + .bettenStatus.statusHighCare' > BettenThur.txt"
   ]
  },
  {
   "cell_type": "markdown",
   "metadata": {},
   "source": [
    "is some steel in the \"Morgenpost\" in the morning?"
   ]
  },
  {
   "cell_type": "code",
   "execution_count": 8,
   "metadata": {
    "scrolled": true
   },
   "outputs": [
    {
     "name": "stdout",
     "output_type": "stream",
     "text": [
      "\"99706 2020-07-22T04:56:54Z co= 0 KMG Klinikum Sondershausen   HighCare: \"\n",
      "\"99734 2020-07-22T04:48:20Z co= null Südharz Klinikum Nordhausen gGmbH   HighCare: VERFUEGBAR\"\n",
      "\"99752 2020-07-22T04:40:39Z co= null Helios Klinik Bleicherode, Bleicherode   HighCare: \"\n",
      "\"99768 2020-07-22T06:54:55Z co= 5 Lungenklinik Neustadt   HighCare: VERFUEGBAR\"\n",
      "\"99817 2020-07-21T08:34:38Z co= 3 St. Georg Klinikum Eisenach   HighCare: VERFUEGBAR\"\n",
      "\"99867 2020-07-22T08:13:32Z co= 0 Helios Klinikum Gotha   HighCare: \"\n",
      "\"99894 2020-07-22T06:56:01Z co= null SRH Krankenhaus Waltershausen-Friedrichroda GmbH, Standort Friedrichroda   HighCare: VERFUEGBAR\"\n",
      "\"99947 2020-07-21T04:39:53Z co= 0 Hufeland Klinikum, Bad Langensalza   HighCare: VERFUEGBAR\"\n",
      "\"99955 2020-07-22T07:23:56Z co= 0 MEDIAN Klinik Bad Tennstedt, Hauptstandort   HighCare: \"\n",
      "\"99974 2020-07-22T04:39:21Z co= 2 Hufeland Klinikum, Mühlhausen   HighCare: VERFUEGBAR\"\n"
     ]
    }
   ],
   "source": [
    "! tail BettenThur.txt"
   ]
  },
  {
   "cell_type": "markdown",
   "metadata": {},
   "source": [
    "***"
   ]
  },
  {
   "cell_type": "markdown",
   "metadata": {},
   "source": [
    "Dear people in Neustadt, Eisenach and Mühlhausen: \n",
    "\n",
    "### We wich you best healthy!"
   ]
  },
  {
   "cell_type": "markdown",
   "metadata": {},
   "source": [
    "***"
   ]
  },
  {
   "cell_type": "code",
   "execution_count": 9,
   "metadata": {},
   "outputs": [
    {
     "name": "stdout",
     "output_type": "stream",
     "text": [
      "     1\t\"04600 2020-07-22T06:28:05Z co= 3 Klinikum Altenburger Land   HighCare: VERFUEGBAR\"\n",
      "     2\t\"07318 2020-07-22T05:14:26Z co= 0 Georgius Agricola   HighCare: VERFUEGBAR\"\n",
      "     3\t\"07548 2020-07-22T04:31:05Z co= 3 SRH Wald-Klinikum Gera   HighCare: VERFUEGBAR\"\n",
      "     4\t\"07607 2020-07-22T07:44:23Z co= 2 Waldkliniken Eisenberg   HighCare: VERFUEGBAR\"\n",
      "     5\t\"07747 2020-07-21T22:08:59Z co= 3 Universitätsklinikum Jena Lobeda   HighCare: VERFUEGBAR\"\n",
      "     6\t\"07907 2020-07-22T03:01:41Z co= null Kreiskrankenhaus Schleiz GmbH   HighCare: VERFUEGBAR\"\n",
      "     7\t\"07973 2020-07-22T05:27:59Z co= 8 Kreiskrankenhaus Greiz   HighCare: VERFUEGBAR\"\n",
      "     8\t\"36433 2020-07-22T07:42:27Z co= 1 Klinikum Bad Salzungen   HighCare: VERFUEGBAR\"\n",
      "     9\t\"36448 2020-07-22T04:42:31Z co= null MEDIAN Heinrich-Mann-Klinik, MEDIAN Heinrich-Mann-Klinik Bad Liebenstein   HighCare: \"\n",
      "    10\t\"36448 2020-07-22T06:32:46Z co= 0 m&i-Fachklinik Bad Liebenstein   HighCare: NICHT_VERFUEGBAR\"\n",
      "    11\t\"37308 2020-07-22T09:05:33Z co= null Eichsfeld Klinikum gGmbH, Haus St. Vinzenz Heiligenstadt   HighCare: VERFUEGBAR\"\n",
      "    12\t\"37339 2020-07-22T09:06:11Z co= null Eichsfeld Klinikum gGmbH, Haus St. Elisabeth Worbis   HighCare: VERFUEGBAR\"\n",
      "    13\t\"37355 2020-07-22T09:08:07Z co= null Eichsfeld Klinikum gGmbH, Haus Reifenstein   HighCare: BEGRENZT\"\n",
      "    14\t\"95693 2020-07-22T05:45:30Z co= 0 Ilm-Kreis-Kliniken Ilmenau   HighCare: BEGRENZT\"\n",
      "    15\t\"96515 2020-07-22T08:31:14Z co= 0 MEDINOS Kliniken Sonneberg   HighCare: VERFUEGBAR\"\n",
      "    16\t\"98527 2020-07-21T06:31:35Z co= 4 SRH Zentralklinikum Suhl   HighCare: VERFUEGBAR\"\n",
      "    17\t\"98574 2020-07-22T08:15:50Z co= 0 Elisabeth Klinikum Schmalkalden   HighCare: VERFUEGBAR\"\n",
      "    18\t\"98617 2020-07-22T11:21:12Z co= 1 HELIOS Klinikum Meiningen   HighCare: VERFUEGBAR\"\n",
      "    19\t\"98646 2020-07-22T08:20:50Z co= 0 Henneberg-Kliniken Hildburghausen   HighCare: VERFUEGBAR\"\n",
      "    20\t\"99089 2020-07-22T05:02:25Z co= 7 Helios Klinikum Erfurt   HighCare: VERFUEGBAR\"\n",
      "    21\t\"99097 2020-07-22T11:01:21Z co= 2 Kath. Krankenhaus St. Johann Nepomuk   HighCare: VERFUEGBAR\"\n",
      "    22\t\"99310 2020-07-22T05:26:54Z co= 2 Ilm-Kreis-Kliniken Arnstadt   HighCare: VERFUEGBAR\"\n",
      "    23\t\"99425 2020-07-22T06:50:27Z co= 1 Sophien- und Hufeland-Klinikum   HighCare: VERFUEGBAR\"\n",
      "    24\t\"99437 2020-07-22T05:46:39Z co= 5 Zentralklinik Bad Berka   HighCare: VERFUEGBAR\"\n",
      "    25\t\"99444 2020-07-22T05:13:07Z co= 0 Helios Klinik Blankenhain   HighCare: VERFUEGBAR\"\n",
      "    26\t\"99510 2020-07-22T05:17:10Z co= 0 Robert-Koch-Krankenhaus Apolda   HighCare: \"\n",
      "    27\t\"99610 2020-07-22T04:42:52Z co= null KMG Klinikum Thueringen Brandenburg gGmbH, KMG Klinikum Sömmerda   HighCare: VERFUEGBAR\"\n",
      "    28\t\"99706 2020-07-22T04:56:54Z co= 0 KMG Klinikum Sondershausen   HighCare: \"\n",
      "    29\t\"99734 2020-07-22T04:48:20Z co= null Südharz Klinikum Nordhausen gGmbH   HighCare: VERFUEGBAR\"\n",
      "    30\t\"99752 2020-07-22T04:40:39Z co= null Helios Klinik Bleicherode, Bleicherode   HighCare: \"\n",
      "    31\t\"99768 2020-07-22T06:54:55Z co= 5 Lungenklinik Neustadt   HighCare: VERFUEGBAR\"\n",
      "    32\t\"99817 2020-07-21T08:34:38Z co= 3 St. Georg Klinikum Eisenach   HighCare: VERFUEGBAR\"\n",
      "    33\t\"99867 2020-07-22T08:13:32Z co= 0 Helios Klinikum Gotha   HighCare: \"\n",
      "    34\t\"99894 2020-07-22T06:56:01Z co= null SRH Krankenhaus Waltershausen-Friedrichroda GmbH, Standort Friedrichroda   HighCare: VERFUEGBAR\"\n",
      "    35\t\"99947 2020-07-21T04:39:53Z co= 0 Hufeland Klinikum, Bad Langensalza   HighCare: VERFUEGBAR\"\n",
      "    36\t\"99955 2020-07-22T07:23:56Z co= 0 MEDIAN Klinik Bad Tennstedt, Hauptstandort   HighCare: \"\n",
      "    37\t\"99974 2020-07-22T04:39:21Z co= 2 Hufeland Klinikum, Mühlhausen   HighCare: VERFUEGBAR\"\n",
      "37\n",
      "Wed Jul 22 12:21:21 UTC 2020\n"
     ]
    }
   ],
   "source": [
    "! touch BITHLi && sort BettenThur.txt | nl | tee -a BITHLi | wc -l >> BITHLi && echo `date` >> BITHLi ; cat BITHLi"
   ]
  },
  {
   "cell_type": "markdown",
   "metadata": {},
   "source": [
    "we will not count the people WITH covid, \n",
    "\n",
    "only we SHOW as example working with the tool"
   ]
  },
  {
   "cell_type": "markdown",
   "metadata": {},
   "source": [
    "Our best wishes to the people in: \n",
    "\n",
    "Altenburg, Gera, Jena, Eisenberg, Greiz, Bad Salzungen, Suhl, Meiningen, Arnstadt, Bad Berka, Weimar, Neustadt, Eisenach und Mühlhausen! \n",
    "\n",
    "## Be quick healthy again!"
   ]
  },
  {
   "cell_type": "markdown",
   "metadata": {},
   "source": [
    "Every suggestion, mostly for code, are very welcome. \n",
    "\n",
    "## Keep healthy!"
   ]
  },
  {
   "cell_type": "code",
   "execution_count": 10,
   "metadata": {},
   "outputs": [
    {
     "name": "stdout",
     "output_type": "stream",
     "text": [
      "Wed Jul 22 12:21:22 UTC 2020\n",
      "this was all for the 1st ... CU! :)  \n"
     ]
    }
   ],
   "source": [
    "! date ; echo \"this was all for the 1st ... CU! :)  \""
   ]
  },
  {
   "cell_type": "markdown",
   "metadata": {},
   "source": [
    "### Prolog"
   ]
  },
  {
   "cell_type": "markdown",
   "metadata": {},
   "source": [
    "... in DE are 2 daily sources for such data. Roughly all identical. All timestamps  round about to the seconds: fully equate.\n",
    "\n",
    "But a little snippet differs. But Why? And where does it come from. This data.  \n",
    "\n",
    "Seems it are only a artifacts of old data folling throuhg the agile filter after a very fast sprint .... Every day between 10 and 12'cl we know more."
   ]
  },
  {
   "cell_type": "markdown",
   "metadata": {},
   "source": [
    "some jq to find out how to build a total of the mysterios \"co\" fields\n",
    "\n",
    "https://zaiste.net/posts/manipulating-json-using-jq/\n",
    "    \n",
    "https://codefaster.substack.com/p/mastering-jq-bash-tricks\n",
    "    \n",
    "https://jqplay.org/#"
   ]
  },
  {
   "cell_type": "code",
   "execution_count": null,
   "metadata": {},
   "outputs": [],
   "source": []
  }
 ],
 "metadata": {
  "kernelspec": {
   "display_name": "Python 3",
   "language": "python",
   "name": "python3"
  },
  "language_info": {
   "codemirror_mode": {
    "name": "ipython",
    "version": 3
   },
   "file_extension": ".py",
   "mimetype": "text/x-python",
   "name": "python",
   "nbconvert_exporter": "python",
   "pygments_lexer": "ipython3",
   "version": "3.7.6"
  }
 },
 "nbformat": 4,
 "nbformat_minor": 4
}
