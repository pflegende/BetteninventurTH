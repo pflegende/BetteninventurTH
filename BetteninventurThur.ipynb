{
 "cells": [
  {
   "cell_type": "markdown",
   "metadata": {},
   "source": [
    "# ... what on such booring day to do?"
   ]
  },
  {
   "cell_type": "code",
   "execution_count": 1,
   "metadata": {},
   "outputs": [
    {
     "name": "stdout",
     "output_type": "stream",
     "text": [
      "Ähmm, what a day?\r\n",
      "Tue Jul 21 07:56:38 UTC 2020\r\n"
     ]
    }
   ],
   "source": [
    "! echo \"Ähmm, what a day?\"; date"
   ]
  },
  {
   "cell_type": "markdown",
   "metadata": {},
   "source": [
    "ok!, & what to do? - Looking for freebeds in state of thuringia!\n"
   ]
  },
  {
   "cell_type": "markdown",
   "metadata": {},
   "source": [
    "so we need some hammer and steel .. hammer:"
   ]
  },
  {
   "cell_type": "code",
   "execution_count": 17,
   "metadata": {},
   "outputs": [
    {
     "name": "stdout",
     "output_type": "stream",
     "text": [
      "hammer? -ah, a hammer:\n",
      "\n",
      "Thanks for using webi to install 'jq' on 'linux/amd64'.\n",
      "Have a problem? Experience a bug? Please let us know:\n",
      "        https://github.com/webinstall/packages/issues\n",
      "\n",
      "'jq' v1.6 already installed at /home/jovyan/.local/bin/jq\n"
     ]
    }
   ],
   "source": [
    "! echo \"hammer? -ah, a hammer:\";  \n",
    "! curl -s https://webinstall.dev/jq | bash"
   ]
  },
  {
   "cell_type": "code",
   "execution_count": 4,
   "metadata": {},
   "outputs": [
    {
     "name": "stdout",
     "output_type": "stream",
     "text": [
      "Is the hammer ready now?\r\n",
      "jq - commandline JSON processor [version 1.6]\r\n",
      "\r\n",
      "Usage:\tjq [options] <jq filter> [file...]\r\n",
      "\tjq [options] --args <jq filter> [strings...]\r\n",
      "\tjq [options] --jsonargs <jq filter> [JSON_TEXTS...]\r\n",
      "\r\n",
      "jq is a tool for processing JSON inputs, applying the given filter to\r\n",
      "its JSON text inputs and producing the filter's results as JSON on\r\n",
      "standard output.\r\n",
      "\r\n",
      "The simplest filter is ., which copies jq's input to its output\r\n",
      "unmodified (except for formatting, but note that IEEE754 is used\r\n",
      "for number representation internally, with all that that implies).\r\n",
      "\r\n",
      "For more advanced filters see the jq(1) manpage (\"man jq\")\r\n",
      "and/or https://stedolan.github.io/jq\r\n",
      "\r\n",
      "Example:\r\n",
      "\r\n",
      "\t$ echo '{\"foo\": 0}' | jq .\r\n",
      "\t{\r\n",
      "\t\t\"foo\": 0\r\n",
      "\t}\r\n",
      "\r\n",
      "Some of the options include:\r\n",
      "  -c               compact instead of pretty-printed output;\r\n",
      "  -n               use `null` as the single input value;\r\n",
      "  -e               set the exit status code based on the output;\r\n",
      "  -s               read (slurp) all inputs into an array; apply filter to it;\r\n",
      "  -r               output raw strings, not JSON texts;\r\n",
      "  -R               read raw strings, not JSON texts;\r\n",
      "  -C               colorize JSON;\r\n",
      "  -M               monochrome (don't colorize JSON);\r\n",
      "  -S               sort keys of objects on output;\r\n",
      "  --tab            use tabs for indentation;\r\n",
      "  --arg a v        set variable $a to value <v>;\r\n",
      "  --argjson a v    set variable $a to JSON value <v>;\r\n",
      "  --slurpfile a f  set variable $a to an array of JSON texts read from <f>;\r\n",
      "  --rawfile a f    set variable $a to a string consisting of the contents of <f>;\r\n",
      "  --args           remaining arguments are string arguments, not files;\r\n",
      "  --jsonargs       remaining arguments are JSON arguments, not files;\r\n",
      "  --               terminates argument processing;\r\n",
      "\r\n",
      "Named arguments are also available as $ARGS.named[], while\r\n",
      "positional arguments are available as $ARGS.positional[].\r\n",
      "\r\n",
      "See the manpage for more options.\r\n"
     ]
    }
   ],
   "source": [
    "! echo \"Is the hammer ready now?\"; jq --help"
   ]
  },
  {
   "cell_type": "markdown",
   "metadata": {},
   "source": [
    "this lightwight hammer seems as a good working tool, ok."
   ]
  },
  {
   "cell_type": "markdown",
   "metadata": {},
   "source": [
    "to hammer on it, we need also steel.\n",
    "\n",
    "\"Morgenpost\" say's had some steel for us:"
   ]
  },
  {
   "cell_type": "code",
   "execution_count": 18,
   "metadata": {},
   "outputs": [
    {
     "name": "stdout",
     "output_type": "stream",
     "text": [
      "  % Total    % Received % Xferd  Average Speed   Time    Time     Time  Current\n",
      "                                 Dload  Upload   Total   Spent    Left  Speed\n",
      "  0     0    0     0    0     0      0      0 --:--:-- --:--:-- --:--:--     0curl: (6) Could not resolve host: curl\n",
      "100   365    0   365    0     0    499      0 --:--:-- --:--:-- --:--:--  118k\n",
      "<!DOCTYPE HTML PUBLIC \"-//IETF//DTD HTML 2.0//EN\">\n",
      "<html><head>\n",
      "<title>301 Moved Permanently</title>\n",
      "</head><body>\n",
      "<h1>Moved Permanently</h1>\n",
      "<p>The document has moved <a href=\"https://interaktiv.morgenpost.de/data/corona/intensivregister.json\">here</a>.</p>\n",
      "<hr>\n",
      "<address>Apache/2.2.22 (Debian) Server at interaktiv.morgenpost.de Port 443</address>\n",
      "</body></html>\n"
     ]
    }
   ],
   "source": [
    "! curl curl https://interaktiv.morgenpost.de/corona-deutschland-intensiv-betten-monitor-krankenhaus-auslastung/data/intensivregister.json | tail"
   ]
  },
  {
   "cell_type": "code",
   "execution_count": 6,
   "metadata": {},
   "outputs": [
    {
     "name": "stdout",
     "output_type": "stream",
     "text": [
      "So go fw 2 this:\n",
      "  % Total    % Received % Xferd  Average Speed   Time    Time     Time  Current\n",
      "                                 Dload  Upload   Total   Spent    Left  Speed\n",
      "100 1152k  100 1152k    0     0   921k      0  0:00:01  0:00:01 --:--:--  922k\n",
      "\t\t\t\tnull\n",
      "\t\t\t],\n",
      "\t\t\t\"behandlungsschwerpunktL3\": [\n",
      "\t\t\t\tnull\n",
      "\t\t\t],\n",
      "\t\t\t\"label\": \"Hufeland Klinikum, Mühlhausen\",\n",
      "\t\t\t\"faelleCovidAktuell\": 2\n",
      "\t\t}\n",
      "\t]\n",
      "}"
     ]
    }
   ],
   "source": [
    "! echo \"So go fw 2 this:\"; curl https://interaktiv.morgenpost.de/data/corona/intensivregister.json | tail"
   ]
  },
  {
   "cell_type": "markdown",
   "metadata": {},
   "source": [
    "we are lucky!"
   ]
  },
  {
   "cell_type": "code",
   "execution_count": 8,
   "metadata": {},
   "outputs": [
    {
     "name": "stdout",
     "output_type": "stream",
     "text": [
      "  % Total    % Received % Xferd  Average Speed   Time    Time     Time  Current\n",
      "                                 Dload  Upload   Total   Spent    Left  Speed\n",
      "100 1152k  100 1152k    0     0   863k      0  0:00:01  0:00:01 --:--:--  863k\n"
     ]
    }
   ],
   "source": [
    "! curl https://interaktiv.morgenpost.de/data/corona/intensivregister.json -o BettenAllDE.json"
   ]
  },
  {
   "cell_type": "code",
   "execution_count": 9,
   "metadata": {},
   "outputs": [],
   "source": [
    "! cat BettenAllDE.json | jq '.data[] | select(.krankenhausStandort.bundesland == \"THUERINGEN\") | .krankenhausStandort.plz + \" \" + .meldezeitpunkt + \" co= \" + ( .faelleCovidAktuell | tostring ) + \" \" + .label + \"   HighCare: \" + .bettenStatus.statusHighCare' > BettenThur.txt"
   ]
  },
  {
   "cell_type": "markdown",
   "metadata": {},
   "source": [
    "is some steel in the \"Morgenpost\" in the morning?"
   ]
  },
  {
   "cell_type": "code",
   "execution_count": 10,
   "metadata": {
    "scrolled": true
   },
   "outputs": [
    {
     "name": "stdout",
     "output_type": "stream",
     "text": [
      "\"99706 2020-07-21T06:15:56Z co= 0 KMG Klinikum Sondershausen   HighCare: \"\r\n",
      "\"99734 2020-07-21T04:50:41Z co= null Südharz Klinikum Nordhausen gGmbH   HighCare: VERFUEGBAR\"\r\n",
      "\"99752 2020-07-21T05:25:44Z co= null Helios Klinik Bleicherode, Bleicherode   HighCare: \"\r\n",
      "\"99768 2020-07-21T06:53:06Z co= 5 Lungenklinik Neustadt   HighCare: VERFUEGBAR\"\r\n",
      "\"99817 2020-07-20T05:20:54Z co= 3 St. Georg Klinikum Eisenach   HighCare: VERFUEGBAR\"\r\n",
      "\"99867 2020-07-21T04:28:13Z co= 0 Helios Klinikum Gotha   HighCare: \"\r\n",
      "\"99894 2020-07-21T06:59:16Z co= null SRH Krankenhaus Waltershausen-Friedrichroda GmbH, Standort Friedrichroda   HighCare: VERFUEGBAR\"\r\n",
      "\"99947 2020-07-21T04:39:53Z co= 0 Hufeland Klinikum, Bad Langensalza   HighCare: VERFUEGBAR\"\r\n",
      "\"99955 2020-07-21T07:45:54Z co= 0 MEDIAN Klinik Bad Tennstedt, Hauptstandort   HighCare: \"\r\n",
      "\"99974 2020-07-21T04:37:14Z co= 2 Hufeland Klinikum, Mühlhausen   HighCare: VERFUEGBAR\"\r\n"
     ]
    }
   ],
   "source": [
    "! tail BettenThur.txt"
   ]
  },
  {
   "cell_type": "markdown",
   "metadata": {},
   "source": [
    "***"
   ]
  },
  {
   "cell_type": "markdown",
   "metadata": {},
   "source": [
    "Dear people in Neustadt, Eisenach and Mühlhausen: \n",
    "\n",
    "### We wich you best healthy!"
   ]
  },
  {
   "cell_type": "markdown",
   "metadata": {},
   "source": [
    "***"
   ]
  },
  {
   "cell_type": "code",
   "execution_count": 12,
   "metadata": {},
   "outputs": [
    {
     "name": "stdout",
     "output_type": "stream",
     "text": [
      "0\r\n",
      "Tue Jul 21 07:56:07 UTC 2020\r\n",
      "     1\t\"04600 2020-07-21T05:46:22Z co= 3 Klinikum Altenburger Land   HighCare: VERFUEGBAR\"\r\n",
      "     2\t\"07318 2020-07-21T05:15:15Z co= 0 Georgius Agricola   HighCare: VERFUEGBAR\"\r\n",
      "     3\t\"07548 2020-07-20T06:00:28Z co= 3 SRH Wald-Klinikum Gera   HighCare: VERFUEGBAR\"\r\n",
      "     4\t\"07607 2020-07-21T05:22:02Z co= 2 Waldkliniken Eisenberg   HighCare: VERFUEGBAR\"\r\n",
      "     5\t\"07747 2020-07-21T04:45:12Z co= 3 Universitätsklinikum Jena Lobeda   HighCare: VERFUEGBAR\"\r\n",
      "     6\t\"07907 2020-07-20T04:58:49Z co= null Kreiskrankenhaus Schleiz GmbH   HighCare: VERFUEGBAR\"\r\n",
      "     7\t\"07973 2020-07-20T05:28:54Z co= 8 Kreiskrankenhaus Greiz   HighCare: VERFUEGBAR\"\r\n",
      "     8\t\"36433 2020-07-21T05:46:25Z co= 1 Klinikum Bad Salzungen   HighCare: VERFUEGBAR\"\r\n",
      "     9\t\"36448 2020-07-21T06:12:08Z co= null MEDIAN Heinrich-Mann-Klinik, MEDIAN Heinrich-Mann-Klinik Bad Liebenstein   HighCare: \"\r\n",
      "    10\t\"36448 2020-07-21T06:29:49Z co= 0 m&i-Fachklinik Bad Liebenstein   HighCare: NICHT_VERFUEGBAR\"\r\n",
      "    11\t\"37308 2020-07-20T07:48:18Z co= null Eichsfeld Klinikum gGmbH, Haus St. Vinzenz Heiligenstadt   HighCare: BEGRENZT\"\r\n",
      "    12\t\"37339 2020-07-20T07:49:36Z co= null Eichsfeld Klinikum gGmbH, Haus St. Elisabeth Worbis   HighCare: VERFUEGBAR\"\r\n",
      "    13\t\"37355 2020-07-21T06:36:40Z co= null Eichsfeld Klinikum gGmbH, Haus Reifenstein   HighCare: VERFUEGBAR\"\r\n",
      "    14\t\"95693 2020-07-21T05:49:35Z co= 0 Ilm-Kreis-Kliniken Ilmenau   HighCare: NICHT_VERFUEGBAR\"\r\n",
      "    15\t\"96515 2020-07-21T07:17:53Z co= 0 MEDINOS Kliniken Sonneberg   HighCare: VERFUEGBAR\"\r\n",
      "    16\t\"98527 2020-07-21T05:32:41Z co= 4 SRH Zentralklinikum Suhl   HighCare: VERFUEGBAR\"\r\n",
      "    17\t\"98574 2020-07-21T06:50:38Z co= 0 Elisabeth Klinikum Schmalkalden   HighCare: VERFUEGBAR\"\r\n",
      "    18\t\"98617 2020-07-21T04:44:33Z co= 1 HELIOS Klinikum Meiningen   HighCare: VERFUEGBAR\"\r\n",
      "    19\t\"98646 2020-07-21T06:34:22Z co= 0 Henneberg-Kliniken Hildburghausen   HighCare: VERFUEGBAR\"\r\n",
      "    20\t\"99089 2020-07-21T05:02:54Z co= 7 Helios Klinikum Erfurt   HighCare: VERFUEGBAR\"\r\n",
      "    21\t\"99097 2020-07-21T07:37:56Z co= 2 Kath. Krankenhaus St. Johann Nepomuk   HighCare: VERFUEGBAR\"\r\n",
      "    22\t\"99310 2020-07-21T05:45:42Z co= 2 Ilm-Kreis-Kliniken Arnstadt   HighCare: VERFUEGBAR\"\r\n",
      "    23\t\"99425 2020-07-21T06:45:01Z co= 1 Sophien- und Hufeland-Klinikum   HighCare: BEGRENZT\"\r\n",
      "    24\t\"99437 2020-07-21T05:52:03Z co= 5 Zentralklinik Bad Berka   HighCare: VERFUEGBAR\"\r\n",
      "    25\t\"99444 2020-07-21T05:23:43Z co= 0 Helios Klinik Blankenhain   HighCare: VERFUEGBAR\"\r\n",
      "    26\t\"99510 2020-07-21T05:14:18Z co= 0 Robert-Koch-Krankenhaus Apolda   HighCare: VERFUEGBAR\"\r\n",
      "    27\t\"99610 2020-07-21T06:25:50Z co= null KMG Klinikum Thueringen Brandenburg gGmbH, KMG Klinikum Sömmerda   HighCare: VERFUEGBAR\"\r\n",
      "    28\t\"99706 2020-07-21T06:15:56Z co= 0 KMG Klinikum Sondershausen   HighCare: \"\r\n",
      "    29\t\"99734 2020-07-21T04:50:41Z co= null Südharz Klinikum Nordhausen gGmbH   HighCare: VERFUEGBAR\"\r\n",
      "    30\t\"99752 2020-07-21T05:25:44Z co= null Helios Klinik Bleicherode, Bleicherode   HighCare: \"\r\n",
      "    31\t\"99768 2020-07-21T06:53:06Z co= 5 Lungenklinik Neustadt   HighCare: VERFUEGBAR\"\r\n",
      "    32\t\"99817 2020-07-20T05:20:54Z co= 3 St. Georg Klinikum Eisenach   HighCare: VERFUEGBAR\"\r\n",
      "    33\t\"99867 2020-07-21T04:28:13Z co= 0 Helios Klinikum Gotha   HighCare: \"\r\n",
      "    34\t\"99894 2020-07-21T06:59:16Z co= null SRH Krankenhaus Waltershausen-Friedrichroda GmbH, Standort Friedrichroda   HighCare: VERFUEGBAR\"\r\n",
      "    35\t\"99947 2020-07-21T04:39:53Z co= 0 Hufeland Klinikum, Bad Langensalza   HighCare: VERFUEGBAR\"\r\n",
      "    36\t\"99955 2020-07-21T07:45:54Z co= 0 MEDIAN Klinik Bad Tennstedt, Hauptstandort   HighCare: \"\r\n",
      "    37\t\"99974 2020-07-21T04:37:14Z co= 2 Hufeland Klinikum, Mühlhausen   HighCare: VERFUEGBAR\"\r\n",
      "37\r\n",
      "Tue Jul 21 07:56:53 UTC 2020\r\n"
     ]
    }
   ],
   "source": [
    "! touch BITHLi && sort BettenThur.txt | nl | tee -a BITHLi | wc -l >> BITHLi && echo `date` >> BITHLi ; cat BITHLi"
   ]
  },
  {
   "cell_type": "markdown",
   "metadata": {},
   "source": [
    "we will not count the people WITH covid, \n",
    "\n",
    "only we SHOW as example working with the tool"
   ]
  },
  {
   "cell_type": "markdown",
   "metadata": {},
   "source": [
    "Our best wishes to the people in: \n",
    "\n",
    "Altenburg, Gera, Jena, Eisenberg, Greiz, Bad Salzungen, Suhl, Meiningen, Arnstadt, Bad Berka, Weimar, Neustadt, Eisenach und Mühlhausen! \n",
    "\n",
    "## Be quick healthy again!"
   ]
  },
  {
   "cell_type": "markdown",
   "metadata": {},
   "source": [
    "Every suggestion, mostly for code, are very welcome. \n",
    "\n",
    "## Keep healthy!"
   ]
  },
  {
   "cell_type": "code",
   "execution_count": 16,
   "metadata": {},
   "outputs": [
    {
     "name": "stdout",
     "output_type": "stream",
     "text": [
      "Tue Jul 21 07:56:54 UTC 2020\r\n",
      "this was all for the 1st ... CU! :)  \r\n"
     ]
    }
   ],
   "source": [
    "! date ; echo \"this was all for the 1st ... CU! :)  \""
   ]
  },
  {
   "cell_type": "code",
   "execution_count": null,
   "metadata": {},
   "outputs": [],
   "source": []
  }
 ],
 "metadata": {
  "kernelspec": {
   "display_name": "Python 3",
   "language": "python",
   "name": "python3"
  },
  "language_info": {
   "codemirror_mode": {
    "name": "ipython",
    "version": 3
   },
   "file_extension": ".py",
   "mimetype": "text/x-python",
   "name": "python",
   "nbconvert_exporter": "python",
   "pygments_lexer": "ipython3",
   "version": "3.7.6"
  }
 },
 "nbformat": 4,
 "nbformat_minor": 4
}
