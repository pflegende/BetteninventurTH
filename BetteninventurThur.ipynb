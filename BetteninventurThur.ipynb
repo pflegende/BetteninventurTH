{
 "cells": [
  {
   "cell_type": "code",
   "execution_count": 1,
   "metadata": {},
   "outputs": [
    {
     "name": "stdout",
     "output_type": "stream",
     "text": [
      "what on such booring day to do?\r\n"
     ]
    }
   ],
   "source": [
    "! echo \"what on such booring day to do?\""
   ]
  },
  {
   "cell_type": "code",
   "execution_count": 2,
   "metadata": {},
   "outputs": [
    {
     "name": "stdout",
     "output_type": "stream",
     "text": [
      "Ähmm, what a day?\r\n",
      "Mon Jul 20 22:53:00 UTC 2020\r\n"
     ]
    }
   ],
   "source": [
    "! echo \"Ähmm, what a day?\"; date"
   ]
  },
  {
   "cell_type": "code",
   "execution_count": 22,
   "metadata": {},
   "outputs": [
    {
     "name": "stdout",
     "output_type": "stream",
     "text": [
      "ok!, & what to do? - Looking for freebeds in state of thuringia!\r\n"
     ]
    }
   ],
   "source": [
    "! echo \"ok!, & what to do? - Looking for freebeds in state of thuringia!\""
   ]
  },
  {
   "cell_type": "code",
   "execution_count": 4,
   "metadata": {},
   "outputs": [
    {
     "name": "stdout",
     "output_type": "stream",
     "text": [
      " so we need some hammer and steel .. hammer:\n",
      "\n",
      "Thanks for using webi to install 'jq' on 'linux/amd64'.\n",
      "Have a problem? Experience a bug? Please let us know:\n",
      "        https://github.com/webinstall/packages/issues\n",
      "\n",
      "Downloading jq to /home/jovyan/Downloads/jq-linux64\n",
      "/home/jovyan/Downlo 100%[===================>]   3.77M  4.91MB/s    in 0.8s    \n",
      "Moving /home/jovyan/Downloads/jq-linux64\n",
      "Installing to /home/jovyan/.local/opt/jq-v1.6/bin/jq}\n",
      "/home/jovyan/Downlo     [   <=>              ] 640.39K   769KB/s    in 0.8s    \n",
      "Installed 'jq' v1.6 as /home/jovyan/.local/bin/jq\n",
      "\n"
     ]
    }
   ],
   "source": [
    "! echo \" so we need some hammer and steel .. hammer:\";  curl -s https://webinstall.dev/jq | bash"
   ]
  },
  {
   "cell_type": "code",
   "execution_count": 6,
   "metadata": {},
   "outputs": [
    {
     "name": "stdout",
     "output_type": "stream",
     "text": [
      "Is the hammer ready now?\r\n",
      "jq - commandline JSON processor [version 1.6]\r\n",
      "\r\n",
      "Usage:\tjq [options] <jq filter> [file...]\r\n",
      "\tjq [options] --args <jq filter> [strings...]\r\n",
      "\tjq [options] --jsonargs <jq filter> [JSON_TEXTS...]\r\n",
      "\r\n",
      "jq is a tool for processing JSON inputs, applying the given filter to\r\n",
      "its JSON text inputs and producing the filter's results as JSON on\r\n",
      "standard output.\r\n",
      "\r\n",
      "The simplest filter is ., which copies jq's input to its output\r\n",
      "unmodified (except for formatting, but note that IEEE754 is used\r\n",
      "for number representation internally, with all that that implies).\r\n",
      "\r\n",
      "For more advanced filters see the jq(1) manpage (\"man jq\")\r\n",
      "and/or https://stedolan.github.io/jq\r\n",
      "\r\n",
      "Example:\r\n",
      "\r\n",
      "\t$ echo '{\"foo\": 0}' | jq .\r\n",
      "\t{\r\n",
      "\t\t\"foo\": 0\r\n",
      "\t}\r\n",
      "\r\n",
      "Some of the options include:\r\n",
      "  -c               compact instead of pretty-printed output;\r\n",
      "  -n               use `null` as the single input value;\r\n",
      "  -e               set the exit status code based on the output;\r\n",
      "  -s               read (slurp) all inputs into an array; apply filter to it;\r\n",
      "  -r               output raw strings, not JSON texts;\r\n",
      "  -R               read raw strings, not JSON texts;\r\n",
      "  -C               colorize JSON;\r\n",
      "  -M               monochrome (don't colorize JSON);\r\n",
      "  -S               sort keys of objects on output;\r\n",
      "  --tab            use tabs for indentation;\r\n",
      "  --arg a v        set variable $a to value <v>;\r\n",
      "  --argjson a v    set variable $a to JSON value <v>;\r\n",
      "  --slurpfile a f  set variable $a to an array of JSON texts read from <f>;\r\n",
      "  --rawfile a f    set variable $a to a string consisting of the contents of <f>;\r\n",
      "  --args           remaining arguments are string arguments, not files;\r\n",
      "  --jsonargs       remaining arguments are JSON arguments, not files;\r\n",
      "  --               terminates argument processing;\r\n",
      "\r\n",
      "Named arguments are also available as $ARGS.named[], while\r\n",
      "positional arguments are available as $ARGS.positional[].\r\n",
      "\r\n",
      "See the manpage for more options.\r\n"
     ]
    }
   ],
   "source": [
    "! echo \"Is the hammer ready now?\"; jq --help"
   ]
  },
  {
   "cell_type": "code",
   "execution_count": 7,
   "metadata": {},
   "outputs": [
    {
     "name": "stdout",
     "output_type": "stream",
     "text": [
      "seems so. And the steel?\n",
      "  % Total    % Received % Xferd  Average Speed   Time    Time     Time  Current\n",
      "                                 Dload  Upload   Total   Spent    Left  Speed\n",
      "  0     0    0     0    0     0      0      0 --:--:-- --:--:-- --:--:--     0curl: (6) Could not resolve host: curl\n",
      "100   365    0   365    0     0   2534      0 --:--:-- --:--:-- --:--:--  2534\n",
      "<!DOCTYPE HTML PUBLIC \"-//IETF//DTD HTML 2.0//EN\">\n",
      "<html><head>\n",
      "<title>301 Moved Permanently</title>\n",
      "</head><body>\n",
      "<h1>Moved Permanently</h1>\n",
      "<p>The document has moved <a href=\"https://interaktiv.morgenpost.de/data/corona/intensivregister.json\">here</a>.</p>\n",
      "<hr>\n",
      "<address>Apache/2.2.22 (Debian) Server at interaktiv.morgenpost.de Port 443</address>\n",
      "</body></html>\n"
     ]
    }
   ],
   "source": [
    "! echo \"seems so. And the steel?\"; curl curl https://interaktiv.morgenpost.de/corona-deutschland-intensiv-betten-monitor-krankenhaus-auslastung/data/intensivregister.json | tail"
   ]
  },
  {
   "cell_type": "code",
   "execution_count": 8,
   "metadata": {},
   "outputs": [
    {
     "name": "stdout",
     "output_type": "stream",
     "text": [
      "So go fw 2 this:\n",
      "  % Total    % Received % Xferd  Average Speed   Time    Time     Time  Current\n",
      "                                 Dload  Upload   Total   Spent    Left  Speed\n",
      "100 1146k  100 1146k    0     0  4497k      0 --:--:-- --:--:-- --:--:-- 4479k\n",
      "\t\t\t\tnull\n",
      "\t\t\t],\n",
      "\t\t\t\"behandlungsschwerpunktL3\": [\n",
      "\t\t\t\tnull\n",
      "\t\t\t],\n",
      "\t\t\t\"label\": \"Hufeland Klinikum, Mühlhausen\",\n",
      "\t\t\t\"faelleCovidAktuell\": 2\n",
      "\t\t}\n",
      "\t]\n",
      "}"
     ]
    }
   ],
   "source": [
    "! echo \"So go fw 2 this:\"; curl https://interaktiv.morgenpost.de/data/corona/intensivregister.json | tail"
   ]
  },
  {
   "cell_type": "code",
   "execution_count": 9,
   "metadata": {},
   "outputs": [
    {
     "name": "stdout",
     "output_type": "stream",
     "text": [
      "we are lucky!\r\n"
     ]
    }
   ],
   "source": [
    "! echo \"we are lucky!\""
   ]
  },
  {
   "cell_type": "code",
   "execution_count": 10,
   "metadata": {},
   "outputs": [
    {
     "name": "stdout",
     "output_type": "stream",
     "text": [
      "  % Total    % Received % Xferd  Average Speed   Time    Time     Time  Current\n",
      "                                 Dload  Upload   Total   Spent    Left  Speed\n",
      "100 1146k  100 1146k    0     0  4110k      0 --:--:-- --:--:-- --:--:-- 4125k\n"
     ]
    }
   ],
   "source": [
    "! curl https://interaktiv.morgenpost.de/data/corona/intensivregister.json -o BettenAllDE.json"
   ]
  },
  {
   "cell_type": "code",
   "execution_count": 11,
   "metadata": {},
   "outputs": [],
   "source": [
    "! cat BettenAllDE.json | jq '.data[] | select(.krankenhausStandort.bundesland == \"THUERINGEN\") | .krankenhausStandort.plz + \" \" + .meldezeitpunkt + \" co= \" + ( .faelleCovidAktuell | tostring ) + \" \" + .label + \"   HighCare: \" + .bettenStatus.statusHighCare' > BettenThur.txt"
   ]
  },
  {
   "cell_type": "code",
   "execution_count": 12,
   "metadata": {},
   "outputs": [
    {
     "name": "stdout",
     "output_type": "stream",
     "text": [
      "\"99706 2020-07-20T04:43:05Z co= 0 KMG Klinikum Sondershausen   HighCare: \"\r\n",
      "\"99734 2020-07-20T04:51:53Z co= null Südharz Klinikum Nordhausen gGmbH   HighCare: VERFUEGBAR\"\r\n",
      "\"99752 2020-07-20T04:31:55Z co= null Helios Klinik Bleicherode, Bleicherode   HighCare: \"\r\n",
      "\"99768 2020-07-20T06:52:48Z co= 5 Lungenklinik Neustadt   HighCare: VERFUEGBAR\"\r\n",
      "\"99817 2020-07-20T05:20:54Z co= 3 St. Georg Klinikum Eisenach   HighCare: VERFUEGBAR\"\r\n",
      "\"99867 2020-07-20T04:11:29Z co= 0 Helios Klinikum Gotha   HighCare: VERFUEGBAR\"\r\n",
      "\"99894 2020-07-20T06:37:23Z co= null SRH Krankenhaus Waltershausen-Friedrichroda GmbH, Standort Friedrichroda   HighCare: VERFUEGBAR\"\r\n",
      "\"99947 2020-07-20T04:13:13Z co= 0 Hufeland Klinikum, Bad Langensalza   HighCare: VERFUEGBAR\"\r\n",
      "\"99955 2020-07-20T07:19:52Z co= 0 MEDIAN Klinik Bad Tennstedt, Hauptstandort   HighCare: \"\r\n",
      "\"99974 2020-07-20T04:11:59Z co= 2 Hufeland Klinikum, Mühlhausen   HighCare: VERFUEGBAR\"\r\n"
     ]
    }
   ],
   "source": [
    "! tail BettenThur.txt"
   ]
  },
  {
   "cell_type": "code",
   "execution_count": 13,
   "metadata": {},
   "outputs": [
    {
     "name": "stdout",
     "output_type": "stream",
     "text": [
      "Dear people in Neustadt and Mühlhausen: We wich you best healthy!\r\n"
     ]
    }
   ],
   "source": [
    "! echo \"Dear people in Neustadt and Mühlhausen: We wich you best healthy!\""
   ]
  },
  {
   "cell_type": "code",
   "execution_count": 16,
   "metadata": {},
   "outputs": [
    {
     "name": "stdout",
     "output_type": "stream",
     "text": [
      "     1\t\"04600 2020-07-20T06:22:21Z co= 3 Klinikum Altenburger Land   HighCare: VERFUEGBAR\"\r\n",
      "     2\t\"07318 2020-07-20T05:00:57Z co= 0 Georgius Agricola   HighCare: VERFUEGBAR\"\r\n",
      "     3\t\"07548 2020-07-20T06:00:28Z co= 3 SRH Wald-Klinikum Gera   HighCare: VERFUEGBAR\"\r\n",
      "     4\t\"07607 2020-07-20T05:12:54Z co= 2 Waldkliniken Eisenberg   HighCare: VERFUEGBAR\"\r\n",
      "     5\t\"07747 2020-07-20T06:15:09Z co= 3 Universitätsklinikum Jena Lobeda   HighCare: VERFUEGBAR\"\r\n",
      "     6\t\"07907 2020-07-20T04:58:49Z co= null Kreiskrankenhaus Schleiz GmbH   HighCare: VERFUEGBAR\"\r\n",
      "     7\t\"07973 2020-07-20T05:28:54Z co= 8 Kreiskrankenhaus Greiz   HighCare: VERFUEGBAR\"\r\n",
      "     8\t\"36433 2020-07-20T05:50:21Z co= 1 Klinikum Bad Salzungen   HighCare: VERFUEGBAR\"\r\n",
      "     9\t\"36448 2020-07-20T06:41:46Z co= 0 m&i-Fachklinik Bad Liebenstein   HighCare: NICHT_VERFUEGBAR\"\r\n",
      "    10\t\"36448 2020-07-20T06:54:27Z co= null MEDIAN Heinrich-Mann-Klinik, MEDIAN Heinrich-Mann-Klinik Bad Liebenstein   HighCare: \"\r\n",
      "    11\t\"37308 2020-07-20T07:48:18Z co= null Eichsfeld Klinikum gGmbH, Haus St. Vinzenz Heiligenstadt   HighCare: BEGRENZT\"\r\n",
      "    12\t\"37339 2020-07-20T07:49:36Z co= null Eichsfeld Klinikum gGmbH, Haus St. Elisabeth Worbis   HighCare: VERFUEGBAR\"\r\n",
      "    13\t\"37355 2020-07-20T07:50:57Z co= null Eichsfeld Klinikum gGmbH, Haus Reifenstein   HighCare: BEGRENZT\"\r\n",
      "    14\t\"95693 2020-07-20T05:31:25Z co= 0 Ilm-Kreis-Kliniken Ilmenau   HighCare: BEGRENZT\"\r\n",
      "    15\t\"96515 2020-07-20T06:33:52Z co= 0 MEDINOS Kliniken Sonneberg   HighCare: VERFUEGBAR\"\r\n",
      "    16\t\"98527 2020-07-20T06:32:03Z co= 4 SRH Zentralklinikum Suhl   HighCare: VERFUEGBAR\"\r\n",
      "    17\t\"98574 2020-07-20T08:41:47Z co= 0 Elisabeth Klinikum Schmalkalden   HighCare: VERFUEGBAR\"\r\n",
      "    18\t\"98617 2020-07-20T04:41:15Z co= 1 HELIOS Klinikum Meiningen   HighCare: VERFUEGBAR\"\r\n",
      "    19\t\"98646 2020-07-20T05:59:02Z co= 0 Henneberg-Kliniken Hildburghausen   HighCare: VERFUEGBAR\"\r\n",
      "    20\t\"99089 2020-07-20T04:58:35Z co= 7 Helios Klinikum Erfurt   HighCare: VERFUEGBAR\"\r\n",
      "    21\t\"99097 2020-07-20T09:38:16Z co= 2 Kath. Krankenhaus St. Johann Nepomuk   HighCare: VERFUEGBAR\"\r\n",
      "    22\t\"99310 2020-07-20T05:29:15Z co= 2 Ilm-Kreis-Kliniken Arnstadt   HighCare: VERFUEGBAR\"\r\n",
      "    23\t\"99425 2020-07-20T06:39:01Z co= 1 Sophien- und Hufeland-Klinikum   HighCare: BEGRENZT\"\r\n",
      "    24\t\"99437 2020-07-19T07:14:30Z co= 5 Zentralklinik Bad Berka   HighCare: VERFUEGBAR\"\r\n",
      "    25\t\"99444 2020-07-20T09:56:54Z co= 0 Helios Klinik Blankenhain   HighCare: VERFUEGBAR\"\r\n",
      "    26\t\"99510 2020-07-20T04:52:10Z co= 0 Robert-Koch-Krankenhaus Apolda   HighCare: VERFUEGBAR\"\r\n",
      "    27\t\"99610 2020-07-20T06:41:21Z co= null KMG Klinikum Thueringen Brandenburg gGmbH, KMG Klinikum Sömmerda   HighCare: VERFUEGBAR\"\r\n",
      "    28\t\"99706 2020-07-20T04:43:05Z co= 0 KMG Klinikum Sondershausen   HighCare: \"\r\n",
      "    29\t\"99734 2020-07-20T04:51:53Z co= null Südharz Klinikum Nordhausen gGmbH   HighCare: VERFUEGBAR\"\r\n",
      "    30\t\"99752 2020-07-20T04:31:55Z co= null Helios Klinik Bleicherode, Bleicherode   HighCare: \"\r\n",
      "    31\t\"99768 2020-07-20T06:52:48Z co= 5 Lungenklinik Neustadt   HighCare: VERFUEGBAR\"\r\n",
      "    32\t\"99817 2020-07-20T05:20:54Z co= 3 St. Georg Klinikum Eisenach   HighCare: VERFUEGBAR\"\r\n",
      "    33\t\"99867 2020-07-20T04:11:29Z co= 0 Helios Klinikum Gotha   HighCare: VERFUEGBAR\"\r\n",
      "    34\t\"99894 2020-07-20T06:37:23Z co= null SRH Krankenhaus Waltershausen-Friedrichroda GmbH, Standort Friedrichroda   HighCare: VERFUEGBAR\"\r\n",
      "    35\t\"99947 2020-07-20T04:13:13Z co= 0 Hufeland Klinikum, Bad Langensalza   HighCare: VERFUEGBAR\"\r\n",
      "    36\t\"99955 2020-07-20T07:19:52Z co= 0 MEDIAN Klinik Bad Tennstedt, Hauptstandort   HighCare: \"\r\n",
      "    37\t\"99974 2020-07-20T04:11:59Z co= 2 Hufeland Klinikum, Mühlhausen   HighCare: VERFUEGBAR\"\r\n",
      "     37     391    3638\r\n",
      "Mon Jul 20 23:24:17 UTC 2020\r\n"
     ]
    }
   ],
   "source": [
    "! touch BITHLi && sort BettenThur.txt | nl | tee -a BITHLi | wc >> BITHLi && echo `date` >> BITHLi ; cat BITHLi"
   ]
  },
  {
   "cell_type": "code",
   "execution_count": 17,
   "metadata": {},
   "outputs": [
    {
     "name": "stdout",
     "output_type": "stream",
     "text": [
      "we will not count the people WITH covid, only we SHOW.\r\n"
     ]
    }
   ],
   "source": [
    "! echo \"we will not count the people WITH covid, only we SHOW.\""
   ]
  },
  {
   "cell_type": "code",
   "execution_count": 21,
   "metadata": {},
   "outputs": [
    {
     "name": "stdout",
     "output_type": "stream",
     "text": [
      "Our best wishes to the people in: Altenburg, Gera, Jena, Eisenberg, Greiz, Bad Salzungen, Suhl, Meiningen, Arnstadt, Bad Berka, Weimar, Neustadt, Eisenach und Mühlhausen! Be quick healthy!    \n"
     ]
    }
   ],
   "source": [
    "print(\"Our best wishes to the people in: Altenburg, Gera, Jena, Eisenberg, Greiz, Bad Salzungen, Suhl, Meiningen, Arnstadt, Bad Berka, Weimar, Neustadt, Eisenach und Mühlhausen! Be quick healthy!    \")"
   ]
  },
  {
   "cell_type": "code",
   "execution_count": 19,
   "metadata": {},
   "outputs": [
    {
     "name": "stdout",
     "output_type": "stream",
     "text": [
      "Every suggestion, mostly for code, are very welcome. Keep healthy!\n"
     ]
    }
   ],
   "source": [
    "print(\"Every suggestion, mostly for code, are very welcome. Keep healthy!\")"
   ]
  },
  {
   "cell_type": "code",
   "execution_count": 20,
   "metadata": {},
   "outputs": [
    {
     "name": "stdout",
     "output_type": "stream",
     "text": [
      "Mon Jul 20 23:38:25 UTC 2020\r\n",
      "this was all for the 1st ... CU! :)  \r\n"
     ]
    }
   ],
   "source": [
    "! date ; echo \"this was all for the 1st ... CU! :)  \""
   ]
  },
  {
   "cell_type": "code",
   "execution_count": null,
   "metadata": {},
   "outputs": [],
   "source": []
  }
 ],
 "metadata": {
  "kernelspec": {
   "display_name": "Python 3",
   "language": "python",
   "name": "python3"
  },
  "language_info": {
   "codemirror_mode": {
    "name": "ipython",
    "version": 3
   },
   "file_extension": ".py",
   "mimetype": "text/x-python",
   "name": "python",
   "nbconvert_exporter": "python",
   "pygments_lexer": "ipython3",
   "version": "3.6.10"
  }
 },
 "nbformat": 4,
 "nbformat_minor": 4
}
